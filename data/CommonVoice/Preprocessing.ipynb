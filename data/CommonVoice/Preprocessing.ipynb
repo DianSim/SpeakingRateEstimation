{
 "cells": [
  {
   "cell_type": "markdown",
   "id": "1d7fa608-251f-49ac-a451-cca382637353",
   "metadata": {},
   "source": [
    "The notebook preprocesses Common Voices dataset changing format to .wav with sample rate 16000 and computes labels"
   ]
  },
  {
   "cell_type": "code",
   "execution_count": 13,
   "id": "59047d5f-03d8-4e39-bdc2-43246770585a",
   "metadata": {},
   "outputs": [
    {
     "name": "stdout",
     "output_type": "stream",
     "text": [
      "cv-corpus-17.0-delta-2024-03-15-fr.tar.gz  en  fr  hy-AM  Preprocessing.ipynb\n"
     ]
    }
   ],
   "source": [
    "!ls "
   ]
  },
  {
   "cell_type": "code",
   "execution_count": 2,
   "id": "43c62d49-166c-421c-8db6-db18d902d64c",
   "metadata": {},
   "outputs": [
    {
     "name": "stdout",
     "output_type": "stream",
     "text": [
      "/home/dianasimonyan/Desktop/Thesis/SpeakingRateEstimation/data/CommonVoice\n"
     ]
    }
   ],
   "source": [
    "!pwd"
   ]
  },
  {
   "cell_type": "code",
   "execution_count": 3,
   "id": "d258c0f0-5f00-44bc-8c53-dbd5178709d6",
   "metadata": {},
   "outputs": [
    {
     "name": "stdout",
     "output_type": "stream",
     "text": [
      "clip_durations.tsv\t invalidated.tsv  train.tsv\n",
      "clips\t\t\t other.tsv\t  unvalidated_sentences.tsv\n",
      "clips_wav_16khz_labeled  reported.tsv\t  validated_sentences.tsv\n",
      "dev.tsv\t\t\t test.tsv\t  validated.tsv\n"
     ]
    }
   ],
   "source": [
    "!ls cv-corpus-17.0-2024-03-15/hy-AM/"
   ]
  },
  {
   "cell_type": "code",
   "execution_count": 4,
   "id": "97e83439-2df2-456f-a4d8-ea6127d90462",
   "metadata": {},
   "outputs": [],
   "source": [
    "import pandas as pd\n",
    "import os\n",
    "import subprocess\n",
    "import tqdm"
   ]
  },
  {
   "cell_type": "code",
   "execution_count": 5,
   "id": "b0666999-4c40-471a-a690-cbe7335791bf",
   "metadata": {},
   "outputs": [
    {
     "data": {
      "text/plain": [
       "Index(['client_id', 'path', 'sentence_id', 'sentence', 'sentence_domain',\n",
       "       'up_votes', 'down_votes', 'age', 'gender', 'accents', 'variant',\n",
       "       'locale', 'segment'],\n",
       "      dtype='object')"
      ]
     },
     "execution_count": 5,
     "metadata": {},
     "output_type": "execute_result"
    }
   ],
   "source": [
    "# Specify the path to your TSV file\n",
    "file_path = 'cv-corpus-17.0-2024-03-15/hy-AM/validated.tsv'\n",
    "df = pd.read_csv(file_path, sep='\\t')\n",
    "df.columns\n"
   ]
  },
  {
   "cell_type": "code",
   "execution_count": 6,
   "id": "869c399c-55a4-4221-b02e-28979e1d5341",
   "metadata": {},
   "outputs": [
    {
     "data": {
      "text/html": [
       "<div>\n",
       "<style scoped>\n",
       "    .dataframe tbody tr th:only-of-type {\n",
       "        vertical-align: middle;\n",
       "    }\n",
       "\n",
       "    .dataframe tbody tr th {\n",
       "        vertical-align: top;\n",
       "    }\n",
       "\n",
       "    .dataframe thead th {\n",
       "        text-align: right;\n",
       "    }\n",
       "</style>\n",
       "<table border=\"1\" class=\"dataframe\">\n",
       "  <thead>\n",
       "    <tr style=\"text-align: right;\">\n",
       "      <th></th>\n",
       "      <th>path</th>\n",
       "      <th>sentence</th>\n",
       "    </tr>\n",
       "  </thead>\n",
       "  <tbody>\n",
       "    <tr>\n",
       "      <th>0</th>\n",
       "      <td>common_voice_hy-AM_31719719.mp3</td>\n",
       "      <td>Միջպետական հարաբերություններում կարևոր դեր էին...</td>\n",
       "    </tr>\n",
       "    <tr>\n",
       "      <th>1</th>\n",
       "      <td>common_voice_hy-AM_40085486.mp3</td>\n",
       "      <td>Նա նաև լավ էր գրում մանկական ոտանավորներ։</td>\n",
       "    </tr>\n",
       "    <tr>\n",
       "      <th>2</th>\n",
       "      <td>common_voice_hy-AM_39557747.mp3</td>\n",
       "      <td>Ամենամեծ ջանքերը պահանջեց աղյուսների և կղմինդր...</td>\n",
       "    </tr>\n",
       "    <tr>\n",
       "      <th>3</th>\n",
       "      <td>common_voice_hy-AM_39967579.mp3</td>\n",
       "      <td>Եթե մոտակայքում չկան մեղվափեթակներ, ապա բերքատ...</td>\n",
       "    </tr>\n",
       "    <tr>\n",
       "      <th>4</th>\n",
       "      <td>common_voice_hy-AM_40006367.mp3</td>\n",
       "      <td>Դպրոցը հիմնականում պահվել է եկեղեցու եկամուտնե...</td>\n",
       "    </tr>\n",
       "  </tbody>\n",
       "</table>\n",
       "</div>"
      ],
      "text/plain": [
       "                              path  \\\n",
       "0  common_voice_hy-AM_31719719.mp3   \n",
       "1  common_voice_hy-AM_40085486.mp3   \n",
       "2  common_voice_hy-AM_39557747.mp3   \n",
       "3  common_voice_hy-AM_39967579.mp3   \n",
       "4  common_voice_hy-AM_40006367.mp3   \n",
       "\n",
       "                                            sentence  \n",
       "0  Միջպետական հարաբերություններում կարևոր դեր էին...  \n",
       "1          Նա նաև լավ էր գրում մանկական ոտանավորներ։  \n",
       "2  Ամենամեծ ջանքերը պահանջեց աղյուսների և կղմինդր...  \n",
       "3  Եթե մոտակայքում չկան մեղվափեթակներ, ապա բերքատ...  \n",
       "4  Դպրոցը հիմնականում պահվել է եկեղեցու եկամուտնե...  "
      ]
     },
     "execution_count": 6,
     "metadata": {},
     "output_type": "execute_result"
    }
   ],
   "source": [
    "data = df[['path', 'sentence']]\n",
    "data.head()"
   ]
  },
  {
   "cell_type": "code",
   "execution_count": 7,
   "id": "2114e142-87dc-47e6-a6fe-109470ee8524",
   "metadata": {},
   "outputs": [
    {
     "name": "stdout",
     "output_type": "stream",
     "text": [
      "(14813, 2)\n"
     ]
    }
   ],
   "source": [
    "print(data.shape)"
   ]
  },
  {
   "cell_type": "code",
   "execution_count": 8,
   "id": "5c0d8109-8d1f-4daf-b5c3-91da96f70bdf",
   "metadata": {},
   "outputs": [
    {
     "data": {
      "text/plain": [
       "0"
      ]
     },
     "execution_count": 8,
     "metadata": {},
     "output_type": "execute_result"
    }
   ],
   "source": [
    "data.duplicated().sum()"
   ]
  },
  {
   "cell_type": "code",
   "execution_count": 9,
   "id": "1b15084d-3759-4997-a7f6-dce4f5471391",
   "metadata": {},
   "outputs": [],
   "source": [
    "def AM_syl_computing(sentence):\n",
    "    \"\"\"The function takes armenian sentence as input and returns number of syllables in the sentence\"\"\"\n",
    "    arm_vowels = ['ա', 'ե', 'է', 'ը',  'ի', 'ո', 'օ', 'ու']\n",
    "    unicode_arm_vowels = [1377, 1381, 1383, 1384, 1387, 1400, 1413]\n",
    "    \n",
    "    sentence = sentence.lower()\n",
    "    syl_count = 0\n",
    "    for s in sentence:\n",
    "        if ord(s) in unicode_arm_vowels:\n",
    "            syl_count += 1\n",
    "    return syl_count\n",
    "    "
   ]
  },
  {
   "cell_type": "code",
   "execution_count": null,
   "id": "a0ad9f0b-cb90-4b83-b638-2fb5aaeb834a",
   "metadata": {},
   "outputs": [],
   "source": [
    "def Eng_syl_computing(sentence):\n",
    "    vowels = ['a', 'e', 'i', 'o', 'u', 'y']\n",
    "    # unicode_eng_vowels = [1377, 1381, 1383, 1384, 1387, 1400, 1413]\n",
    "    sentence = sentence.lower()\n",
    "    syl_count = 0\n",
    "    for s in sentence:\n",
    "        if s in vowels:\n",
    "            syl_count += 1\n",
    "    return syl_count"
   ]
  },
  {
   "cell_type": "code",
   "execution_count": 12,
   "id": "d85d4493-f213-46e1-b844-0643e7bbeb47",
   "metadata": {},
   "outputs": [
    {
     "name": "stderr",
     "output_type": "stream",
     "text": [
      "14813it [15:01, 16.43it/s]\n"
     ]
    }
   ],
   "source": [
    "root_dir = '/home/dianasimonyan/Desktop/Thesis/SpeakingRateEstimation/data/CommonVoice/cv-corpus-17.0-2024-03-15/hy-AM/clips'\n",
    "save_dir = root_dir.replace(root_dir.split(os.sep)[-1], 'clips_wav_16khz_labeled')\n",
    "os.makedirs(save_dir, exist_ok=True)\n",
    "sample_rate = 16000\n",
    "\n",
    "# ffmpeg -i input.mp3 -ar 16000 output.wav\n",
    "for i, row in tqdm.tqdm(data.iterrows()):\n",
    "    file = row['path']\n",
    "    \n",
    "    if not os.path.exists(os.path.join(root_dir, file)):\n",
    "        print('file does not exist')\n",
    "        \n",
    "    syl_count = AM_syl_computing(row['sentence'])\n",
    "\n",
    "    proc = subprocess.Popen(['ffmpeg', '-i', f'{os.path.join(root_dir, file)}', '-ar', f'{sample_rate}', f'{os.path.join(save_dir, f\"{i}_{syl_count}.wav\")}'], \n",
    "                            stdout=subprocess.PIPE, stderr=subprocess.PIPE)\n",
    "    return_code = proc.wait()\n",
    "        \n",
    "    if return_code:\n",
    "        print(f\"Subprocess failed with return code {return_code}.\") \n",
    "        print(f'#{i}. ', file)\n",
    "        print(' '.join(['ffmpeg', '-i', f'{os.path.join(root_dir, file)}', '-ar', f'{sample_rate}', f'{os.path.join(save_dir, f\"{i}_{syl_count}.wav\")}']))\n",
    "        print(proc.stdout)\n",
    "        print(proc.stderr)\n",
    "        print()\n",
    "    "
   ]
  },
  {
   "cell_type": "code",
   "execution_count": null,
   "id": "c930646d-5bb0-4f24-8ee5-e5dedde074da",
   "metadata": {},
   "outputs": [],
   "source": []
  }
 ],
 "metadata": {
  "kernelspec": {
   "display_name": "Python 3 (ipykernel)",
   "language": "python",
   "name": "python3"
  },
  "language_info": {
   "codemirror_mode": {
    "name": "ipython",
    "version": 3
   },
   "file_extension": ".py",
   "mimetype": "text/x-python",
   "name": "python",
   "nbconvert_exporter": "python",
   "pygments_lexer": "ipython3",
   "version": "3.10.14"
  }
 },
 "nbformat": 4,
 "nbformat_minor": 5
}
