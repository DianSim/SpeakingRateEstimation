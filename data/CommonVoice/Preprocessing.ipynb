{
 "cells": [
  {
   "cell_type": "markdown",
   "id": "1d7fa608-251f-49ac-a451-cca382637353",
   "metadata": {},
   "source": [
    "The notebook preprocesses Common Voices dataset changing format to .wav with sample rate 16000 and computes labels"
   ]
  },
  {
   "cell_type": "code",
   "execution_count": 1,
   "id": "59047d5f-03d8-4e39-bdc2-43246770585a",
   "metadata": {},
   "outputs": [
    {
     "name": "stdout",
     "output_type": "stream",
     "text": [
      "en  hy-AM  it  Preprocessing.ipynb  ru\n"
     ]
    }
   ],
   "source": [
    "!ls "
   ]
  },
  {
   "cell_type": "code",
   "execution_count": 2,
   "id": "43c62d49-166c-421c-8db6-db18d902d64c",
   "metadata": {},
   "outputs": [
    {
     "name": "stdout",
     "output_type": "stream",
     "text": [
      "/home/dianasimonyan/Desktop/Thesis/SpeakingRateEstimation/data/CommonVoice\n"
     ]
    }
   ],
   "source": [
    "!pwd"
   ]
  },
  {
   "cell_type": "code",
   "execution_count": 3,
   "id": "d258c0f0-5f00-44bc-8c53-dbd5178709d6",
   "metadata": {},
   "outputs": [
    {
     "name": "stdout",
     "output_type": "stream",
     "text": [
      "clip_durations.tsv  other.tsv\t  unvalidated_sentences.tsv\n",
      "clips\t\t    reported.tsv  validated_sentences.tsv\n",
      "dev.tsv\t\t    test.tsv\t  validated.tsv\n",
      "invalidated.tsv     train.tsv\n"
     ]
    }
   ],
   "source": [
    "!ls it"
   ]
  },
  {
   "cell_type": "code",
   "execution_count": 4,
   "id": "97e83439-2df2-456f-a4d8-ea6127d90462",
   "metadata": {},
   "outputs": [],
   "source": [
    "import pandas as pd\n",
    "import os\n",
    "import subprocess\n",
    "import tqdm"
   ]
  },
  {
   "cell_type": "code",
   "execution_count": 5,
   "id": "b0666999-4c40-471a-a690-cbe7335791bf",
   "metadata": {},
   "outputs": [
    {
     "data": {
      "text/plain": [
       "Index(['client_id', 'path', 'sentence_id', 'sentence', 'sentence_domain',\n",
       "       'up_votes', 'down_votes', 'age', 'gender', 'accents', 'variant',\n",
       "       'locale', 'segment'],\n",
       "      dtype='object')"
      ]
     },
     "execution_count": 5,
     "metadata": {},
     "output_type": "execute_result"
    }
   ],
   "source": [
    "# Specify the path to your TSV file\n",
    "file_path = 'it/validated.tsv'\n",
    "df = pd.read_csv(file_path, sep='\\t')\n",
    "df.columns\n"
   ]
  },
  {
   "cell_type": "code",
   "execution_count": 6,
   "id": "869c399c-55a4-4221-b02e-28979e1d5341",
   "metadata": {},
   "outputs": [
    {
     "data": {
      "text/html": [
       "<div>\n",
       "<style scoped>\n",
       "    .dataframe tbody tr th:only-of-type {\n",
       "        vertical-align: middle;\n",
       "    }\n",
       "\n",
       "    .dataframe tbody tr th {\n",
       "        vertical-align: top;\n",
       "    }\n",
       "\n",
       "    .dataframe thead th {\n",
       "        text-align: right;\n",
       "    }\n",
       "</style>\n",
       "<table border=\"1\" class=\"dataframe\">\n",
       "  <thead>\n",
       "    <tr style=\"text-align: right;\">\n",
       "      <th></th>\n",
       "      <th>path</th>\n",
       "      <th>sentence</th>\n",
       "    </tr>\n",
       "  </thead>\n",
       "  <tbody>\n",
       "    <tr>\n",
       "      <th>0</th>\n",
       "      <td>common_voice_it_23606167.mp3</td>\n",
       "      <td>Il libro ha suscitato molte polemiche a causa ...</td>\n",
       "    </tr>\n",
       "    <tr>\n",
       "      <th>1</th>\n",
       "      <td>common_voice_it_20045040.mp3</td>\n",
       "      <td>Fin dall'inizio la sede episcopale è stata imm...</td>\n",
       "    </tr>\n",
       "    <tr>\n",
       "      <th>2</th>\n",
       "      <td>common_voice_it_26970935.mp3</td>\n",
       "      <td>Fu il fondatore di molti chiostri, ospedali e ...</td>\n",
       "    </tr>\n",
       "    <tr>\n",
       "      <th>3</th>\n",
       "      <td>common_voice_it_17544185.mp3</td>\n",
       "      <td>Il vuoto assoluto?</td>\n",
       "    </tr>\n",
       "    <tr>\n",
       "      <th>4</th>\n",
       "      <td>common_voice_it_20042813.mp3</td>\n",
       "      <td>Dopo alcuni anni, egli decise di tornare in In...</td>\n",
       "    </tr>\n",
       "  </tbody>\n",
       "</table>\n",
       "</div>"
      ],
      "text/plain": [
       "                           path  \\\n",
       "0  common_voice_it_23606167.mp3   \n",
       "1  common_voice_it_20045040.mp3   \n",
       "2  common_voice_it_26970935.mp3   \n",
       "3  common_voice_it_17544185.mp3   \n",
       "4  common_voice_it_20042813.mp3   \n",
       "\n",
       "                                            sentence  \n",
       "0  Il libro ha suscitato molte polemiche a causa ...  \n",
       "1  Fin dall'inizio la sede episcopale è stata imm...  \n",
       "2  Fu il fondatore di molti chiostri, ospedali e ...  \n",
       "3                                 Il vuoto assoluto?  \n",
       "4  Dopo alcuni anni, egli decise di tornare in In...  "
      ]
     },
     "execution_count": 6,
     "metadata": {},
     "output_type": "execute_result"
    }
   ],
   "source": [
    "data = df[['path', 'sentence']]\n",
    "data.head()"
   ]
  },
  {
   "cell_type": "code",
   "execution_count": 57,
   "id": "6e954dc9-8309-4940-bae5-9d9a1558a047",
   "metadata": {},
   "outputs": [],
   "source": [
    "# it_alphabet = set()\n",
    "# for i, row in tqdm.tqdm(data.iterrows()):\n",
    "#     for ltr in row['sentence'].lower():\n",
    "#         it_alphabet.add(ltr)\n"
   ]
  },
  {
   "cell_type": "code",
   "execution_count": 58,
   "id": "8f69381b-5f04-4450-9fcc-a79a38d030ed",
   "metadata": {},
   "outputs": [],
   "source": [
    "# for s in it_alphabet:\n",
    "#     print(s, ord(s))"
   ]
  },
  {
   "cell_type": "code",
   "execution_count": 59,
   "id": "c804431f-d19a-461d-b9f1-30da13e4df3f",
   "metadata": {},
   "outputs": [],
   "source": [
    "# # vowels extracted from our dataset\n",
    "# it_reg_vowel_codes = [97, 161, 111, 1077, 1086, 105, 101, 1072, 97]\n",
    "# it_stressed_vowel_codes =[246, 228, 333, 1105, 337, 279, 365, 7877, 226, 225, 281, 232, 252, 242, 235, 283, 250, 251, 227, 240, 244, 1104,\n",
    "#            237, 238, 233, 229, 261, 236, 249, 239, 117, 243, 257, 363, 224, 234]"
   ]
  },
  {
   "cell_type": "code",
   "execution_count": 60,
   "id": "2114e142-87dc-47e6-a6fe-109470ee8524",
   "metadata": {},
   "outputs": [
    {
     "name": "stdout",
     "output_type": "stream",
     "text": [
      "(236600, 2)\n"
     ]
    }
   ],
   "source": [
    "print(data.shape)"
   ]
  },
  {
   "cell_type": "code",
   "execution_count": 61,
   "id": "c3faefd9-266c-4365-8974-822287c5b534",
   "metadata": {},
   "outputs": [
    {
     "data": {
      "text/plain": [
       "path        0\n",
       "sentence    0\n",
       "dtype: int64"
      ]
     },
     "execution_count": 61,
     "metadata": {},
     "output_type": "execute_result"
    }
   ],
   "source": [
    "data.isna().sum()"
   ]
  },
  {
   "cell_type": "code",
   "execution_count": 62,
   "id": "c6b2e57a-64b4-49db-8eb9-771f6c49d2cd",
   "metadata": {},
   "outputs": [],
   "source": [
    "data = data.dropna(how='any')"
   ]
  },
  {
   "cell_type": "code",
   "execution_count": 63,
   "id": "2f311afa-5225-489f-aa09-c87c0f74e5b2",
   "metadata": {},
   "outputs": [
    {
     "data": {
      "text/plain": [
       "path        0\n",
       "sentence    0\n",
       "dtype: int64"
      ]
     },
     "execution_count": 63,
     "metadata": {},
     "output_type": "execute_result"
    }
   ],
   "source": [
    "data.isna().sum()\n"
   ]
  },
  {
   "cell_type": "code",
   "execution_count": 64,
   "id": "5c0d8109-8d1f-4daf-b5c3-91da96f70bdf",
   "metadata": {},
   "outputs": [
    {
     "data": {
      "text/plain": [
       "0"
      ]
     },
     "execution_count": 64,
     "metadata": {},
     "output_type": "execute_result"
    }
   ],
   "source": [
    "data.duplicated().sum()"
   ]
  },
  {
   "cell_type": "code",
   "execution_count": 65,
   "id": "a9574a51-ffb0-4759-9f8b-481cc78a809d",
   "metadata": {},
   "outputs": [
    {
     "name": "stdout",
     "output_type": "stream",
     "text": [
      "(236600, 2)\n"
     ]
    }
   ],
   "source": [
    "print(data.shape)"
   ]
  },
  {
   "cell_type": "code",
   "execution_count": 59,
   "id": "1b15084d-3759-4997-a7f6-dce4f5471391",
   "metadata": {},
   "outputs": [],
   "source": [
    "def AM_syl_computing(sentence):\n",
    "    \"\"\"The function takes armenian sentence as input and returns number of syllables in the sentence\"\"\"\n",
    "    arm_vowels = ['ա', 'ե', 'է', 'ը',  'ի', 'ո', 'օ', 'ու']\n",
    "    unicode_arm_vowels = [1377, 1381, 1383, 1384, 1387, 1400, 1413]\n",
    "    \n",
    "    sentence = sentence.lower()\n",
    "    syl_count = 0\n",
    "    for s in sentence:\n",
    "        if ord(s) in unicode_arm_vowels:\n",
    "            syl_count += 1\n",
    "    return syl_count\n",
    "    "
   ]
  },
  {
   "cell_type": "code",
   "execution_count": 60,
   "id": "a0ad9f0b-cb90-4b83-b638-2fb5aaeb834a",
   "metadata": {},
   "outputs": [],
   "source": [
    "def Eng_syl_computing(sentence):\n",
    "    vowels = ['a', 'e', 'i', 'o', 'u', 'y']\n",
    "    # unicode_eng_vowels = [1377, 1381, 1383, 1384, 1387, 1400, 1413]\n",
    "    sentence = sentence.lower()\n",
    "    syl_count = 0\n",
    "    for s in sentence:\n",
    "        if s in vowels:\n",
    "            syl_count += 1\n",
    "    return syl_count"
   ]
  },
  {
   "cell_type": "code",
   "execution_count": 61,
   "id": "c91a4114-5b58-474a-a024-c06124b7d9b3",
   "metadata": {},
   "outputs": [],
   "source": [
    " def Ru_syl_computing(sentence):\n",
    "    \"\"\"The function takes Russion sentence as input and returns number of syllables in the sentence\"\"\"\n",
    "    ru_vowels = ['а', 'я', 'у', 'ю', 'о', 'е', 'ё', 'э', 'и', 'ы']\n",
    "    unicode_ru_vowels = [1072, 1103, 1091, 1102, 1086, 1077, 1105, 1101, 1080, 1099]\n",
    "    \n",
    "    sentence = sentence.lower()\n",
    "    syl_count = 0\n",
    "    for s in sentence:\n",
    "        if ord(s) in unicode_ru_vowels:\n",
    "            syl_count += 1\n",
    "    return syl_count\n",
    "    "
   ]
  },
  {
   "cell_type": "code",
   "execution_count": 52,
   "id": "6aaed2e7-4411-4a60-9891-9b52850531cb",
   "metadata": {},
   "outputs": [],
   "source": [
    "def It_syl_computing(sentence):\n",
    "    \"\"\"The function takes Italian sentence as input and returns number of syllables in the sentence\"\"\"\n",
    "    reg_vowels_codes = [ 0x0061, 0x0065, 0x0069, 0x006F , 0x0075]\n",
    "    stressed_vowels_codes = [0x00E0, 0x00E8, 0x00E9, 0x00EC,0x00F2, 0x00F3, 0x00F9]\n",
    "    reg_vowels = [chr(int(s)) for s in it_reg_vowels]\n",
    "    stressed_vowels = [chr(int(s)) for s in it_stressed_vowels]\n",
    "    \n",
    "    sentence = sentence.lower()\n",
    "    syl_count = 0\n",
    "    for s in sentence:\n",
    "        if (ord(s) in reg_vowels_codes) or (ord(s) in stressed_vowels_codes):\n",
    "            syl_count += 1\n",
    "    return syl_count"
   ]
  },
  {
   "cell_type": "code",
   "execution_count": null,
   "id": "d85d4493-f213-46e1-b844-0643e7bbeb47",
   "metadata": {},
   "outputs": [
    {
     "name": "stderr",
     "output_type": "stream",
     "text": [
      "22747it [05:48, 71.41it/s]"
     ]
    }
   ],
   "source": [
    "root_dir = '/home/dianasimonyan/Desktop/Thesis/SpeakingRateEstimation/data/CommonVoice/it/clips'\n",
    "save_dir = root_dir.replace(root_dir.split(os.sep)[-1], 'clips_wav_16khz_labeled')\n",
    "os.makedirs(save_dir, exist_ok=True)\n",
    "sample_rate = 16000\n",
    "\n",
    "# ffmpeg -i input.mp3 -ar 16000 output.wav\n",
    "for i, row in tqdm.tqdm(data.iterrows()):\n",
    "    file = row['path']\n",
    "    \n",
    "    if not os.path.exists(os.path.join(root_dir, file)):\n",
    "        print('file does not exist')\n",
    "\n",
    "    # print('sentence: ', row['sentence'])\n",
    "    syl_count = It_syl_computing(row['sentence'])\n",
    "\n",
    "    # print('label: ', syl_count)\n",
    "\n",
    "    proc = subprocess.Popen(['ffmpeg', '-i', f'{os.path.join(root_dir, file)}', '-ar', f'{sample_rate}', f'{os.path.join(save_dir, f\"{i}_{syl_count}.wav\")}'], \n",
    "                            stdout=subprocess.PIPE, stderr=subprocess.PIPE)\n",
    "    return_code = proc.wait()\n",
    "        \n",
    "    if return_code:\n",
    "        print(f\"Subprocess failed with return code {return_code}.\") \n",
    "        print(f'#{i}. ', file)\n",
    "        print(' '.join(['ffmpeg', '-i', f'{os.path.join(root_dir, file)}', '-ar', f'{sample_rate}', f'{os.path.join(save_dir, f\"{i}_{syl_count}.wav\")}']))\n",
    "        print(proc.stdout)\n",
    "        print(proc.stderr)\n",
    "        print()\n",
    "    "
   ]
  },
  {
   "cell_type": "code",
   "execution_count": null,
   "id": "c930646d-5bb0-4f24-8ee5-e5dedde074da",
   "metadata": {},
   "outputs": [],
   "source": []
  },
  {
   "cell_type": "code",
   "execution_count": null,
   "id": "ef9f966d-3015-47ff-85ca-2d9e7fcb9d73",
   "metadata": {},
   "outputs": [],
   "source": []
  }
 ],
 "metadata": {
  "kernelspec": {
   "display_name": "Python 3 (ipykernel)",
   "language": "python",
   "name": "python3"
  },
  "language_info": {
   "codemirror_mode": {
    "name": "ipython",
    "version": 3
   },
   "file_extension": ".py",
   "mimetype": "text/x-python",
   "name": "python",
   "nbconvert_exporter": "python",
   "pygments_lexer": "ipython3",
   "version": "3.10.14"
  }
 },
 "nbformat": 4,
 "nbformat_minor": 5
}
