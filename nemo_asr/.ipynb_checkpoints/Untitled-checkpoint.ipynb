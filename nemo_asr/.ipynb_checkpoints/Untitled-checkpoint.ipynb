{
 "cells": [
  {
   "cell_type": "code",
   "execution_count": 1,
   "id": "ccc3b03c-fbb2-48f2-8edb-91780183cc03",
   "metadata": {},
   "outputs": [],
   "source": [
    "import nemo.collections.asr as nemo_asr\n",
    "import glob\n",
    "import os\n",
    "import soundfile as sf\n",
    "import sounddevice as sd\n"
   ]
  },
  {
   "cell_type": "code",
   "execution_count": 2,
   "id": "4522428a-2af1-4fbb-89b8-bfa2cc268a46",
   "metadata": {},
   "outputs": [],
   "source": [
    "# !sudo apt-get install libportaudio2\n",
    "\n",
    "# !pip install sounddevice"
   ]
  },
  {
   "cell_type": "code",
   "execution_count": 3,
   "id": "aae1cbd9-b0f5-4e5c-810a-dae2aa86ad44",
   "metadata": {},
   "outputs": [],
   "source": [
    "def speaking_rate(transcript):\n",
    "    \"\"\"The function computes syllable based speaking rate\n",
    "    of an audio with given transcript\n",
    "\n",
    "    transcript(str): transcript of the audio\n",
    "    \"\"\"\n",
    "    vowels = ['a', 'e', 'i', 'o', 'u', 'y']\n",
    "    vowel_count = 0\n",
    "    for s in transcript:\n",
    "        if s.lower() in vowels:\n",
    "            vowel_count += 1\n",
    "    # return vowel_count/length\n",
    "    return vowel_count"
   ]
  },
  {
   "cell_type": "code",
   "execution_count": 4,
   "id": "ac199ead-66f3-43fc-a63c-a5cd92cf4da7",
   "metadata": {},
   "outputs": [
    {
     "name": "stdout",
     "output_type": "stream",
     "text": [
      "[NeMo I 2024-04-14 09:49:02 cloud:58] Found existing object /home/dianasimonyan/.cache/torch/NeMo/NeMo_2.0.0rc0/stt_en_conformer_transducer_small/a755afe69952642a8410330876938b83/stt_en_conformer_transducer_small.nemo.\n",
      "[NeMo I 2024-04-14 09:49:02 cloud:64] Re-using file from: /home/dianasimonyan/.cache/torch/NeMo/NeMo_2.0.0rc0/stt_en_conformer_transducer_small/a755afe69952642a8410330876938b83/stt_en_conformer_transducer_small.nemo\n",
      "[NeMo I 2024-04-14 09:49:02 common:815] Instantiating model from pre-trained checkpoint\n",
      "[NeMo I 2024-04-14 09:49:03 mixins:172] Tokenizer SentencePieceTokenizer initialized with 1024 tokens\n"
     ]
    },
    {
     "name": "stderr",
     "output_type": "stream",
     "text": [
      "[NeMo W 2024-04-14 09:49:04 modelPT:165] If you intend to do training or fine-tuning, please call the ModelPT.setup_training_data() method and provide a valid configuration file to setup the train data loader.\n",
      "    Train config : \n",
      "    manifest_filepath: /data2/nemo_asr_set_2.0/RES/tarred_audio_manifest.json\n",
      "    sample_rate: 16000\n",
      "    batch_size: 16\n",
      "    shuffle: true\n",
      "    num_workers: 4\n",
      "    pin_memory: true\n",
      "    use_start_end_token: true\n",
      "    trim_silence: false\n",
      "    max_duration: 20\n",
      "    min_duration: 0.1\n",
      "    shuffle_n: 2048\n",
      "    is_tarred: true\n",
      "    tarred_audio_filepaths: /data2/nemo_asr_set_2.0/RES/audio__OP_0..4095_CL_.tar\n",
      "    \n",
      "[NeMo W 2024-04-14 09:49:04 modelPT:172] If you intend to do validation, please call the ModelPT.setup_validation_data() or ModelPT.setup_multiple_validation_data() method and provide a valid configuration file to setup the validation data loader(s). \n",
      "    Validation config : \n",
      "    manifest_filepath:\n",
      "    - /manifests/librispeech/librivox-dev-other.json\n",
      "    - /manifests/librispeech/librivox-dev-clean.json\n",
      "    - /manifests/librispeech/librivox-test-other.json\n",
      "    - /manifests/librispeech/librivox-test-clean.json\n",
      "    sample_rate: 16000\n",
      "    batch_size: 16\n",
      "    shuffle: false\n",
      "    num_workers: 8\n",
      "    pin_memory: true\n",
      "    use_start_end_token: true\n",
      "    is_tarred: false\n",
      "    tarred_audio_filepaths: na\n",
      "    \n",
      "[NeMo W 2024-04-14 09:49:04 modelPT:178] Please call the ModelPT.setup_test_data() or ModelPT.setup_multiple_test_data() method and provide a valid configuration file to setup the test data loader(s).\n",
      "    Test config : \n",
      "    manifest_filepath:\n",
      "    - /manifests/librispeech/librivox-dev-other.json\n",
      "    - /manifests/librispeech/librivox-dev-clean.json\n",
      "    - /manifests/librispeech/librivox-test-other.json\n",
      "    - /manifests/librispeech/librivox-test-clean.json\n",
      "    sample_rate: 16000\n",
      "    batch_size: 16\n",
      "    shuffle: false\n",
      "    num_workers: 8\n",
      "    pin_memory: true\n",
      "    use_start_end_token: true\n",
      "    is_tarred: false\n",
      "    tarred_audio_filepaths: na\n",
      "    \n"
     ]
    },
    {
     "name": "stdout",
     "output_type": "stream",
     "text": [
      "[NeMo I 2024-04-14 09:49:04 features:289] PADDING: 0\n"
     ]
    },
    {
     "name": "stderr",
     "output_type": "stream",
     "text": [
      "[NeMo W 2024-04-14 09:49:04 nemo_logging:349] /home/dianasimonyan/anaconda3/envs/nemo/lib/python3.10/site-packages/torch/nn/modules/rnn.py:83: UserWarning: dropout option adds dropout after all but last recurrent layer, so non-zero dropout expects num_layers greater than 1, but got dropout=0.1 and num_layers=1\n",
      "      warnings.warn(\"dropout option adds dropout after all but last \"\n",
      "    \n"
     ]
    },
    {
     "name": "stdout",
     "output_type": "stream",
     "text": [
      "[NeMo I 2024-04-14 09:49:04 rnnt_models:222] Using RNNT Loss : warprnnt_numba\n",
      "    Loss warprnnt_numba_kwargs: {'fastemit_lambda': 0.0}\n",
      "[NeMo I 2024-04-14 09:49:04 rnnt_models:222] Using RNNT Loss : warprnnt_numba\n",
      "    Loss warprnnt_numba_kwargs: {'fastemit_lambda': 0.0}\n",
      "[NeMo I 2024-04-14 09:49:04 rnnt_models:222] Using RNNT Loss : warprnnt_numba\n",
      "    Loss warprnnt_numba_kwargs: {'fastemit_lambda': 0.0}\n",
      "[NeMo I 2024-04-14 09:49:05 save_restore_connector:263] Model EncDecRNNTBPEModel was successfully restored from /home/dianasimonyan/.cache/torch/NeMo/NeMo_2.0.0rc0/stt_en_conformer_transducer_small/a755afe69952642a8410330876938b83/stt_en_conformer_transducer_small.nemo.\n"
     ]
    }
   ],
   "source": [
    "asr_model = nemo_asr.models.ASRModel.from_pretrained(\"stt_en_conformer_transducer_small\")"
   ]
  },
  {
   "cell_type": "code",
   "execution_count": 5,
   "id": "059eaff8-2558-4e64-a5fc-b2ae2328bc9a",
   "metadata": {},
   "outputs": [],
   "source": [
    "data_dir = '/home/dianasimonyan/Desktop/Thesis/SpeakingRateEstimation/data/LibriSpeech/test-clean-labeled'\n",
    "file_pathes = glob.glob(data_dir + \"/**/*.wav\", recursive=True)"
   ]
  },
  {
   "cell_type": "code",
   "execution_count": 6,
   "id": "31c89b49-74c8-4a3b-921f-cad569e5f285",
   "metadata": {},
   "outputs": [
    {
     "data": {
      "text/plain": [
       "2620"
      ]
     },
     "execution_count": 6,
     "metadata": {},
     "output_type": "execute_result"
    }
   ],
   "source": [
    "len(file_pathes)"
   ]
  },
  {
   "cell_type": "code",
   "execution_count": 7,
   "id": "699c6c8b-fb1f-4484-b0f2-e802b49e2b9e",
   "metadata": {},
   "outputs": [],
   "source": [
    "# # Extract data and sampling rate from file\n",
    "# sd.play(data, fs)\n",
    "# status = sd.wait()  # Wait until file is done playing"
   ]
  },
  {
   "cell_type": "code",
   "execution_count": null,
   "id": "cd16e2a6-2d02-4394-818a-623c931580ec",
   "metadata": {},
   "outputs": [
    {
     "name": "stdout",
     "output_type": "stream",
     "text": [
      "audio path:  /home/dianasimonyan/Desktop/Thesis/SpeakingRateEstimation/data/LibriSpeech/test-clean-labeled/3570/5695/1_88.wav\n",
      "csyl:  88\n",
      "sp_rate:  5.980292218824329\n"
     ]
    },
    {
     "name": "stderr",
     "output_type": "stream",
     "text": [
      "Transcribing: 100%|███████████████████████████████████████████████████████████████████████████████████████████████| 1/1 [00:00<00:00,  2.68it/s]\n"
     ]
    },
    {
     "name": "stdout",
     "output_type": "stream",
     "text": [
      "the dependent who was first delegated for these duties was the wife or the chief wife and as would be expected in the later development of the institution when the number of persons by whom these duties are customarily performed gradually narrows the wife remains the last\n",
      "pred_csyl:  88\n",
      "pred sp_rate:  5.980292218824329\n",
      "audio path:  /home/dianasimonyan/Desktop/Thesis/SpeakingRateEstimation/data/LibriSpeech/test-clean-labeled/3570/5695/11_56.wav\n",
      "csyl:  56\n",
      "sp_rate:  6.779661016949153\n"
     ]
    },
    {
     "name": "stderr",
     "output_type": "stream",
     "text": [
      "Transcribing: 100%|███████████████████████████████████████████████████████████████████████████████████████████████| 1/1 [00:00<00:00,  9.15it/s]\n"
     ]
    },
    {
     "name": "stdout",
     "output_type": "stream",
     "text": [
      "it is evident therefore that the present trend of the development is in the direction of heightening the utility of conspicuous consumption as compared with leisure\n",
      "pred_csyl:  56\n",
      "pred sp_rate:  6.779661016949153\n",
      "audio path:  /home/dianasimonyan/Desktop/Thesis/SpeakingRateEstimation/data/LibriSpeech/test-clean-labeled/3570/5695/5_122.wav\n",
      "csyl:  122\n",
      "sp_rate:  6.0908637044433345\n"
     ]
    },
    {
     "name": "stderr",
     "output_type": "stream",
     "text": [
      "Transcribing: 100%|███████████████████████████████████████████████████████████████████████████████████████████████| 1/1 [00:00<00:00,  4.76it/s]\n"
     ]
    },
    {
     "name": "stdout",
     "output_type": "stream",
     "text": [
      "the man of the household also can do something in this direction and indeed he commonly does but with a still lower descent into the levels of indigence along the margin of the slums the man and presently also the children virtually ceased to consume valuable goods for appearances and the woman remains virtually the sole exponent of the household's pecuniary decency\n",
      "pred_csyl:  122\n",
      "pred sp_rate:  6.0908637044433345\n",
      "audio path:  /home/dianasimonyan/Desktop/Thesis/SpeakingRateEstimation/data/LibriSpeech/test-clean-labeled/3570/5695/9_31.wav\n",
      "csyl:  31\n",
      "sp_rate:  6.169154228855721\n"
     ]
    },
    {
     "name": "stderr",
     "output_type": "stream",
     "text": [
      "Transcribing: 100%|███████████████████████████████████████████████████████████████████████████████████████████████| 1/1 [00:00<00:00, 13.16it/s]\n"
     ]
    },
    {
     "name": "stdout",
     "output_type": "stream",
     "text": [
      "each will therefore serve about equally well during the earlier stages of social growth\n",
      "pred_csyl:  31\n",
      "pred sp_rate:  6.169154228855721\n",
      "audio path:  /home/dianasimonyan/Desktop/Thesis/SpeakingRateEstimation/data/LibriSpeech/test-clean-labeled/3570/5695/15_52.wav\n",
      "csyl:  52\n",
      "sp_rate:  6.5408805031446535\n"
     ]
    },
    {
     "name": "stderr",
     "output_type": "stream",
     "text": [
      "Transcribing: 100%|███████████████████████████████████████████████████████████████████████████████████████████████| 1/1 [00:00<00:00,  8.20it/s]\n"
     ]
    },
    {
     "name": "stdout",
     "output_type": "stream",
     "text": [
      "the result is a great mobility of the labour employed in printing perhaps greater than in any other equally well defined and considerable body of workmen\n",
      "pred_csyl:  53\n",
      "pred sp_rate:  6.666666666666666\n",
      "audio path:  /home/dianasimonyan/Desktop/Thesis/SpeakingRateEstimation/data/LibriSpeech/test-clean-labeled/3570/5695/2_53.wav\n",
      "csyl:  53\n",
      "sp_rate:  6.790518898142217\n"
     ]
    },
    {
     "name": "stderr",
     "output_type": "stream",
     "text": [
      "Transcribing: 100%|███████████████████████████████████████████████████████████████████████████████████████████████| 1/1 [00:00<00:00,  8.86it/s]\n"
     ]
    },
    {
     "name": "stdout",
     "output_type": "stream",
     "text": [
      "but as we descend the social scale the point is presently reached where the duties of vicara's leisure and consumption devolve upon the wife alone\n",
      "pred_csyl:  51\n",
      "pred sp_rate:  6.534272901985907\n",
      "audio path:  /home/dianasimonyan/Desktop/Thesis/SpeakingRateEstimation/data/LibriSpeech/test-clean-labeled/3570/5695/7_57.wav\n",
      "csyl:  57\n",
      "sp_rate:  5.84315735520246\n"
     ]
    },
    {
     "name": "stderr",
     "output_type": "stream",
     "text": [
      "Transcribing: 100%|███████████████████████████████████████████████████████████████████████████████████████████████| 1/1 [00:00<00:00,  7.69it/s]\n"
     ]
    },
    {
     "name": "stdout",
     "output_type": "stream",
     "text": [
      "there is no class in no country that has yielded so objectly before the pressure of physical want as to deny themselves all gratification of this higher or spiritual need\n",
      "pred_csyl:  57\n",
      "pred sp_rate:  5.84315735520246\n",
      "audio path:  /home/dianasimonyan/Desktop/Thesis/SpeakingRateEstimation/data/LibriSpeech/test-clean-labeled/3570/5695/4_69.wav\n",
      "csyl:  69\n",
      "sp_rate:  6.5094339622641515\n"
     ]
    },
    {
     "name": "stderr",
     "output_type": "stream",
     "text": [
      "Transcribing: 100%|███████████████████████████████████████████████████████████████████████████████████████████████| 1/1 [00:00<00:00,  6.75it/s]\n"
     ]
    },
    {
     "name": "stdout",
     "output_type": "stream",
     "text": [
      "if beautier comfort is achieved and it is a more or less fortuitous circumstance if they are they must be achieved by means and methods that commend themselves to the great economic law of wasted effort\n",
      "pred_csyl:  69\n",
      "pred sp_rate:  6.5094339622641515\n",
      "audio path:  /home/dianasimonyan/Desktop/Thesis/SpeakingRateEstimation/data/LibriSpeech/test-clean-labeled/3570/5695/10_30.wav\n",
      "csyl:  30\n",
      "sp_rate:  6.430868167202572\n"
     ]
    },
    {
     "name": "stderr",
     "output_type": "stream",
     "text": [
      "Transcribing: 100%|███████████████████████████████████████████████████████████████████████████████████████████████| 1/1 [00:00<00:00, 12.93it/s]\n"
     ]
    },
    {
     "name": "stdout",
     "output_type": "stream",
     "text": [
      "the modern organization of industry works in the same direction also by another line\n",
      "pred_csyl:  30\n",
      "pred sp_rate:  6.430868167202572\n",
      "audio path:  /home/dianasimonyan/Desktop/Thesis/SpeakingRateEstimation/data/LibriSpeech/test-clean-labeled/3570/5695/8_38.wav\n",
      "csyl:  38\n",
      "sp_rate:  5.551497443389335\n"
     ]
    },
    {
     "name": "stderr",
     "output_type": "stream",
     "text": [
      "Transcribing: 100%|███████████████████████████████████████████████████████████████████████████████████████████████| 1/1 [00:00<00:00,  8.21it/s]\n"
     ]
    },
    {
     "name": "stdout",
     "output_type": "stream",
     "text": [
      "the question is which of the two methods will most effectively reach the persons whose convictions it is desired to affect\n",
      "pred_csyl:  38\n",
      "pred sp_rate:  5.551497443389335\n",
      "audio path:  /home/dianasimonyan/Desktop/Thesis/SpeakingRateEstimation/data/LibriSpeech/test-clean-labeled/3570/5695/0_26.wav\n",
      "csyl:  26\n",
      "sp_rate:  5.383022774327122\n"
     ]
    },
    {
     "name": "stderr",
     "output_type": "stream",
     "text": [
      "Transcribing: 100%|███████████████████████████████████████████████████████████████████████████████████████████████| 1/1 [00:00<00:00, 12.37it/s]\n"
     ]
    },
    {
     "name": "stdout",
     "output_type": "stream",
     "text": [
      "in a general way though not wholly nor consistently these two groups coincide\n",
      "pred_csyl:  26\n",
      "pred sp_rate:  5.383022774327122\n",
      "audio path:  /home/dianasimonyan/Desktop/Thesis/SpeakingRateEstimation/data/LibriSpeech/test-clean-labeled/3570/5695/3_31.wav\n",
      "csyl:  31\n",
      "sp_rate:  5.788982259570495\n"
     ]
    },
    {
     "name": "stderr",
     "output_type": "stream",
     "text": [
      "Transcribing: 100%|███████████████████████████████████████████████████████████████████████████████████████████████| 1/1 [00:00<00:00,  9.29it/s]\n"
     ]
    },
    {
     "name": "stdout",
     "output_type": "stream",
     "text": [
      "in the communities of the western culture this point is at present found among the lower middle class\n",
      "pred_csyl:  31\n",
      "pred sp_rate:  5.788982259570495\n",
      "audio path:  /home/dianasimonyan/Desktop/Thesis/SpeakingRateEstimation/data/LibriSpeech/test-clean-labeled/3570/5695/13_30.wav\n",
      "csyl:  30\n",
      "sp_rate:  6.4655172413793105\n"
     ]
    },
    {
     "name": "stderr",
     "output_type": "stream",
     "text": [
      "Transcribing: 100%|███████████████████████████████████████████████████████████████████████████████████████████████| 1/1 [00:00<00:00, 10.59it/s]\n"
     ]
    },
    {
     "name": "stdout",
     "output_type": "stream",
     "text": [
      "consumption becomes a larger element in the standard of living in the city than in the country\n",
      "pred_csyl:  30\n",
      "pred sp_rate:  6.4655172413793105\n",
      "audio path:  /home/dianasimonyan/Desktop/Thesis/SpeakingRateEstimation/data/LibriSpeech/test-clean-labeled/3570/5695/14_71.wav\n",
      "csyl:  71\n",
      "sp_rate:  6.736242884250475\n"
     ]
    },
    {
     "name": "stderr",
     "output_type": "stream",
     "text": [
      "Transcribing: 100%|███████████████████████████████████████████████████████████████████████████████████████████████| 1/1 [00:00<00:00,  6.32it/s]\n"
     ]
    },
    {
     "name": "stdout",
     "output_type": "stream",
     "text": [
      "among the country population its places to some extent taken by savings and home comforts known through the medium of neighbourhood gossip sufficiently to serve the like general purpose of pecuniary repute\n",
      "pred_csyl:  71\n",
      "pred sp_rate:  6.736242884250475\n",
      "audio path:  /home/dianasimonyan/Desktop/Thesis/SpeakingRateEstimation/data/LibriSpeech/test-clean-labeled/3570/5695/12_100.wav\n",
      "csyl:  100\n",
      "sp_rate:  6.775067750677507\n"
     ]
    },
    {
     "name": "stderr",
     "output_type": "stream",
     "text": [
      "Transcribing: 100%|███████████████████████████████████████████████████████████████████████████████████████████████| 1/1 [00:00<00:00,  5.39it/s]\n"
     ]
    },
    {
     "name": "stdout",
     "output_type": "stream",
     "text": [
      "it is also noticeable that the service of consumption as a means of repute as well as the insistence on it as an element of decency is at its best in those portions of the community where the human contact of the individual is widest and the mobility of the population is greatest\n",
      "pred_csyl:  96\n",
      "pred sp_rate:  6.504065040650406\n",
      "audio path:  /home/dianasimonyan/Desktop/Thesis/SpeakingRateEstimation/data/LibriSpeech/test-clean-labeled/3570/5695/6_43.wav\n",
      "csyl:  43\n",
      "sp_rate:  5.756358768406962\n"
     ]
    },
    {
     "name": "stderr",
     "output_type": "stream",
     "text": [
      "Transcribing: 100%|███████████████████████████████████████████████████████████████████████████████████████████████| 1/1 [00:00<00:00,  8.49it/s]\n"
     ]
    },
    {
     "name": "stdout",
     "output_type": "stream",
     "text": [
      "very much of squalor and discomfort will be endured before the last trinket or the last pretence of pecuniary decency is put away\n",
      "pred_csyl:  43\n",
      "pred sp_rate:  5.756358768406962\n",
      "audio path:  /home/dianasimonyan/Desktop/Thesis/SpeakingRateEstimation/data/LibriSpeech/test-clean-labeled/3570/5694/13_38.wav\n",
      "csyl:  38\n",
      "sp_rate:  6.7736185383244205\n"
     ]
    },
    {
     "name": "stderr",
     "output_type": "stream",
     "text": [
      "Transcribing: 100%|███████████████████████████████████████████████████████████████████████████████████████████████| 1/1 [00:00<00:00,  9.63it/s]\n"
     ]
    },
    {
     "name": "stdout",
     "output_type": "stream",
     "text": [
      "this differentiation is furthered by the inheritance of wealth and the consequent inheritance of gentility\n",
      "pred_csyl:  38\n",
      "pred sp_rate:  6.7736185383244205\n",
      "audio path:  /home/dianasimonyan/Desktop/Thesis/SpeakingRateEstimation/data/LibriSpeech/test-clean-labeled/3570/5694/16_84.wav\n",
      "csyl:  84\n",
      "sp_rate:  5.936395759717314\n"
     ]
    },
    {
     "name": "stderr",
     "output_type": "stream",
     "text": [
      "Transcribing: 100%|███████████████████████████████████████████████████████████████████████████████████████████████| 1/1 [00:00<00:00,  5.66it/s]\n"
     ]
    },
    {
     "name": "stdout",
     "output_type": "stream",
     "text": [
      "many of these again and also many of the other aristocracy of less degree have in turn attached to their persons a more or less comprehensive group of vicarious consumer in the persons of their wives and children their servants retainers et cetera\n",
      "pred_csyl:  84\n",
      "pred sp_rate:  5.936395759717314\n",
      "audio path:  /home/dianasimonyan/Desktop/Thesis/SpeakingRateEstimation/data/LibriSpeech/test-clean-labeled/3570/5694/3_108.wav\n",
      "csyl:  108\n",
      "sp_rate:  5.676741130091985\n"
     ]
    },
    {
     "name": "stderr",
     "output_type": "stream",
     "text": [
      "Transcribing: 100%|███████████████████████████████████████████████████████████████████████████████████████████████| 1/1 [00:00<00:00,  4.62it/s]\n"
     ]
    },
    {
     "name": "stdout",
     "output_type": "stream",
     "text": [
      "with a further advance and culture this taboo may change into simple custom of a more or less rigorous character but whatever be the theoretical basis of the distinction which is maintained whether it be a taboo or a larger conventionality the features of the conventional scheme of consumption do not change easily\n",
      "pred_csyl:  110\n",
      "pred sp_rate:  5.781865965834429\n",
      "audio path:  /home/dianasimonyan/Desktop/Thesis/SpeakingRateEstimation/data/LibriSpeech/test-clean-labeled/3570/5694/20_76.wav\n",
      "csyl:  76\n",
      "sp_rate:  5.415033843961525\n"
     ]
    },
    {
     "name": "stderr",
     "output_type": "stream",
     "text": [
      "Transcribing: 100%|███████████████████████████████████████████████████████████████████████████████████████████████| 1/1 [00:00<00:00,  5.97it/s]\n"
     ]
    },
    {
     "name": "stdout",
     "output_type": "stream",
     "text": [
      "so those offices which are by right the proper employment of the leisure class are noble such as government fighting hunting the care of arms and accoutrements and the like in short those which may be classed as ostensibly predatory employments\n",
      "pred_csyl:  76\n",
      "pred sp_rate:  5.415033843961525\n",
      "audio path:  /home/dianasimonyan/Desktop/Thesis/SpeakingRateEstimation/data/LibriSpeech/test-clean-labeled/3570/5694/21_66.wav\n",
      "csyl:  66\n",
      "sp_rate:  6.252960682141166\n"
     ]
    },
    {
     "name": "stderr",
     "output_type": "stream",
     "text": [
      "Transcribing: 100%|███████████████████████████████████████████████████████████████████████████████████████████████| 1/1 [00:00<00:00,  7.59it/s]\n"
     ]
    },
    {
     "name": "stdout",
     "output_type": "stream",
     "text": [
      "whenever as in these cases the menial service in question has to do directly with the primary leisure employments of fighting and hunting it easily acquies a reflected honorific character\n",
      "pred_csyl:  66\n",
      "pred sp_rate:  6.252960682141166\n",
      "audio path:  /home/dianasimonyan/Desktop/Thesis/SpeakingRateEstimation/data/LibriSpeech/test-clean-labeled/3570/5694/19_23.wav\n",
      "csyl:  23\n",
      "sp_rate:  6.125166444740346\n"
     ]
    },
    {
     "name": "stderr",
     "output_type": "stream",
     "text": [
      "Transcribing: 100%|███████████████████████████████████████████████████████████████████████████████████████████████| 1/1 [00:00<00:00, 10.50it/s]\n"
     ]
    },
    {
     "name": "stdout",
     "output_type": "stream",
     "text": [
      "but the general distinction is not on that account to be overlooked\n",
      "pred_csyl:  23\n",
      "pred sp_rate:  6.125166444740346\n",
      "audio path:  /home/dianasimonyan/Desktop/Thesis/SpeakingRateEstimation/data/LibriSpeech/test-clean-labeled/3570/5694/4_27.wav\n",
      "csyl:  27\n",
      "sp_rate:  5.065666041275797\n"
     ]
    },
    {
     "name": "stderr",
     "output_type": "stream",
     "text": [
      "Transcribing: 100%|███████████████████████████████████████████████████████████████████████████████████████████████| 1/1 [00:00<00:00, 10.68it/s]\n"
     ]
    },
    {
     "name": "stdout",
     "output_type": "stream",
     "text": [
      "in the nature of things luxuries and the comforts of life belong to the leisure class\n",
      "pred_csyl:  27\n",
      "pred sp_rate:  5.065666041275797\n",
      "audio path:  /home/dianasimonyan/Desktop/Thesis/SpeakingRateEstimation/data/LibriSpeech/test-clean-labeled/3570/5694/18_44.wav\n",
      "csyl:  44\n",
      "sp_rate:  5.63019833653231\n"
     ]
    },
    {
     "name": "stderr",
     "output_type": "stream",
     "text": [
      "Transcribing: 100%|███████████████████████████████████████████████████████████████████████████████████████████████| 1/1 [00:00<00:00,  8.92it/s]\n"
     ]
    },
    {
     "name": "stdout",
     "output_type": "stream",
     "text": [
      "the wearers of uniforms and liveries may be roughly divided into two classes the free and the servile or the noble and the ignoble\n",
      "pred_csyl:  44\n",
      "pred sp_rate:  5.63019833653231\n",
      "audio path:  /home/dianasimonyan/Desktop/Thesis/SpeakingRateEstimation/data/LibriSpeech/test-clean-labeled/3570/5694/9_73.wav\n",
      "csyl:  73\n",
      "sp_rate:  5.791352637842126\n"
     ]
    },
    {
     "name": "stderr",
     "output_type": "stream",
     "text": [
      "Transcribing: 100%|███████████████████████████████████████████████████████████████████████████████████████████████| 1/1 [00:00<00:00,  6.42it/s]\n"
     ]
    },
    {
     "name": "stdout",
     "output_type": "stream",
     "text": [
      "with many qualifications with more qualifications as the patriarchal tradition has gradually weakened the general rule is felt to be right unbinding that women should consume only for the benefit of their masters\n",
      "pred_csyl:  73\n",
      "pred sp_rate:  5.791352637842126\n",
      "audio path:  /home/dianasimonyan/Desktop/Thesis/SpeakingRateEstimation/data/LibriSpeech/test-clean-labeled/3570/5694/15_49.wav\n",
      "csyl:  49\n",
      "sp_rate:  5.809128630705394\n"
     ]
    },
    {
     "name": "stderr",
     "output_type": "stream",
     "text": [
      "Transcribing: 100%|███████████████████████████████████████████████████████████████████████████████████████████████| 1/1 [00:00<00:00,  8.81it/s]\n"
     ]
    },
    {
     "name": "stdout",
     "output_type": "stream",
     "text": [
      "so many of them however as make up the retainer and hangerson of the patron may be classed as vicarious consumer without qualification\n",
      "pred_csyl:  49\n",
      "pred sp_rate:  5.809128630705394\n",
      "audio path:  /home/dianasimonyan/Desktop/Thesis/SpeakingRateEstimation/data/LibriSpeech/test-clean-labeled/3570/5694/22_28.wav\n",
      "csyl:  28\n",
      "sp_rate:  6.5192083818393485\n"
     ]
    },
    {
     "name": "stderr",
     "output_type": "stream",
     "text": [
      "Transcribing: 100%|███████████████████████████████████████████████████████████████████████████████████████████████| 1/1 [00:00<00:00, 13.38it/s]\n"
     ]
    },
    {
     "name": "stdout",
     "output_type": "stream",
     "text": [
      "the livery becomes obnoxious to nearly all who are required to wear it\n",
      "pred_csyl:  28\n",
      "pred sp_rate:  6.5192083818393485\n",
      "audio path:  /home/dianasimonyan/Desktop/Thesis/SpeakingRateEstimation/data/LibriSpeech/test-clean-labeled/3570/5694/11_70.wav\n",
      "csyl:  70\n",
      "sp_rate:  6.346328195829556\n"
     ]
    },
    {
     "name": "stderr",
     "output_type": "stream",
     "text": [
      "Transcribing: 100%|███████████████████████████████████████████████████████████████████████████████████████████████| 1/1 [00:00<00:00,  7.12it/s]\n"
     ]
    },
    {
     "name": "stdout",
     "output_type": "stream",
     "text": [
      "the custom of festive gatherings probably originated in motives of conviviality and religion these motives are also present in the later development but they do not continue to be the sole motives\n",
      "pred_csyl:  70\n",
      "pred sp_rate:  6.346328195829556\n",
      "audio path:  /home/dianasimonyan/Desktop/Thesis/SpeakingRateEstimation/data/LibriSpeech/test-clean-labeled/3570/5694/14_72.wav\n",
      "csyl:  72\n",
      "sp_rate:  6.39715681919147\n"
     ]
    },
    {
     "name": "stderr",
     "output_type": "stream",
     "text": [
      "Transcribing: 100%|███████████████████████████████████████████████████████████████████████████████████████████████| 1/1 [00:00<00:00,  6.79it/s]\n"
     ]
    },
    {
     "name": "stdout",
     "output_type": "stream",
     "text": [
      "many of these affiliated gentlemen of leisure are at the same time lesser men of substance in their own right so that some of them are scarcely at all others only partially to be rated as vicarious consumers\n",
      "pred_csyl:  72\n",
      "pred sp_rate:  6.39715681919147\n",
      "audio path:  /home/dianasimonyan/Desktop/Thesis/SpeakingRateEstimation/data/LibriSpeech/test-clean-labeled/3570/5694/8_48.wav\n",
      "csyl:  48\n",
      "sp_rate:  5.055292259083728\n"
     ]
    },
    {
     "name": "stderr",
     "output_type": "stream",
     "text": [
      "Transcribing: 100%|███████████████████████████████████████████████████████████████████████████████████████████████| 1/1 [00:00<00:00,  8.18it/s]\n"
     ]
    },
    {
     "name": "stdout",
     "output_type": "stream",
     "text": [
      "the consumption of luxuries in the true sense is a consumption directed to the comfort of the consumer himself and is therefore a mark of the master\n",
      "pred_csyl:  48\n",
      "pred sp_rate:  5.055292259083728\n",
      "audio path:  /home/dianasimonyan/Desktop/Thesis/SpeakingRateEstimation/data/LibriSpeech/test-clean-labeled/3570/5694/10_78.wav\n",
      "csyl:  78\n",
      "sp_rate:  5.997693194925028\n"
     ]
    },
    {
     "name": "stderr",
     "output_type": "stream",
     "text": [
      "Transcribing: 100%|███████████████████████████████████████████████████████████████████████████████████████████████| 1/1 [00:00<00:00,  5.86it/s]\n"
     ]
    },
    {
     "name": "stdout",
     "output_type": "stream",
     "text": [
      "the objection of course presents itself that expenditure on women's dress and household paraphernalia is an obvious exception to this rule but it will appear in the sequel that this exception is much more obvious than substantial\n",
      "pred_csyl:  78\n",
      "pred sp_rate:  5.997693194925028\n",
      "audio path:  /home/dianasimonyan/Desktop/Thesis/SpeakingRateEstimation/data/LibriSpeech/test-clean-labeled/3570/5694/2_60.wav\n",
      "csyl:  60\n",
      "sp_rate:  5.652378709373528\n"
     ]
    },
    {
     "name": "stderr",
     "output_type": "stream",
     "text": [
      "Transcribing: 100%|███████████████████████████████████████████████████████████████████████████████████████████████| 1/1 [00:00<00:00,  7.51it/s]\n"
     ]
    },
    {
     "name": "stdout",
     "output_type": "stream",
     "text": [
      "such consumption as falls through the women is merely incidental to their work it is a means to their continued labour and not a consumption directed to their own comfort and fullness of life\n",
      "pred_csyl:  61\n",
      "pred sp_rate:  5.74658502119642\n",
      "audio path:  /home/dianasimonyan/Desktop/Thesis/SpeakingRateEstimation/data/LibriSpeech/test-clean-labeled/3570/5694/6_80.wav\n",
      "csyl:  80\n",
      "sp_rate:  5.515339538090314\n"
     ]
    },
    {
     "name": "stderr",
     "output_type": "stream",
     "text": [
      "Transcribing: 100%|███████████████████████████████████████████████████████████████████████████████████████████████| 1/1 [00:00<00:00,  5.19it/s]\n"
     ]
    },
    {
     "name": "stdout",
     "output_type": "stream",
     "text": [
      "drenus and the other pathological consequences of the free use of stimulants therefore tend in their turn to become unerfic as being a mark at the second remove of the superior status of those who are able to afford the indulgence\n",
      "pred_csyl:  78\n",
      "pred sp_rate:  5.377456049638056\n",
      "audio path:  /home/dianasimonyan/Desktop/Thesis/SpeakingRateEstimation/data/LibriSpeech/test-clean-labeled/3570/5694/17_54.wav\n",
      "csyl:  54\n",
      "sp_rate:  6.47870425914817\n"
     ]
    },
    {
     "name": "stderr",
     "output_type": "stream",
     "text": [
      "Transcribing: 100%|███████████████████████████████████████████████████████████████████████████████████████████████| 1/1 [00:00<00:00,  8.45it/s]\n"
     ]
    },
    {
     "name": "stdout",
     "output_type": "stream",
     "text": [
      "the wearing of uniforms or liveries implies a considerable degree of dependence and may even be said to be a mark of servitude real or ostensible\n",
      "pred_csyl:  54\n",
      "pred sp_rate:  6.47870425914817\n",
      "audio path:  /home/dianasimonyan/Desktop/Thesis/SpeakingRateEstimation/data/LibriSpeech/test-clean-labeled/3570/5694/0_78.wav\n",
      "csyl:  78\n",
      "sp_rate:  6.454282167976831\n"
     ]
    },
    {
     "name": "stderr",
     "output_type": "stream",
     "text": [
      "Transcribing: 100%|███████████████████████████████████████████████████████████████████████████████████████████████| 1/1 [00:00<00:00,  6.51it/s]\n"
     ]
    },
    {
     "name": "stdout",
     "output_type": "stream",
     "text": [
      "but already at a point in economic evolution far antating the emergence of the lady specialized consumption of goods as an evidence of pecuniary strength had begun to work out in a more or less elaborate system\n",
      "pred_csyl:  77\n",
      "pred sp_rate:  6.371534960695076\n",
      "audio path:  /home/dianasimonyan/Desktop/Thesis/SpeakingRateEstimation/data/LibriSpeech/test-clean-labeled/3570/5694/5_44.wav\n",
      "csyl:  44\n",
      "sp_rate:  5.234979179060083\n"
     ]
    },
    {
     "name": "stderr",
     "output_type": "stream",
     "text": [
      "Transcribing: 100%|███████████████████████████████████████████████████████████████████████████████████████████████| 1/1 [00:00<00:00,  9.12it/s]\n"
     ]
    },
    {
     "name": "stdout",
     "output_type": "stream",
     "text": [
      "under the taboo certain victuals and more particularly certain beverages are strictly reserved for the use of the superior class\n",
      "pred_csyl:  45\n",
      "pred sp_rate:  5.353955978584176\n",
      "audio path:  /home/dianasimonyan/Desktop/Thesis/SpeakingRateEstimation/data/LibriSpeech/test-clean-labeled/3570/5694/7_59.wav\n",
      "csyl:  59\n",
      "sp_rate:  5.59506875296349\n"
     ]
    },
    {
     "name": "stderr",
     "output_type": "stream",
     "text": [
      "Transcribing: 100%|███████████████████████████████████████████████████████████████████████████████████████████████| 1/1 [00:00<00:00,  7.50it/s]\n"
     ]
    },
    {
     "name": "stdout",
     "output_type": "stream",
     "text": [
      "it has even happened that the name for certain diseased conditions of the body arising from such an origin has passed into everyday speech as a synonym for noble or gentle\n",
      "pred_csyl:  59\n",
      "pred sp_rate:  5.59506875296349\n",
      "audio path:  /home/dianasimonyan/Desktop/Thesis/SpeakingRateEstimation/data/LibriSpeech/test-clean-labeled/3570/5694/1_32.wav\n",
      "csyl:  32\n",
      "sp_rate:  5.638766519823789\n"
     ]
    },
    {
     "name": "stderr",
     "output_type": "stream",
     "text": [
      "Transcribing: 100%|███████████████████████████████████████████████████████████████████████████████████████████████| 1/1 [00:00<00:00, 11.21it/s]\n"
     ]
    },
    {
     "name": "stdout",
     "output_type": "stream",
     "text": [
      "the utility of consumption as an evidence of wealth is to be classed as a derivative growth\n",
      "pred_csyl:  32\n",
      "pred sp_rate:  5.638766519823789\n",
      "audio path:  /home/dianasimonyan/Desktop/Thesis/SpeakingRateEstimation/data/LibriSpeech/test-clean-labeled/3570/5694/12_20.wav\n",
      "csyl:  20\n",
      "sp_rate:  6.240249609984399\n"
     ]
    },
    {
     "name": "stderr",
     "output_type": "stream",
     "text": [
      "Transcribing: 100%|███████████████████████████████████████████████████████████████████████████████████████████████| 1/1 [00:00<00:00, 14.97it/s]\n"
     ]
    },
    {
     "name": "stdout",
     "output_type": "stream",
     "text": [
      "there is a moral less elaborate system of ranking grates\n",
      "pred_csyl:  19\n",
      "pred sp_rate:  5.928237129485179\n",
      "audio path:  /home/dianasimonyan/Desktop/Thesis/SpeakingRateEstimation/data/LibriSpeech/test-clean-labeled/3570/5696/2_44.wav\n",
      "csyl:  44\n",
      "sp_rate:  5.858854860186418\n"
     ]
    },
    {
     "name": "stderr",
     "output_type": "stream",
     "text": [
      "Transcribing: 100%|███████████████████████████████████████████████████████████████████████████████████████████████| 1/1 [00:00<00:00,  8.52it/s]\n"
     ]
    },
    {
     "name": "stdout",
     "output_type": "stream",
     "text": [
      "are the circumstances permitting that instinct disposes men to look with favour upon productive efficiency and on whatever is of human use\n",
      "pred_csyl:  46\n",
      "pred sp_rate:  6.125166444740346\n",
      "audio path:  /home/dianasimonyan/Desktop/Thesis/SpeakingRateEstimation/data/LibriSpeech/test-clean-labeled/3570/5696/9_59.wav\n",
      "csyl:  59\n",
      "sp_rate:  6.659142212189617\n"
     ]
    },
    {
     "name": "stderr",
     "output_type": "stream",
     "text": [
      "Transcribing: 100%|███████████████████████████████████████████████████████████████████████████████████████████████| 1/1 [00:00<00:00,  7.73it/s]\n"
     ]
    },
    {
     "name": "stdout",
     "output_type": "stream",
     "text": [
      "in strict accuracy nothing should be included under the head of conspicuous waste but such expenditure as is incurred on the ground of an invidious pecuniary comparison\n",
      "pred_csyl:  59\n",
      "pred sp_rate:  6.659142212189617\n",
      "audio path:  /home/dianasimonyan/Desktop/Thesis/SpeakingRateEstimation/data/LibriSpeech/test-clean-labeled/3570/5696/8_50.wav\n",
      "csyl:  50\n",
      "sp_rate:  6.887052341597796\n"
     ]
    },
    {
     "name": "stderr",
     "output_type": "stream",
     "text": [
      "Transcribing: 100%|███████████████████████████████████████████████████████████████████████████████████████████████| 1/1 [00:00<00:00,  8.62it/s]\n"
     ]
    },
    {
     "name": "stdout",
     "output_type": "stream",
     "text": [
      "but it is on other grounds worth noting that the term waste in the language of everyday life implies deprecation of what is characterized as wasteful\n",
      "pred_csyl:  50\n",
      "pred sp_rate:  6.887052341597796\n",
      "audio path:  /home/dianasimonyan/Desktop/Thesis/SpeakingRateEstimation/data/LibriSpeech/test-clean-labeled/3570/5696/5_85.wav\n",
      "csyl:  85\n",
      "sp_rate:  6.525911708253359\n"
     ]
    },
    {
     "name": "stderr",
     "output_type": "stream",
     "text": [
      "Transcribing: 100%|███████████████████████████████████████████████████████████████████████████████████████████████| 1/1 [00:00<00:00,  6.09it/s]\n"
     ]
    },
    {
     "name": "stdout",
     "output_type": "stream",
     "text": [
      "throughout the entire evolution of conspicuous expenditure whether of good sour of services or human life runs the obvious implication that in order to effectually mend the consumer's good fame it must be an expenditure of superfluities\n",
      "pred_csyl:  86\n",
      "pred sp_rate:  6.602687140115163\n",
      "audio path:  /home/dianasimonyan/Desktop/Thesis/SpeakingRateEstimation/data/LibriSpeech/test-clean-labeled/3570/5696/0_73.wav\n",
      "csyl:  73\n",
      "sp_rate:  6.395094174332019\n"
     ]
    },
    {
     "name": "stderr",
     "output_type": "stream",
     "text": [
      "Transcribing: 100%|███████████████████████████████████████████████████████████████████████████████████████████████| 1/1 [00:00<00:00,  7.23it/s]\n"
     ]
    },
    {
     "name": "stdout",
     "output_type": "stream",
     "text": [
      "under the simple test of effectiveness for advertising we should expect to find leisure and the conspicuous consumption of goods dividing the field of pecuniary emulation pretty evenly between them at the outset\n",
      "pred_csyl:  73\n",
      "pred sp_rate:  6.395094174332019\n",
      "audio path:  /home/dianasimonyan/Desktop/Thesis/SpeakingRateEstimation/data/LibriSpeech/test-clean-labeled/3570/5696/3_173.wav\n",
      "csyl:  173\n",
      "sp_rate:  6.888313756719093\n"
     ]
    },
    {
     "name": "stderr",
     "output_type": "stream",
     "text": [
      "Transcribing: 100%|███████████████████████████████████████████████████████████████████████████████████████████████| 1/1 [00:00<00:00,  3.40it/s]\n"
     ]
    },
    {
     "name": "stdout",
     "output_type": "stream",
     "text": [
      "a reconciliation between the two conflicting requirements is effected by resort to make believe many and intricate polite observances and social duties of a ceremonial nature are developed many organizations are founded with some specious object of amelioration embodied in their official style and title there is much coming and going and a deal of talk to the end that the talkers may not have occasion to reflect on what is the effectual economic value of their traffic\n",
      "pred_csyl:  172\n",
      "pred sp_rate:  6.848496914194705\n",
      "audio path:  /home/dianasimonyan/Desktop/Thesis/SpeakingRateEstimation/data/LibriSpeech/test-clean-labeled/3570/5696/10_48.wav\n",
      "csyl:  48\n",
      "sp_rate:  6.340819022457067\n"
     ]
    },
    {
     "name": "stderr",
     "output_type": "stream",
     "text": [
      "Transcribing: 100%|███████████████████████████████████████████████████████████████████████████████████████████████| 1/1 [00:00<00:00,  8.82it/s]\n"
     ]
    },
    {
     "name": "stdout",
     "output_type": "stream",
     "text": [
      "an article may be useful and wasteful both and its utility to the consumer may be made up of use and waste in the most varying proportions\n",
      "pred_csyl:  48\n",
      "pred sp_rate:  6.340819022457067\n",
      "audio path:  /home/dianasimonyan/Desktop/Thesis/SpeakingRateEstimation/data/LibriSpeech/test-clean-labeled/3570/5696/4_33.wav\n",
      "csyl:  33\n",
      "sp_rate:  7.0212765957446805\n"
     ]
    },
    {
     "name": "stderr",
     "output_type": "stream",
     "text": [
      "Transcribing: 100%|███████████████████████████████████████████████████████████████████████████████████████████████| 1/1 [00:00<00:00, 12.68it/s]\n"
     ]
    },
    {
     "name": "stdout",
     "output_type": "stream",
     "text": [
      "the salient features of this development of domestic service have already been indicated\n",
      "pred_csyl:  33\n",
      "pred sp_rate:  7.0212765957446805\n",
      "audio path:  /home/dianasimonyan/Desktop/Thesis/SpeakingRateEstimation/data/LibriSpeech/test-clean-labeled/3570/5696/6_31.wav\n",
      "csyl:  31\n",
      "sp_rate:  7.451923076923077\n"
     ]
    },
    {
     "name": "stderr",
     "output_type": "stream",
     "text": [
      "Transcribing: 100%|███████████████████████████████████████████████████████████████████████████████████████████████| 1/1 [00:00<00:00, 11.85it/s]\n"
     ]
    },
    {
     "name": "stdout",
     "output_type": "stream",
     "text": [
      "as use in the speech of everyday life the word carries an undertone of deprecation\n",
      "pred_csyl:  31\n",
      "pred sp_rate:  7.451923076923077\n",
      "audio path:  /home/dianasimonyan/Desktop/Thesis/SpeakingRateEstimation/data/LibriSpeech/test-clean-labeled/3570/5696/1_103.wav\n",
      "csyl:  103\n",
      "sp_rate:  6.1547654616074094\n"
     ]
    },
    {
     "name": "stderr",
     "output_type": "stream",
     "text": [
      "Transcribing: 100%|███████████████████████████████████████████████████████████████████████████████████████████████| 1/1 [00:00<00:00,  4.68it/s]\n"
     ]
    },
    {
     "name": "stdout",
     "output_type": "stream",
     "text": [
      "but the actual course of development has been somewhat different from this ideal scheme leisure held the first place at the start and came to hold a rank very much above wasteful consumption of goods both as a direct exponent of wealth and as an element in the standard of decency during the course i peaceable culture\n",
      "pred_csyl:  104\n",
      "pred sp_rate:  6.214520466089035\n",
      "audio path:  /home/dianasimonyan/Desktop/Thesis/SpeakingRateEstimation/data/LibriSpeech/test-clean-labeled/3570/5696/7_56.wav\n",
      "csyl:  56\n",
      "sp_rate:  5.894736842105263\n"
     ]
    },
    {
     "name": "stderr",
     "output_type": "stream",
     "text": [
      "Transcribing: 100%|███████████████████████████████████████████████████████████████████████████████████████████████| 1/1 [00:00<00:00,  8.09it/s]\n"
     ]
    },
    {
     "name": "stdout",
     "output_type": "stream",
     "text": [
      "the use of the word waste as a technical term therefore implies no deprecation of the motives or of the ends sought by the consumer under this canon of conspicuous waste\n",
      "pred_csyl:  56\n",
      "pred sp_rate:  5.894736842105263\n",
      "audio path:  /home/dianasimonyan/Desktop/Thesis/SpeakingRateEstimation/data/LibriSpeech/test-clean-labeled/4970/29093/5_103.wav\n",
      "csyl:  103\n",
      "sp_rate:  4.648014440433213\n"
     ]
    },
    {
     "name": "stderr",
     "output_type": "stream",
     "text": [
      "Transcribing: 100%|███████████████████████████████████████████████████████████████████████████████████████████████| 1/1 [00:00<00:00,  4.63it/s]\n"
     ]
    },
    {
     "name": "stdout",
     "output_type": "stream",
     "text": [
      "sometimes he thought he would like to stand in a conspicuous pulpit and humbly preach the gospel of repentance and it even cross his mind that it would be noble to give himself to a missionary life to some benighted region where the date palm grows and the nightingale's voice is in tune and the bulbul sings on the opnites\n",
      "pred_csyl:  103\n",
      "pred sp_rate:  4.648014440433213\n",
      "audio path:  /home/dianasimonyan/Desktop/Thesis/SpeakingRateEstimation/data/LibriSpeech/test-clean-labeled/4970/29093/6_146.wav\n",
      "csyl:  146\n",
      "sp_rate:  4.9324324324324325\n"
     ]
    },
    {
     "name": "stderr",
     "output_type": "stream",
     "text": [
      "Transcribing: 100%|███████████████████████████████████████████████████████████████████████████████████████████████| 1/1 [00:00<00:00,  3.49it/s]\n"
     ]
    },
    {
     "name": "stdout",
     "output_type": "stream",
     "text": [
      "law seemed to him well enough as a science but he never could discover a practical case where it appeared to him worth while to go to law and all the clients who stopped with this new clerk in the ante room of the law office where he was writing philip invariably advised to settle no matter how but settle greatly to the disgust of his employer who knew that justice between man and man could only be attained by the recognized processes with the attendant fees\n",
      "pred_csyl:  146\n",
      "pred sp_rate:  4.9324324324324325\n",
      "audio path:  /home/dianasimonyan/Desktop/Thesis/SpeakingRateEstimation/data/LibriSpeech/test-clean-labeled/4970/29093/20_22.wav\n",
      "csyl:  22\n",
      "sp_rate:  3.942652329749104\n"
     ]
    },
    {
     "name": "stderr",
     "output_type": "stream",
     "text": [
      "Transcribing: 100%|███████████████████████████████████████████████████████████████████████████████████████████████| 1/1 [00:00<00:00, 13.77it/s]\n"
     ]
    },
    {
     "name": "stdout",
     "output_type": "stream",
     "text": [
      "why it's in missouri somewhere on the frontier i think we'll get a map\n",
      "pred_csyl:  22\n",
      "pred sp_rate:  3.942652329749104\n",
      "audio path:  /home/dianasimonyan/Desktop/Thesis/SpeakingRateEstimation/data/LibriSpeech/test-clean-labeled/4970/29093/17_16.wav\n",
      "csyl:  16\n",
      "sp_rate:  5.5846422338568935\n"
     ]
    },
    {
     "name": "stderr",
     "output_type": "stream",
     "text": [
      "Transcribing: 100%|███████████████████████████████████████████████████████████████████████████████████████████████| 1/1 [00:00<00:00, 18.01it/s]\n"
     ]
    },
    {
     "name": "stdout",
     "output_type": "stream",
     "text": [
      "i've been ready to go anywhere for six months\n",
      "pred_csyl:  16\n",
      "pred sp_rate:  5.5846422338568935\n",
      "audio path:  /home/dianasimonyan/Desktop/Thesis/SpeakingRateEstimation/data/LibriSpeech/test-clean-labeled/4970/29093/2_51.wav\n",
      "csyl:  51\n",
      "sp_rate:  4.753028890959925\n"
     ]
    },
    {
     "name": "stderr",
     "output_type": "stream",
     "text": [
      "Transcribing: 100%|███████████████████████████████████████████████████████████████████████████████████████████████| 1/1 [00:00<00:00,  8.20it/s]"
     ]
    },
    {
     "name": "stdout",
     "output_type": "stream",
     "text": [
      "he has no traditions to bind him or guide him and his impulse is to break away from the occupation his father has followed and make a new way for himself"
     ]
    },
    {
     "name": "stderr",
     "output_type": "stream",
     "text": [
      "\n"
     ]
    },
    {
     "name": "stdout",
     "output_type": "stream",
     "text": [
      "\n",
      "pred_csyl:  51\n",
      "pred sp_rate:  4.753028890959925\n",
      "audio path:  /home/dianasimonyan/Desktop/Thesis/SpeakingRateEstimation/data/LibriSpeech/test-clean-labeled/4970/29093/8_13.wav\n",
      "csyl:  13\n",
      "sp_rate:  3.631284916201117\n"
     ]
    },
    {
     "name": "stderr",
     "output_type": "stream",
     "text": [
      "Transcribing: 100%|███████████████████████████████████████████████████████████████████████████████████████████████| 1/1 [00:00<00:00, 17.25it/s]\n"
     ]
    },
    {
     "name": "stdout",
     "output_type": "stream",
     "text": [
      "he wanted to begin at the top of the ladder\n",
      "pred_csyl:  13\n",
      "pred sp_rate:  3.631284916201117\n",
      "audio path:  /home/dianasimonyan/Desktop/Thesis/SpeakingRateEstimation/data/LibriSpeech/test-clean-labeled/4970/29093/21_12.wav\n",
      "csyl:  12\n",
      "sp_rate:  4.948453608247423\n"
     ]
    },
    {
     "name": "stderr",
     "output_type": "stream",
     "text": [
      "Transcribing: 100%|███████████████████████████████████████████████████████████████████████████████████████████████| 1/1 [00:00<00:00, 15.53it/s]\n"
     ]
    },
    {
     "name": "stdout",
     "output_type": "stream",
     "text": [
      "i was afraid it was nearer home\n",
      "pred_csyl:  12\n",
      "pred sp_rate:  4.948453608247423\n",
      "audio path:  /home/dianasimonyan/Desktop/Thesis/SpeakingRateEstimation/data/LibriSpeech/test-clean-labeled/4970/29093/15_20.wav\n",
      "csyl:  20\n",
      "sp_rate:  6.015037593984962\n"
     ]
    },
    {
     "name": "stderr",
     "output_type": "stream",
     "text": [
      "Transcribing: 100%|███████████████████████████████████████████████████████████████████████████████████████████████| 1/1 [00:00<00:00, 15.13it/s]\n"
     ]
    },
    {
     "name": "stdout",
     "output_type": "stream",
     "text": [
      "you can begin by carrying a rod and putting down the figures\n",
      "pred_csyl:  20\n",
      "pred sp_rate:  6.015037593984962\n",
      "audio path:  /home/dianasimonyan/Desktop/Thesis/SpeakingRateEstimation/data/LibriSpeech/test-clean-labeled/4970/29093/22_29.wav\n",
      "csyl:  29\n",
      "sp_rate:  4.662379421221865\n"
     ]
    },
    {
     "name": "stderr",
     "output_type": "stream",
     "text": [
      "Transcribing: 100%|███████████████████████████████████████████████████████████████████████████████████████████████| 1/1 [00:00<00:00, 11.09it/s]\n"
     ]
    },
    {
     "name": "stdout",
     "output_type": "stream",
     "text": [
      "he knew his uncle would be glad to hear that he had at last turned his thoughts to a practical matter\n",
      "pred_csyl:  29\n",
      "pred sp_rate:  4.662379421221865\n",
      "audio path:  /home/dianasimonyan/Desktop/Thesis/SpeakingRateEstimation/data/LibriSpeech/test-clean-labeled/4970/29093/4_17.wav\n",
      "csyl:  17\n",
      "sp_rate:  4.533333333333333\n"
     ]
    },
    {
     "name": "stderr",
     "output_type": "stream",
     "text": [
      "Transcribing: 100%|███████████████████████████████████████████████████████████████████████████████████████████████| 1/1 [00:00<00:00, 16.05it/s]\n"
     ]
    },
    {
     "name": "stdout",
     "output_type": "stream",
     "text": [
      "he was unable to decide exactly what it should be\n",
      "pred_csyl:  17\n",
      "pred sp_rate:  4.533333333333333\n",
      "audio path:  /home/dianasimonyan/Desktop/Thesis/SpeakingRateEstimation/data/LibriSpeech/test-clean-labeled/4970/29093/23_35.wav\n",
      "csyl:  35\n",
      "sp_rate:  4.337050805452292\n"
     ]
    },
    {
     "name": "stderr",
     "output_type": "stream",
     "text": [
      "Transcribing: 100%|███████████████████████████████████████████████████████████████████████████████████████████████| 1/1 [00:00<00:00,  8.89it/s]"
     ]
    },
    {
     "name": "stdout",
     "output_type": "stream",
     "text": [
      "he well knew the perils of the frontier the savage state of society the lurking indians and the dangers of fever"
     ]
    },
    {
     "name": "stderr",
     "output_type": "stream",
     "text": [
      "\n"
     ]
    },
    {
     "name": "stdout",
     "output_type": "stream",
     "text": [
      "\n",
      "pred_csyl:  35\n",
      "pred sp_rate:  4.337050805452292\n",
      "audio path:  /home/dianasimonyan/Desktop/Thesis/SpeakingRateEstimation/data/LibriSpeech/test-clean-labeled/4970/29093/11_59.wav\n",
      "csyl:  59\n",
      "sp_rate:  5.152838427947598\n"
     ]
    },
    {
     "name": "stderr",
     "output_type": "stream",
     "text": [
      "Transcribing: 100%|███████████████████████████████████████████████████████████████████████████████████████████████| 1/1 [00:00<00:00,  7.90it/s]\n"
     ]
    },
    {
     "name": "stdout",
     "output_type": "stream",
     "text": [
      "oh very well said gringo turning away with a shade of contempt you'll find if you are going into literature and newspaper work that you can't afford a conscience like that\n",
      "pred_csyl:  59\n",
      "pred sp_rate:  5.152838427947598\n",
      "audio path:  /home/dianasimonyan/Desktop/Thesis/SpeakingRateEstimation/data/LibriSpeech/test-clean-labeled/4970/29093/10_74.wav\n",
      "csyl:  74\n",
      "sp_rate:  5.174825174825175\n"
     ]
    },
    {
     "name": "stderr",
     "output_type": "stream",
     "text": [
      "Transcribing: 100%|███████████████████████████████████████████████████████████████████████████████████████████████| 1/1 [00:00<00:00,  5.44it/s]\n"
     ]
    },
    {
     "name": "stdout",
     "output_type": "stream",
     "text": [
      "he had no friend wise enough to tell him to step into the dorking convention then in session make a sketch of the men and women on the platform and take it to the editor of the daily grape vine and see what he could get a line for it\n",
      "pred_csyl:  74\n",
      "pred sp_rate:  5.174825174825175\n",
      "audio path:  /home/dianasimonyan/Desktop/Thesis/SpeakingRateEstimation/data/LibriSpeech/test-clean-labeled/4970/29093/7_31.wav\n",
      "csyl:  31\n",
      "sp_rate:  4.4317369549678345\n"
     ]
    },
    {
     "name": "stderr",
     "output_type": "stream",
     "text": [
      "Transcribing: 100%|███████████████████████████████████████████████████████████████████████████████████████████████| 1/1 [00:00<00:00, 11.79it/s]\n"
     ]
    },
    {
     "name": "stdout",
     "output_type": "stream",
     "text": [
      "it is such a noble ambition that it is a pity it has usually such a shallow foundation\n",
      "pred_csyl:  31\n",
      "pred sp_rate:  4.4317369549678345\n",
      "audio path:  /home/dianasimonyan/Desktop/Thesis/SpeakingRateEstimation/data/LibriSpeech/test-clean-labeled/4970/29093/3_78.wav\n",
      "csyl:  78\n",
      "sp_rate:  5.079778573754477\n"
     ]
    },
    {
     "name": "stderr",
     "output_type": "stream",
     "text": [
      "Transcribing: 100%|███████████████████████████████████████████████████████████████████████████████████████████████| 1/1 [00:00<00:00,  5.73it/s]\n"
     ]
    },
    {
     "name": "stdout",
     "output_type": "stream",
     "text": [
      "the modest fellow would have liked fame thrust upon him for some worthy achievement it might be for a book or for the skilful management of some great newspaper or for some daring expedition like that of lieutenant strain or doctor kane\n",
      "pred_csyl:  78\n",
      "pred sp_rate:  5.079778573754477\n",
      "audio path:  /home/dianasimonyan/Desktop/Thesis/SpeakingRateEstimation/data/LibriSpeech/test-clean-labeled/4970/29093/16_7.wav\n",
      "csyl:  7\n",
      "sp_rate:  3.1390134529147984\n"
     ]
    },
    {
     "name": "stderr",
     "output_type": "stream",
     "text": [
      "Transcribing: 100%|███████████████████████████████████████████████████████████████████████████████████████████████| 1/1 [00:00<00:00, 20.20it/s]\n"
     ]
    },
    {
     "name": "stdout",
     "output_type": "stream",
     "text": [
      "no it's not too soon\n",
      "pred_csyl:  7\n",
      "pred sp_rate:  3.1390134529147984\n",
      "audio path:  /home/dianasimonyan/Desktop/Thesis/SpeakingRateEstimation/data/LibriSpeech/test-clean-labeled/4970/29093/1_56.wav\n",
      "csyl:  56\n",
      "sp_rate:  4.697986577181208\n"
     ]
    },
    {
     "name": "stderr",
     "output_type": "stream",
     "text": [
      "Transcribing: 100%|███████████████████████████████████████████████████████████████████████████████████████████████| 1/1 [00:00<00:00,  6.87it/s]\n"
     ]
    },
    {
     "name": "stdout",
     "output_type": "stream",
     "text": [
      "to the young american here or elsewhere the paths to fortune are innumerable and all open there is invitation in the air and success in all his wide horizon\n",
      "pred_csyl:  56\n",
      "pred sp_rate:  4.697986577181208\n",
      "audio path:  /home/dianasimonyan/Desktop/Thesis/SpeakingRateEstimation/data/LibriSpeech/test-clean-labeled/4970/29093/18_47.wav\n",
      "csyl:  47\n",
      "sp_rate:  4.837879567678847\n"
     ]
    },
    {
     "name": "stderr",
     "output_type": "stream",
     "text": [
      "Transcribing: 100%|███████████████████████████████████████████████████████████████████████████████████████████████| 1/1 [00:00<00:00,  7.04it/s]\n"
     ]
    },
    {
     "name": "stdout",
     "output_type": "stream",
     "text": [
      "the two young men who were by this time full of the adventure went down to the wall street office of henry's uncle and had a talk with that wily operator\n",
      "pred_csyl:  47\n",
      "pred sp_rate:  4.837879567678847\n",
      "audio path:  /home/dianasimonyan/Desktop/Thesis/SpeakingRateEstimation/data/LibriSpeech/test-clean-labeled/4970/29093/0_16.wav\n",
      "csyl:  16\n",
      "sp_rate:  5.2805280528052805\n"
     ]
    },
    {
     "name": "stderr",
     "output_type": "stream",
     "text": [
      "Transcribing: 100%|███████████████████████████████████████████████████████████████████████████████████████████████| 1/1 [00:00<00:00, 12.56it/s]\n"
     ]
    },
    {
     "name": "stdout",
     "output_type": "stream",
     "text": [
      "you'll never dig it out of the aster library\n",
      "pred_csyl:  16\n",
      "pred sp_rate:  5.2805280528052805\n",
      "audio path:  /home/dianasimonyan/Desktop/Thesis/SpeakingRateEstimation/data/LibriSpeech/test-clean-labeled/4970/29093/19_36.wav\n",
      "csyl:  36\n",
      "sp_rate:  4.819277108433735\n"
     ]
    },
    {
     "name": "stderr",
     "output_type": "stream",
     "text": [
      "Transcribing: 100%|███████████████████████████████████████████████████████████████████████████████████████████████| 1/1 [00:00<00:00, 10.47it/s]\n"
     ]
    },
    {
     "name": "stdout",
     "output_type": "stream",
     "text": [
      "the night was spent in packing up and writing letters for philip would not take such an important step without informing his friends\n",
      "pred_csyl:  36\n",
      "pred sp_rate:  4.819277108433735\n",
      "audio path:  /home/dianasimonyan/Desktop/Thesis/SpeakingRateEstimation/data/LibriSpeech/test-clean-labeled/4970/29093/9_42.wav\n",
      "csyl:  42\n",
      "sp_rate:  4.605263157894737\n"
     ]
    },
    {
     "name": "stderr",
     "output_type": "stream",
     "text": [
      "Transcribing: 100%|███████████████████████████████████████████████████████████████████████████████████████████████| 1/1 [00:00<00:00,  7.88it/s]\n"
     ]
    },
    {
     "name": "stdout",
     "output_type": "stream",
     "text": [
      "philip therefore read diligently in the aster library planned literary works that should compel attention and nurse his genius\n",
      "pred_csyl:  42\n",
      "pred sp_rate:  4.605263157894737\n",
      "audio path:  /home/dianasimonyan/Desktop/Thesis/SpeakingRateEstimation/data/LibriSpeech/test-clean-labeled/4970/29093/13_41.wav\n",
      "csyl:  41\n",
      "sp_rate:  5.118601747815231\n"
     ]
    },
    {
     "name": "stderr",
     "output_type": "stream",
     "text": [
      "Transcribing: 100%|███████████████████████████████████████████████████████████████████████████████████████████████| 1/1 [00:00<00:00,  7.09it/s]\n"
     ]
    },
    {
     "name": "stdout",
     "output_type": "stream",
     "text": [
      "and he went back to his books and to his waiting for an opening large enough for his dignified entrance into the literary world\n",
      "pred_csyl:  41\n",
      "pred sp_rate:  5.118601747815231\n",
      "audio path:  /home/dianasimonyan/Desktop/Thesis/SpeakingRateEstimation/data/LibriSpeech/test-clean-labeled/4970/29093/12_44.wav\n",
      "csyl:  44\n",
      "sp_rate:  5.05166475315729\n"
     ]
    },
    {
     "name": "stderr",
     "output_type": "stream",
     "text": [
      "Transcribing: 100%|███████████████████████████████████████████████████████████████████████████████████████████████| 1/1 [00:00<00:00,  8.75it/s]\n"
     ]
    },
    {
     "name": "stdout",
     "output_type": "stream",
     "text": [
      "what philip did afford it and he wrote thanking his friends and declining because he said the political scheme would fail and ought to fail\n",
      "pred_csyl:  44\n",
      "pred sp_rate:  5.05166475315729\n",
      "audio path:  /home/dianasimonyan/Desktop/Thesis/SpeakingRateEstimation/data/LibriSpeech/test-clean-labeled/4970/29093/14_18.wav\n",
      "csyl:  18\n",
      "sp_rate:  4.2105263157894735\n"
     ]
    },
    {
     "name": "stderr",
     "output_type": "stream",
     "text": [
      "Transcribing: 100%|███████████████████████████████████████████████████████████████████████████████████████████████| 1/1 [00:00<00:00, 17.60it/s]\n"
     ]
    },
    {
     "name": "stdout",
     "output_type": "stream",
     "text": [
      "well i'm going as an engineer you could go as one\n",
      "pred_csyl:  19\n",
      "pred sp_rate:  4.444444444444444\n",
      "audio path:  /home/dianasimonyan/Desktop/Thesis/SpeakingRateEstimation/data/LibriSpeech/test-clean-labeled/4970/29095/16_23.wav\n",
      "csyl:  23\n",
      "sp_rate:  3.311735061195104\n"
     ]
    },
    {
     "name": "stderr",
     "output_type": "stream",
     "text": [
      "Transcribing: 100%|███████████████████████████████████████████████████████████████████████████████████████████████| 1/1 [00:00<00:00,  8.71it/s]\n"
     ]
    },
    {
     "name": "stdout",
     "output_type": "stream",
     "text": [
      "ruth sat quite still for a time with face intent and flushed it was out now\n",
      "pred_csyl:  23\n",
      "pred sp_rate:  3.311735061195104\n",
      "audio path:  /home/dianasimonyan/Desktop/Thesis/SpeakingRateEstimation/data/LibriSpeech/test-clean-labeled/4970/29095/37_33.wav\n",
      "csyl:  33\n",
      "sp_rate:  4.793028322440088\n"
     ]
    },
    {
     "name": "stderr",
     "output_type": "stream",
     "text": [
      "Transcribing: 100%|███████████████████████████████████████████████████████████████████████████████████████████████| 1/1 [00:00<00:00,  9.80it/s]\n"
     ]
    },
    {
     "name": "stdout",
     "output_type": "stream",
     "text": [
      "but that wise and placid woman understood the sweet rebel a great deal better than ruth understood herself\n",
      "pred_csyl:  33\n",
      "pred sp_rate:  4.793028322440088\n",
      "audio path:  /home/dianasimonyan/Desktop/Thesis/SpeakingRateEstimation/data/LibriSpeech/test-clean-labeled/4970/29095/1_54.wav\n",
      "csyl:  54\n",
      "sp_rate:  3.882099209202013\n"
     ]
    },
    {
     "name": "stderr",
     "output_type": "stream",
     "text": [
      "Transcribing: 100%|███████████████████████████████████████████████████████████████████████████████████████████████| 1/1 [00:00<00:00,  6.42it/s]\n"
     ]
    },
    {
     "name": "stdout",
     "output_type": "stream",
     "text": [
      "she tried this morning an air or two upon the piano sang a simple song in a sweet but slightly metallic voice and then seating herself by the open window read philip's letter\n",
      "pred_csyl:  54\n",
      "pred sp_rate:  3.882099209202013\n",
      "audio path:  /home/dianasimonyan/Desktop/Thesis/SpeakingRateEstimation/data/LibriSpeech/test-clean-labeled/4970/29095/9_21.wav\n",
      "csyl:  21\n",
      "sp_rate:  3.7500000000000004\n"
     ]
    },
    {
     "name": "stderr",
     "output_type": "stream",
     "text": [
      "Transcribing: 100%|███████████████████████████████████████████████████████████████████████████████████████████████| 1/1 [00:00<00:00,  9.80it/s]\n"
     ]
    },
    {
     "name": "stdout",
     "output_type": "stream",
     "text": [
      "margaret bolton almost lost for a moment her habitual placidity\n",
      "pred_csyl:  21\n",
      "pred sp_rate:  3.7500000000000004\n",
      "audio path:  /home/dianasimonyan/Desktop/Thesis/SpeakingRateEstimation/data/LibriSpeech/test-clean-labeled/4970/29095/32_26.wav\n",
      "csyl:  26\n",
      "sp_rate:  3.933434190620272\n"
     ]
    },
    {
     "name": "stderr",
     "output_type": "stream",
     "text": [
      "Transcribing: 100%|███████████████████████████████████████████████████████████████████████████████████████████████| 1/1 [00:00<00:00, 10.58it/s]\n"
     ]
    },
    {
     "name": "stdout",
     "output_type": "stream",
     "text": [
      "that philip is honest and he has talent enough if he will stop scribbling to make his way\n",
      "pred_csyl:  26\n",
      "pred sp_rate:  3.933434190620272\n",
      "audio path:  /home/dianasimonyan/Desktop/Thesis/SpeakingRateEstimation/data/LibriSpeech/test-clean-labeled/4970/29095/33_51.wav\n",
      "csyl:  51\n",
      "sp_rate:  4.241164241164241\n"
     ]
    },
    {
     "name": "stderr",
     "output_type": "stream",
     "text": [
      "Transcribing: 100%|███████████████████████████████████████████████████████████████████████████████████████████████| 1/1 [00:00<00:00,  7.48it/s]\n"
     ]
    },
    {
     "name": "stdout",
     "output_type": "stream",
     "text": [
      "what a box women are put into measured for it and put in young if we go anywhere it's in a box veiled and pinioned and shut in by disabilities\n",
      "pred_csyl:  51\n",
      "pred sp_rate:  4.241164241164241\n",
      "audio path:  /home/dianasimonyan/Desktop/Thesis/SpeakingRateEstimation/data/LibriSpeech/test-clean-labeled/4970/29095/3_50.wav\n",
      "csyl:  50\n",
      "sp_rate:  4.990019960079841\n"
     ]
    },
    {
     "name": "stderr",
     "output_type": "stream",
     "text": [
      "Transcribing: 100%|███████████████████████████████████████████████████████████████████████████████████████████████| 1/1 [00:00<00:00,  7.76it/s]\n"
     ]
    },
    {
     "name": "stdout",
     "output_type": "stream",
     "text": [
      "i hope thee told the elders that father and i are responsible for the piano and that much as thee loves music thee is never in the room when it is played\n",
      "pred_csyl:  50\n",
      "pred sp_rate:  4.990019960079841\n",
      "audio path:  /home/dianasimonyan/Desktop/Thesis/SpeakingRateEstimation/data/LibriSpeech/test-clean-labeled/4970/29095/4_49.wav\n",
      "csyl:  49\n",
      "sp_rate:  5.098855359001041\n"
     ]
    },
    {
     "name": "stderr",
     "output_type": "stream",
     "text": [
      "Transcribing: 100%|███████████████████████████████████████████████████████████████████████████████████████████████| 1/1 [00:00<00:00,  7.65it/s]\n"
     ]
    },
    {
     "name": "stdout",
     "output_type": "stream",
     "text": [
      "i heard father tell cousin abner that he was whipped so often for whistling when he was a boy that he was determined to have what compensation he could get now\n",
      "pred_csyl:  49\n",
      "pred sp_rate:  5.098855359001041\n",
      "audio path:  /home/dianasimonyan/Desktop/Thesis/SpeakingRateEstimation/data/LibriSpeech/test-clean-labeled/4970/29095/31_64.wav\n",
      "csyl:  64\n",
      "sp_rate:  4.252491694352159\n"
     ]
    },
    {
     "name": "stderr",
     "output_type": "stream",
     "text": [
      "Transcribing: 100%|███████████████████████████████████████████████████████████████████████████████████████████████| 1/1 [00:00<00:00,  6.11it/s]\n"
     ]
    },
    {
     "name": "stdout",
     "output_type": "stream",
     "text": [
      "he doesn't say exactly what it is said ruth a little dubiously but it's something about land and railroads and he knows father that fortunes are made nobody knows exactly how in a new country\n",
      "pred_csyl:  63\n",
      "pred sp_rate:  4.186046511627906\n",
      "audio path:  /home/dianasimonyan/Desktop/Thesis/SpeakingRateEstimation/data/LibriSpeech/test-clean-labeled/4970/29095/28_62.wav\n",
      "csyl:  62\n",
      "sp_rate:  4.226312201772324\n"
     ]
    },
    {
     "name": "stderr",
     "output_type": "stream",
     "text": [
      "Transcribing: 100%|███████████████████████████████████████████████████████████████████████████████████████████████| 1/1 [00:00<00:00,  5.95it/s]\n"
     ]
    },
    {
     "name": "stdout",
     "output_type": "stream",
     "text": [
      "he doesn't say but it's on the frontier and on the map everything beyond it is marked indians and desert and looks as desolate as a wednesday meeting it was time for him to do something\n",
      "pred_csyl:  61\n",
      "pred sp_rate:  4.158145875937287\n",
      "audio path:  /home/dianasimonyan/Desktop/Thesis/SpeakingRateEstimation/data/LibriSpeech/test-clean-labeled/4970/29095/18_63.wav\n",
      "csyl:  63\n",
      "sp_rate:  5.189456342668863\n"
     ]
    },
    {
     "name": "stderr",
     "output_type": "stream",
     "text": [
      "Transcribing: 100%|███████████████████████████████████████████████████████████████████████████████████████████████| 1/1 [00:00<00:00,  7.61it/s]\n"
     ]
    },
    {
     "name": "stdout",
     "output_type": "stream",
     "text": [
      "ruth asked the enthusiasts if they would like to live in such a sounding mausoleum with its great halls and echoing rooms and no comfortable place in it for the accommodation of any body\n",
      "pred_csyl:  63\n",
      "pred sp_rate:  5.189456342668863\n",
      "audio path:  /home/dianasimonyan/Desktop/Thesis/SpeakingRateEstimation/data/LibriSpeech/test-clean-labeled/4970/29095/22_22.wav\n",
      "csyl:  22\n",
      "sp_rate:  4.616998950682057\n"
     ]
    },
    {
     "name": "stderr",
     "output_type": "stream",
     "text": [
      "Transcribing: 100%|███████████████████████████████████████████████████████████████████████████████████████████████| 1/1 [00:00<00:00, 16.35it/s]\n"
     ]
    },
    {
     "name": "stdout",
     "output_type": "stream",
     "text": [
      "is thee going to the yearly meeting ruth asked one of the girls\n",
      "pred_csyl:  22\n",
      "pred sp_rate:  4.616998950682057\n",
      "audio path:  /home/dianasimonyan/Desktop/Thesis/SpeakingRateEstimation/data/LibriSpeech/test-clean-labeled/4970/29095/6_24.wav\n",
      "csyl:  24\n",
      "sp_rate:  5.369127516778524\n"
     ]
    },
    {
     "name": "stderr",
     "output_type": "stream",
     "text": [
      "Transcribing: 100%|███████████████████████████████████████████████████████████████████████████████████████████████| 1/1 [00:00<00:00, 15.52it/s]\n"
     ]
    },
    {
     "name": "stdout",
     "output_type": "stream",
     "text": [
      "is thy father willing thee should go away to a school of the world's people\n",
      "pred_csyl:  24\n",
      "pred sp_rate:  5.369127516778524\n",
      "audio path:  /home/dianasimonyan/Desktop/Thesis/SpeakingRateEstimation/data/LibriSpeech/test-clean-labeled/4970/29095/10_8.wav\n",
      "csyl:  8\n",
      "sp_rate:  3.0303030303030303\n"
     ]
    },
    {
     "name": "stderr",
     "output_type": "stream",
     "text": [
      "Transcribing: 100%|███████████████████████████████████████████████████████████████████████████████████████████████| 1/1 [00:00<00:00, 18.41it/s]\n"
     ]
    },
    {
     "name": "stdout",
     "output_type": "stream",
     "text": [
      "the study medicine\n",
      "pred_csyl:  7\n",
      "pred sp_rate:  2.6515151515151514\n",
      "audio path:  /home/dianasimonyan/Desktop/Thesis/SpeakingRateEstimation/data/LibriSpeech/test-clean-labeled/4970/29095/34_24.wav\n",
      "csyl:  24\n",
      "sp_rate:  4.130808950086059\n"
     ]
    },
    {
     "name": "stderr",
     "output_type": "stream",
     "text": [
      "Transcribing: 100%|███████████████████████████████████████████████████████████████████████████████████████████████| 1/1 [00:00<00:00, 12.75it/s]\n"
     ]
    },
    {
     "name": "stdout",
     "output_type": "stream",
     "text": [
      "why should i rust and be stupid and sit in an action because i am a girl\n",
      "pred_csyl:  24\n",
      "pred sp_rate:  4.130808950086059\n",
      "audio path:  /home/dianasimonyan/Desktop/Thesis/SpeakingRateEstimation/data/LibriSpeech/test-clean-labeled/4970/29095/11_13.wav\n",
      "csyl:  13\n",
      "sp_rate:  3.874813710879285\n"
     ]
    },
    {
     "name": "stderr",
     "output_type": "stream",
     "text": [
      "Transcribing: 100%|███████████████████████████████████████████████████████████████████████████████████████████████| 1/1 [00:00<00:00, 16.71it/s]\n"
     ]
    },
    {
     "name": "stdout",
     "output_type": "stream",
     "text": [
      "does thee think thee could stand it six months\n",
      "pred_csyl:  13\n",
      "pred sp_rate:  3.874813710879285\n",
      "audio path:  /home/dianasimonyan/Desktop/Thesis/SpeakingRateEstimation/data/LibriSpeech/test-clean-labeled/4970/29095/25_9.wav\n",
      "csyl:  9\n",
      "sp_rate:  2.3498694516971277\n"
     ]
    },
    {
     "name": "stderr",
     "output_type": "stream",
     "text": [
      "Transcribing: 100%|███████████████████████████████████████████████████████████████████████████████████████████████| 1/1 [00:00<00:00, 10.65it/s]\n"
     ]
    },
    {
     "name": "stdout",
     "output_type": "stream",
     "text": [
      "and thee won't go why should i\n",
      "pred_csyl:  9\n",
      "pred sp_rate:  2.3498694516971277\n",
      "audio path:  /home/dianasimonyan/Desktop/Thesis/SpeakingRateEstimation/data/LibriSpeech/test-clean-labeled/4970/29095/0_8.wav\n",
      "csyl:  8\n",
      "sp_rate:  2.7923211169284468\n"
     ]
    },
    {
     "name": "stderr",
     "output_type": "stream",
     "text": [
      "Transcribing: 100%|███████████████████████████████████████████████████████████████████████████████████████████████| 1/1 [00:00<00:00, 15.28it/s]\n"
     ]
    },
    {
     "name": "stdout",
     "output_type": "stream",
     "text": [
      "she was tired of other things\n",
      "pred_csyl:  8\n",
      "pred sp_rate:  2.7923211169284468\n",
      "audio path:  /home/dianasimonyan/Desktop/Thesis/SpeakingRateEstimation/data/LibriSpeech/test-clean-labeled/4970/29095/15_7.wav\n",
      "csyl:  7\n",
      "sp_rate:  2.9661016949152543\n"
     ]
    },
    {
     "name": "stderr",
     "output_type": "stream",
     "text": [
      "Transcribing: 100%|███████████████████████████████████████████████████████████████████████████████████████████████| 1/1 [00:00<00:00, 11.98it/s]\n"
     ]
    },
    {
     "name": "stdout",
     "output_type": "stream",
     "text": [
      "if i can get patience\n",
      "pred_csyl:  8\n",
      "pred sp_rate:  3.3898305084745766\n",
      "audio path:  /home/dianasimonyan/Desktop/Thesis/SpeakingRateEstimation/data/LibriSpeech/test-clean-labeled/4970/29095/38_41.wav\n",
      "csyl:  41\n",
      "sp_rate:  4.691075514874142\n"
     ]
    },
    {
     "name": "stderr",
     "output_type": "stream",
     "text": [
      "Transcribing: 100%|███████████████████████████████████████████████████████████████████████████████████████████████| 1/1 [00:00<00:00,  8.84it/s]\n"
     ]
    },
    {
     "name": "stdout",
     "output_type": "stream",
     "text": [
      "ruth was glad to hear that philip had made a push into the world and she was sure that his talent and courage would make away for him\n",
      "pred_csyl:  41\n",
      "pred sp_rate:  4.691075514874142\n",
      "audio path:  /home/dianasimonyan/Desktop/Thesis/SpeakingRateEstimation/data/LibriSpeech/test-clean-labeled/4970/29095/26_56.wav\n",
      "csyl:  56\n",
      "sp_rate:  5.123513266239708\n"
     ]
    },
    {
     "name": "stderr",
     "output_type": "stream",
     "text": [
      "Transcribing: 100%|███████████████████████████████████████████████████████████████████████████████████████████████| 1/1 [00:00<00:00,  7.49it/s]\n"
     ]
    },
    {
     "name": "stdout",
     "output_type": "stream",
     "text": [
      "if i go to meeting at all i like best to sit in the quiet old house in germantown where the windows are all open and i can see the trees and hear the stir of the leaves\n",
      "pred_csyl:  56\n",
      "pred sp_rate:  5.123513266239708\n",
      "audio path:  /home/dianasimonyan/Desktop/Thesis/SpeakingRateEstimation/data/LibriSpeech/test-clean-labeled/4970/29095/30_17.wav\n",
      "csyl:  17\n",
      "sp_rate:  3.640256959314775\n"
     ]
    },
    {
     "name": "stderr",
     "output_type": "stream",
     "text": [
      "Transcribing: 100%|███████████████████████████████████████████████████████████████████████████████████████████████| 1/1 [00:00<00:00, 14.65it/s]\n"
     ]
    },
    {
     "name": "stdout",
     "output_type": "stream",
     "text": [
      "father these unjust to philip he's going into business\n",
      "pred_csyl:  17\n",
      "pred sp_rate:  3.640256959314775\n",
      "audio path:  /home/dianasimonyan/Desktop/Thesis/SpeakingRateEstimation/data/LibriSpeech/test-clean-labeled/4970/29095/24_27.wav\n",
      "csyl:  27\n",
      "sp_rate:  4.470198675496689\n"
     ]
    },
    {
     "name": "stderr",
     "output_type": "stream",
     "text": [
      "Transcribing: 100%|███████████████████████████████████████████████████████████████████████████████████████████████| 1/1 [00:00<00:00,  8.43it/s]\n"
     ]
    },
    {
     "name": "stdout",
     "output_type": "stream",
     "text": [
      "it has occupied mother a long time to find at the shops the exact shade for her new bonnet\n",
      "pred_csyl:  27\n",
      "pred sp_rate:  4.470198675496689\n",
      "audio path:  /home/dianasimonyan/Desktop/Thesis/SpeakingRateEstimation/data/LibriSpeech/test-clean-labeled/4970/29095/29_20.wav\n",
      "csyl:  20\n",
      "sp_rate:  5.141388174807198\n"
     ]
    },
    {
     "name": "stderr",
     "output_type": "stream",
     "text": [
      "Transcribing: 100%|███████████████████████████████████████████████████████████████████████████████████████████████| 1/1 [00:00<00:00, 14.00it/s]\n"
     ]
    },
    {
     "name": "stdout",
     "output_type": "stream",
     "text": [
      "is he going to start a daily newspaper among the kickapos\n",
      "pred_csyl:  19\n",
      "pred sp_rate:  4.884318766066838\n",
      "audio path:  /home/dianasimonyan/Desktop/Thesis/SpeakingRateEstimation/data/LibriSpeech/test-clean-labeled/4970/29095/21_81.wav\n",
      "csyl:  81\n",
      "sp_rate:  4.078549848942599\n"
     ]
    },
    {
     "name": "stderr",
     "output_type": "stream",
     "text": [
      "Transcribing: 100%|███████████████████████████████████████████████████████████████████████████████████████████████| 1/1 [00:00<00:00,  4.44it/s]\n"
     ]
    },
    {
     "name": "stdout",
     "output_type": "stream",
     "text": [
      "but neither saint gerard nor broad street neither wonders of the meant nor the glories of the hall were the ghosts of our fathers sit always signing the declaration impress the visitors so much as the splendors of the chestnut street windows and the bargains on eighth street\n",
      "pred_csyl:  81\n",
      "pred sp_rate:  4.078549848942599\n",
      "audio path:  /home/dianasimonyan/Desktop/Thesis/SpeakingRateEstimation/data/LibriSpeech/test-clean-labeled/4970/29095/14_12.wav\n",
      "csyl:  12\n",
      "sp_rate:  3.6809815950920246\n"
     ]
    },
    {
     "name": "stderr",
     "output_type": "stream",
     "text": [
      "Transcribing: 100%|███████████████████████████████████████████████████████████████████████████████████████████████| 1/1 [00:00<00:00, 14.07it/s]\n"
     ]
    },
    {
     "name": "stdout",
     "output_type": "stream",
     "text": [
      "where thee and thy family are known\n",
      "pred_csyl:  12\n",
      "pred sp_rate:  3.6809815950920246\n",
      "audio path:  /home/dianasimonyan/Desktop/Thesis/SpeakingRateEstimation/data/LibriSpeech/test-clean-labeled/4970/29095/12_17.wav\n",
      "csyl:  17\n",
      "sp_rate:  3.632478632478633\n"
     ]
    },
    {
     "name": "stderr",
     "output_type": "stream",
     "text": [
      "Transcribing: 100%|███████████████████████████████████████████████████████████████████████████████████████████████| 1/1 [00:00<00:00,  9.03it/s]\n"
     ]
    },
    {
     "name": "stdout",
     "output_type": "stream",
     "text": [
      "and besides suppose thee does learn medicine\n",
      "pred_csyl:  17\n",
      "pred sp_rate:  3.632478632478633\n",
      "audio path:  /home/dianasimonyan/Desktop/Thesis/SpeakingRateEstimation/data/LibriSpeech/test-clean-labeled/4970/29095/35_23.wav\n",
      "csyl:  23\n",
      "sp_rate:  4.842105263157895\n"
     ]
    },
    {
     "name": "stderr",
     "output_type": "stream",
     "text": [
      "Transcribing: 100%|███████████████████████████████████████████████████████████████████████████████████████████████| 1/1 [00:00<00:00, 12.80it/s]\n"
     ]
    },
    {
     "name": "stdout",
     "output_type": "stream",
     "text": [
      "and if i had a fortune would thee want me to lead a useless life\n",
      "pred_csyl:  23\n",
      "pred sp_rate:  4.842105263157895\n",
      "audio path:  /home/dianasimonyan/Desktop/Thesis/SpeakingRateEstimation/data/LibriSpeech/test-clean-labeled/4970/29095/7_64.wav\n",
      "csyl:  64\n",
      "sp_rate:  4.321404456448345\n"
     ]
    },
    {
     "name": "stderr",
     "output_type": "stream",
     "text": [
      "Transcribing: 100%|███████████████████████████████████████████████████████████████████████████████████████████████| 1/1 [00:00<00:00,  5.42it/s]\n"
     ]
    },
    {
     "name": "stdout",
     "output_type": "stream",
     "text": [
      "i have not asked him ruth replied with a look that might imply that she was one of those determined little bodies who first made up her own mind and then compelled others to make up theirs in accordance with hers\n",
      "pred_csyl:  64\n",
      "pred sp_rate:  4.321404456448345\n",
      "audio path:  /home/dianasimonyan/Desktop/Thesis/SpeakingRateEstimation/data/LibriSpeech/test-clean-labeled/4970/29095/8_12.wav\n",
      "csyl:  12\n",
      "sp_rate:  3.9473684210526314\n"
     ]
    },
    {
     "name": "stderr",
     "output_type": "stream",
     "text": [
      "Transcribing: 100%|███████████████████████████████████████████████████████████████████████████████████████████████| 1/1 [00:00<00:00, 17.08it/s]\n"
     ]
    },
    {
     "name": "stdout",
     "output_type": "stream",
     "text": [
      "mother i am going to study medicine\n",
      "pred_csyl:  13\n",
      "pred sp_rate:  4.276315789473684\n",
      "audio path:  /home/dianasimonyan/Desktop/Thesis/SpeakingRateEstimation/data/LibriSpeech/test-clean-labeled/4970/29095/5_16.wav\n",
      "csyl:  16\n",
      "sp_rate:  3.440860215053763\n"
     ]
    },
    {
     "name": "stderr",
     "output_type": "stream",
     "text": [
      "Transcribing: 100%|███████████████████████████████████████████████████████████████████████████████████████████████| 1/1 [00:00<00:00, 14.53it/s]\n"
     ]
    },
    {
     "name": "stdout",
     "output_type": "stream",
     "text": [
      "thy ways greatly try me ruth and all thy relations\n",
      "pred_csyl:  16\n",
      "pred sp_rate:  3.440860215053763\n",
      "audio path:  /home/dianasimonyan/Desktop/Thesis/SpeakingRateEstimation/data/LibriSpeech/test-clean-labeled/4970/29095/36_29.wav\n",
      "csyl:  29\n",
      "sp_rate:  5.523809523809524\n"
     ]
    },
    {
     "name": "stderr",
     "output_type": "stream",
     "text": [
      "Transcribing: 100%|███████████████████████████████████████████████████████████████████████████████████████████████| 1/1 [00:00<00:00, 10.68it/s]\n"
     ]
    },
    {
     "name": "stdout",
     "output_type": "stream",
     "text": [
      "has thee consulted thy mother about a career i suppose it is a career of thee wants\n",
      "pred_csyl:  30\n",
      "pred sp_rate:  5.714285714285714\n",
      "audio path:  /home/dianasimonyan/Desktop/Thesis/SpeakingRateEstimation/data/LibriSpeech/test-clean-labeled/4970/29095/27_51.wav\n",
      "csyl:  51\n",
      "sp_rate:  5.206738131699847\n"
     ]
    },
    {
     "name": "stderr",
     "output_type": "stream",
     "text": [
      "Transcribing: 100%|███████████████████████████████████████████████████████████████████████████████████████████████| 1/1 [00:00<00:00,  7.33it/s]\n"
     ]
    },
    {
     "name": "stdout",
     "output_type": "stream",
     "text": [
      "it's such a crush at the yearly meeting at arch street and then there's the row of sleek looking young men who lie in the curbstone and star at us as we come out\n",
      "pred_csyl:  51\n",
      "pred sp_rate:  5.206738131699847\n",
      "audio path:  /home/dianasimonyan/Desktop/Thesis/SpeakingRateEstimation/data/LibriSpeech/test-clean-labeled/4970/29095/13_6.wav\n",
      "csyl:  6\n",
      "sp_rate:  3.0303030303030303\n"
     ]
    },
    {
     "name": "stderr",
     "output_type": "stream",
     "text": [
      "Transcribing: 100%|███████████████████████████████████████████████████████████████████████████████████████████████| 1/1 [00:00<00:00, 19.54it/s]\n"
     ]
    },
    {
     "name": "stdout",
     "output_type": "stream",
     "text": [
      "i will practise it\n",
      "pred_csyl:  6\n",
      "pred sp_rate:  3.0303030303030303\n",
      "audio path:  /home/dianasimonyan/Desktop/Thesis/SpeakingRateEstimation/data/LibriSpeech/test-clean-labeled/4970/29095/2_25.wav\n",
      "csyl:  25\n",
      "sp_rate:  4.562043795620437\n"
     ]
    },
    {
     "name": "stderr",
     "output_type": "stream",
     "text": [
      "Transcribing: 100%|███████████████████████████████████████████████████████████████████████████████████████████████| 1/1 [00:00<00:00, 11.42it/s]\n"
     ]
    },
    {
     "name": "stdout",
     "output_type": "stream",
     "text": [
      "well mother said the young student looking up with a shade of impatience\n",
      "pred_csyl:  25\n",
      "pred sp_rate:  4.562043795620437\n",
      "audio path:  /home/dianasimonyan/Desktop/Thesis/SpeakingRateEstimation/data/LibriSpeech/test-clean-labeled/4970/29095/19_9.wav\n",
      "csyl:  9\n",
      "sp_rate:  3.3027522935779814\n"
     ]
    },
    {
     "name": "stderr",
     "output_type": "stream",
     "text": [
      "Transcribing: 100%|███████████████████████████████████████████████████████████████████████████████████████████████| 1/1 [00:00<00:00, 18.59it/s]\n"
     ]
    },
    {
     "name": "stdout",
     "output_type": "stream",
     "text": [
      "and then there was broad street\n",
      "pred_csyl:  9\n",
      "pred sp_rate:  3.3027522935779814\n",
      "audio path:  /home/dianasimonyan/Desktop/Thesis/SpeakingRateEstimation/data/LibriSpeech/test-clean-labeled/4970/29095/17_15.wav\n",
      "csyl:  15\n",
      "sp_rate:  3.8167938931297707\n"
     ]
    },
    {
     "name": "stderr",
     "output_type": "stream",
     "text": [
      "Transcribing: 100%|███████████████████████████████████████████████████████████████████████████████████████████████| 1/1 [00:00<00:00, 14.55it/s]\n"
     ]
    },
    {
     "name": "stdout",
     "output_type": "stream",
     "text": [
      "the sight sears returned in high spirits from the city\n",
      "pred_csyl:  15\n",
      "pred sp_rate:  3.8167938931297707\n",
      "audio path:  /home/dianasimonyan/Desktop/Thesis/SpeakingRateEstimation/data/LibriSpeech/test-clean-labeled/4970/29095/23_17.wav\n",
      "csyl:  17\n",
      "sp_rate:  4.353393085787452\n"
     ]
    },
    {
     "name": "stderr",
     "output_type": "stream",
     "text": [
      "Transcribing: 100%|███████████████████████████████████████████████████████████████████████████████████████████████| 1/1 [00:00<00:00, 13.26it/s]\n"
     ]
    },
    {
     "name": "stdout",
     "output_type": "stream",
     "text": [
      "i have nothing to wear replied that demure person\n",
      "pred_csyl:  17\n",
      "pred sp_rate:  4.353393085787452\n",
      "audio path:  /home/dianasimonyan/Desktop/Thesis/SpeakingRateEstimation/data/LibriSpeech/test-clean-labeled/4970/29095/20_63.wav\n",
      "csyl:  63\n",
      "sp_rate:  5.09502628386575\n"
     ]
    },
    {
     "name": "stderr",
     "output_type": "stream",
     "text": [
      "Transcribing: 100%|███████████████████████████████████████████████████████████████████████████████████████████████| 1/1 [00:00<00:00,  7.05it/s]\n"
     ]
    },
    {
     "name": "stdout",
     "output_type": "stream",
     "text": [
      "there certainly was no end to it and even ruth was philadelphian enough to believe that a street ought not to have any end or architectural point upon which the weary eye could rest\n",
      "pred_csyl:  63\n",
      "pred sp_rate:  5.09502628386575\n",
      "audio path:  /home/dianasimonyan/Desktop/Thesis/SpeakingRateEstimation/data/LibriSpeech/test-clean-labeled/1089/134691/20_13.wav\n",
      "csyl:  13\n",
      "sp_rate:  3.2581453634085213\n"
     ]
    },
    {
     "name": "stderr",
     "output_type": "stream",
     "text": [
      "Transcribing: 100%|███████████████████████████████████████████████████████████████████████████████████████████████| 1/1 [00:00<00:00, 10.89it/s]\n"
     ]
    },
    {
     "name": "stdout",
     "output_type": "stream",
     "text": [
      "hello stephanos here comes the deadlis\n",
      "pred_csyl:  13\n",
      "pred sp_rate:  3.2581453634085213\n",
      "audio path:  /home/dianasimonyan/Desktop/Thesis/SpeakingRateEstimation/data/LibriSpeech/test-clean-labeled/1089/134691/16_38.wav\n",
      "csyl:  38\n",
      "sp_rate:  4.194260485651214\n"
     ]
    },
    {
     "name": "stderr",
     "output_type": "stream",
     "text": [
      "Transcribing: 100%|███████████████████████████████████████████████████████████████████████████████████████████████| 1/1 [00:00<00:00,  9.13it/s]\n"
     ]
    },
    {
     "name": "stdout",
     "output_type": "stream",
     "text": [
      "they were voyaging across the deserts of the sky a host of nomads on the march voyaging high over ireland westward bound\n",
      "pred_csyl:  38\n",
      "pred sp_rate:  4.194260485651214\n",
      "audio path:  /home/dianasimonyan/Desktop/Thesis/SpeakingRateEstimation/data/LibriSpeech/test-clean-labeled/1089/134691/18_6.wav\n",
      "csyl:  6\n",
      "sp_rate:  1.941747572815534\n"
     ]
    },
    {
     "name": "stderr",
     "output_type": "stream",
     "text": [
      "Transcribing: 100%|███████████████████████████████████████████████████████████████████████████████████████████████| 1/1 [00:00<00:00, 20.90it/s]\n"
     ]
    },
    {
     "name": "stdout",
     "output_type": "stream",
     "text": [
      "again again\n",
      "pred_csyl:  6\n",
      "pred sp_rate:  1.941747572815534\n",
      "audio path:  /home/dianasimonyan/Desktop/Thesis/SpeakingRateEstimation/data/LibriSpeech/test-clean-labeled/1089/134691/5_23.wav\n",
      "csyl:  23\n",
      "sp_rate:  4.291044776119403\n"
     ]
    },
    {
     "name": "stderr",
     "output_type": "stream",
     "text": [
      "Transcribing: 100%|███████████████████████████████████████████████████████████████████████████████████████████████| 1/1 [00:00<00:00, 11.89it/s]\n"
     ]
    },
    {
     "name": "stdout",
     "output_type": "stream",
     "text": [
      "whose feet are as the feet of hearts and underneath the everlasting arms\n",
      "pred_csyl:  24\n",
      "pred sp_rate:  4.477611940298507\n",
      "audio path:  /home/dianasimonyan/Desktop/Thesis/SpeakingRateEstimation/data/LibriSpeech/test-clean-labeled/1089/134691/19_13.wav\n",
      "csyl:  13\n",
      "sp_rate:  4.120443740095087\n"
     ]
    },
    {
     "name": "stderr",
     "output_type": "stream",
     "text": [
      "Transcribing: 100%|███████████████████████████████████████████████████████████████████████████████████████████████| 1/1 [00:00<00:00, 16.76it/s]\n"
     ]
    },
    {
     "name": "stdout",
     "output_type": "stream",
     "text": [
      "a voice from beyond the world was calling\n",
      "pred_csyl:  13\n",
      "pred sp_rate:  4.120443740095087\n",
      "audio path:  /home/dianasimonyan/Desktop/Thesis/SpeakingRateEstimation/data/LibriSpeech/test-clean-labeled/1089/134691/13_88.wav\n",
      "csyl:  88\n",
      "sp_rate:  5.388854868340478\n"
     ]
    },
    {
     "name": "stderr",
     "output_type": "stream",
     "text": [
      "Transcribing: 100%|███████████████████████████████████████████████████████████████████████████████████████████████| 1/1 [00:00<00:00,  5.20it/s]\n"
     ]
    },
    {
     "name": "stdout",
     "output_type": "stream",
     "text": [
      "idle and embittering finely to argue against his own dispassionate certitude that the commandment of love bade us not to love our neighbour as ourselves with the same amount and intensity of love but to love him as ourselves with the same kind of love\n",
      "pred_csyl:  88\n",
      "pred sp_rate:  5.388854868340478\n",
      "audio path:  /home/dianasimonyan/Desktop/Thesis/SpeakingRateEstimation/data/LibriSpeech/test-clean-labeled/1089/134691/0_8.wav\n",
      "csyl:  8\n",
      "sp_rate:  3.8369304556354917\n"
     ]
    },
    {
     "name": "stderr",
     "output_type": "stream",
     "text": [
      "Transcribing: 100%|███████████████████████████████████████████████████████████████████████████████████████████████| 1/1 [00:00<00:00, 20.08it/s]\n"
     ]
    },
    {
     "name": "stdout",
     "output_type": "stream",
     "text": [
      "he could wait no longer\n",
      "pred_csyl:  8\n",
      "pred sp_rate:  3.8369304556354917\n",
      "audio path:  /home/dianasimonyan/Desktop/Thesis/SpeakingRateEstimation/data/LibriSpeech/test-clean-labeled/1089/134691/9_89.wav\n",
      "csyl:  89\n",
      "sp_rate:  4.43779606083271\n"
     ]
    },
    {
     "name": "stderr",
     "output_type": "stream",
     "text": [
      "Transcribing: 100%|███████████████████████████████████████████████████████████████████████████████████████████████| 1/1 [00:00<00:00,  4.61it/s]\n"
     ]
    },
    {
     "name": "stdout",
     "output_type": "stream",
     "text": [
      "angry with himself he tried to hide his face from their eyes by gazing down sideways into the shallow swirling water under the bridge but he still saw a reflection therein of their top heavy silk hats and humble tape like collars and loosely hanging clerical clothes brother hickey\n",
      "pred_csyl:  89\n",
      "pred sp_rate:  4.43779606083271\n",
      "audio path:  /home/dianasimonyan/Desktop/Thesis/SpeakingRateEstimation/data/LibriSpeech/test-clean-labeled/1089/134691/17_61.wav\n",
      "csyl:  61\n",
      "sp_rate:  5.2159042325780245\n"
     ]
    },
    {
     "name": "stderr",
     "output_type": "stream",
     "text": [
      "Transcribing: 100%|███████████████████████████████████████████████████████████████████████████████████████████████| 1/1 [00:00<00:00,  6.84it/s]\n"
     ]
    },
    {
     "name": "stdout",
     "output_type": "stream",
     "text": [
      "the europe they had come from lay out there beyond the irish sea europe of strange tongues and valley and woodburt and citadel and of entrenched and marshalled races\n",
      "pred_csyl:  58\n",
      "pred sp_rate:  4.9593843522873025\n",
      "audio path:  /home/dianasimonyan/Desktop/Thesis/SpeakingRateEstimation/data/LibriSpeech/test-clean-labeled/1089/134691/1_24.wav\n",
      "csyl:  24\n",
      "sp_rate:  4.43213296398892\n"
     ]
    },
    {
     "name": "stderr",
     "output_type": "stream",
     "text": [
      "Transcribing: 100%|███████████████████████████████████████████████████████████████████████████████████████████████| 1/1 [00:00<00:00, 12.71it/s]\n"
     ]
    },
    {
     "name": "stdout",
     "output_type": "stream",
     "text": [
      "for a full hour he had paced up and down waiting but he could wait no longer\n",
      "pred_csyl:  24\n",
      "pred sp_rate:  4.43213296398892\n",
      "audio path:  /home/dianasimonyan/Desktop/Thesis/SpeakingRateEstimation/data/LibriSpeech/test-clean-labeled/1089/134691/22_26.wav\n",
      "csyl:  26\n",
      "sp_rate:  4.614019520851819\n"
     ]
    },
    {
     "name": "stderr",
     "output_type": "stream",
     "text": [
      "Transcribing: 100%|███████████████████████████████████████████████████████████████████████████████████████████████| 1/1 [00:00<00:00, 12.33it/s]\n"
     ]
    },
    {
     "name": "stdout",
     "output_type": "stream",
     "text": [
      "he stood still in deference to their calls and parried their banter with easy words\n",
      "pred_csyl:  26\n",
      "pred sp_rate:  4.614019520851819\n",
      "audio path:  /home/dianasimonyan/Desktop/Thesis/SpeakingRateEstimation/data/LibriSpeech/test-clean-labeled/1089/134691/24_6.wav\n",
      "csyl:  6\n",
      "sp_rate:  2.708803611738149\n"
     ]
    },
    {
     "name": "stderr",
     "output_type": "stream",
     "text": [
      "Transcribing: 100%|███████████████████████████████████████████████████████████████████████████████████████████████| 1/1 [00:00<00:00, 19.32it/s]\n"
     ]
    },
    {
     "name": "stdout",
     "output_type": "stream",
     "text": [
      "stephano's dead loss\n",
      "pred_csyl:  6\n",
      "pred sp_rate:  2.708803611738149\n",
      "audio path:  /home/dianasimonyan/Desktop/Thesis/SpeakingRateEstimation/data/LibriSpeech/test-clean-labeled/1089/134691/4_19.wav\n",
      "csyl:  19\n",
      "sp_rate:  3.671453243318317\n"
     ]
    },
    {
     "name": "stderr",
     "output_type": "stream",
     "text": [
      "Transcribing: 100%|███████████████████████████████████████████████████████████████████████████████████████████████| 1/1 [00:00<00:00, 12.75it/s]\n"
     ]
    },
    {
     "name": "stdout",
     "output_type": "stream",
     "text": [
      "bride after satisfaction uplifted him like long slow waves\n",
      "pred_csyl:  19\n",
      "pred sp_rate:  3.671453243318317\n",
      "audio path:  /home/dianasimonyan/Desktop/Thesis/SpeakingRateEstimation/data/LibriSpeech/test-clean-labeled/1089/134691/25_38.wav\n",
      "csyl:  38\n",
      "sp_rate:  4.747033104309806\n"
     ]
    },
    {
     "name": "stderr",
     "output_type": "stream",
     "text": [
      "Transcribing: 100%|███████████████████████████████████████████████████████████████████████████████████████████████| 1/1 [00:00<00:00,  8.76it/s]\n"
     ]
    },
    {
     "name": "stdout",
     "output_type": "stream",
     "text": [
      "a moment before the ghost of the ancient kingdom of the danes had looked forth through the vesture of the hayes wrapped city\n",
      "pred_csyl:  39\n",
      "pred sp_rate:  4.871955028107433\n",
      "audio path:  /home/dianasimonyan/Desktop/Thesis/SpeakingRateEstimation/data/LibriSpeech/test-clean-labeled/1089/134691/6_29.wav\n",
      "csyl:  29\n",
      "sp_rate:  4.919423240033927\n"
     ]
    },
    {
     "name": "stderr",
     "output_type": "stream",
     "text": [
      "Transcribing: 100%|███████████████████████████████████████████████████████████████████████████████████████████████| 1/1 [00:00<00:00,  7.00it/s]\n"
     ]
    },
    {
     "name": "stdout",
     "output_type": "stream",
     "text": [
      "the pride of that dim image brought back to his mind the dignity of the office he had refused\n",
      "pred_csyl:  29\n",
      "pred sp_rate:  4.919423240033927\n",
      "audio path:  /home/dianasimonyan/Desktop/Thesis/SpeakingRateEstimation/data/LibriSpeech/test-clean-labeled/1089/134691/21_61.wav\n",
      "csyl:  61\n",
      "sp_rate:  4.5624532535527305\n"
     ]
    },
    {
     "name": "stderr",
     "output_type": "stream",
     "text": [
      "Transcribing: 100%|███████████████████████████████████████████████████████████████████████████████████████████████| 1/1 [00:00<00:00,  6.39it/s]\n"
     ]
    },
    {
     "name": "stdout",
     "output_type": "stream",
     "text": [
      "their diving stone poised on its rude supports and rocking under their plunges and the rough hewn stones of the sloping brake water over which they scrambled in their horse play gleamed with cold wet luster\n",
      "pred_csyl:  61\n",
      "pred sp_rate:  4.5624532535527305\n",
      "audio path:  /home/dianasimonyan/Desktop/Thesis/SpeakingRateEstimation/data/LibriSpeech/test-clean-labeled/1089/134691/11_94.wav\n",
      "csyl:  94\n",
      "sp_rate:  4.697651174412793\n"
     ]
    },
    {
     "name": "stderr",
     "output_type": "stream",
     "text": [
      "Transcribing: 100%|███████████████████████████████████████████████████████████████████████████████████████████████| 1/1 [00:00<00:00,  5.20it/s]\n"
     ]
    },
    {
     "name": "stdout",
     "output_type": "stream",
     "text": [
      "their piety would be like their names like their faces like their clothes and it was idle for him to tell himself that their humble and contrite hearts it might be paid a far richer tribute of devotion than his had ever been a gift tenfold more acceptable than his elaborate adoration\n",
      "pred_csyl:  94\n",
      "pred sp_rate:  4.697651174412793\n",
      "audio path:  /home/dianasimonyan/Desktop/Thesis/SpeakingRateEstimation/data/LibriSpeech/test-clean-labeled/1089/134691/7_15.wav\n",
      "csyl:  15\n",
      "sp_rate:  4.3604651162790695\n"
     ]
    },
    {
     "name": "stderr",
     "output_type": "stream",
     "text": [
      "Transcribing: 100%|███████████████████████████████████████████████████████████████████████████████████████████████| 1/1 [00:00<00:00, 15.05it/s]\n"
     ]
    },
    {
     "name": "stdout",
     "output_type": "stream",
     "text": [
      "soon the whole bridge was trembling and resounding\n",
      "pred_csyl:  15\n",
      "pred sp_rate:  4.3604651162790695\n",
      "audio path:  /home/dianasimonyan/Desktop/Thesis/SpeakingRateEstimation/data/LibriSpeech/test-clean-labeled/1089/134691/2_50.wav\n",
      "csyl:  50\n",
      "sp_rate:  4.310344827586207\n"
     ]
    },
    {
     "name": "stderr",
     "output_type": "stream",
     "text": [
      "Transcribing: 100%|███████████████████████████████████████████████████████████████████████████████████████████████| 1/1 [00:00<00:00,  6.93it/s]\n"
     ]
    },
    {
     "name": "stdout",
     "output_type": "stream",
     "text": [
      "he set off abruptly for the bull walking rapidly lest his father's shrill whistle might call him back and in a few moments he had rounded the curve at the police barrack and was safe\n",
      "pred_csyl:  50\n",
      "pred sp_rate:  4.310344827586207\n",
      "audio path:  /home/dianasimonyan/Desktop/Thesis/SpeakingRateEstimation/data/LibriSpeech/test-clean-labeled/1089/134691/15_8.wav\n",
      "csyl:  8\n",
      "sp_rate:  2.3564064801178204\n"
     ]
    },
    {
     "name": "stderr",
     "output_type": "stream",
     "text": [
      "Transcribing: 100%|███████████████████████████████████████████████████████████████████████████████████████████████| 1/1 [00:00<00:00, 19.12it/s]\n"
     ]
    },
    {
     "name": "stdout",
     "output_type": "stream",
     "text": [
      "words was it their colors\n",
      "pred_csyl:  7\n",
      "pred sp_rate:  2.0618556701030926\n",
      "audio path:  /home/dianasimonyan/Desktop/Thesis/SpeakingRateEstimation/data/LibriSpeech/test-clean-labeled/1089/134691/3_6.wav\n",
      "csyl:  6\n",
      "sp_rate:  2.7586206896551726\n"
     ]
    },
    {
     "name": "stderr",
     "output_type": "stream",
     "text": [
      "Transcribing: 100%|███████████████████████████████████████████████████████████████████████████████████████████████| 1/1 [00:00<00:00, 24.46it/s]\n"
     ]
    },
    {
     "name": "stdout",
     "output_type": "stream",
     "text": [
      "the university\n",
      "pred_csyl:  6\n",
      "pred sp_rate:  2.7586206896551726\n",
      "audio path:  /home/dianasimonyan/Desktop/Thesis/SpeakingRateEstimation/data/LibriSpeech/test-clean-labeled/1089/134691/12_71.wav\n",
      "csyl:  71\n",
      "sp_rate:  4.723885562208916\n"
     ]
    },
    {
     "name": "stderr",
     "output_type": "stream",
     "text": [
      "Transcribing: 100%|███████████████████████████████████████████████████████████████████████████████████████████████| 1/1 [00:00<00:00,  6.88it/s]\n"
     ]
    },
    {
     "name": "stdout",
     "output_type": "stream",
     "text": [
      "it was idle for him to move himself to be generous towards them to tell himself that if he ever came to their gates stripped of his pride beaten and in beggar's weeds that they would be generous towards him loving him as themselves\n",
      "pred_csyl:  71\n",
      "pred sp_rate:  4.723885562208916\n",
      "audio path:  /home/dianasimonyan/Desktop/Thesis/SpeakingRateEstimation/data/LibriSpeech/test-clean-labeled/1089/134691/8_72.wav\n",
      "csyl:  72\n",
      "sp_rate:  4.804804804804805\n"
     ]
    },
    {
     "name": "stderr",
     "output_type": "stream",
     "text": [
      "Transcribing: 100%|███████████████████████████████████████████████████████████████████████████████████████████████| 1/1 [00:00<00:00,  5.97it/s]\n"
     ]
    },
    {
     "name": "stdout",
     "output_type": "stream",
     "text": [
      "the uncouth faces passed him two by two stained yellow or red or livid by the sea and as he strove to look at them with ease and indifference a faint stain of personal shame and commiseration rose to his own face\n",
      "pred_csyl:  72\n",
      "pred sp_rate:  4.804804804804805\n",
      "audio path:  /home/dianasimonyan/Desktop/Thesis/SpeakingRateEstimation/data/LibriSpeech/test-clean-labeled/1089/134691/14_18.wav\n",
      "csyl:  18\n",
      "sp_rate:  3.7854889589905363\n"
     ]
    },
    {
     "name": "stderr",
     "output_type": "stream",
     "text": [
      "Transcribing: 100%|███████████████████████████████████████████████████████████████████████████████████████████████| 1/1 [00:00<00:00, 16.05it/s]\n"
     ]
    },
    {
     "name": "stdout",
     "output_type": "stream",
     "text": [
      "the phrase and the day and the scene harmonized in accord\n",
      "pred_csyl:  18\n",
      "pred sp_rate:  3.7854889589905363\n",
      "audio path:  /home/dianasimonyan/Desktop/Thesis/SpeakingRateEstimation/data/LibriSpeech/test-clean-labeled/1089/134691/23_42.wav\n",
      "csyl:  42\n",
      "sp_rate:  5.4298642533936645\n"
     ]
    },
    {
     "name": "stderr",
     "output_type": "stream",
     "text": [
      "Transcribing: 100%|███████████████████████████████████████████████████████████████████████████████████████████████| 1/1 [00:00<00:00,  6.54it/s]\n"
     ]
    },
    {
     "name": "stdout",
     "output_type": "stream",
     "text": [
      "it was a pain to see them and a sword like pain to see the signs of adolescence that made repellent their pitiable nakedness\n",
      "pred_csyl:  42\n",
      "pred sp_rate:  5.4298642533936645\n",
      "audio path:  /home/dianasimonyan/Desktop/Thesis/SpeakingRateEstimation/data/LibriSpeech/test-clean-labeled/1089/134691/10_9.wav\n",
      "csyl:  9\n",
      "sp_rate:  2.8169014084507045\n"
     ]
    },
    {
     "name": "stderr",
     "output_type": "stream",
     "text": [
      "Transcribing: 100%|███████████████████████████████████████████████████████████████████████████████████████████████| 1/1 [00:00<00:00, 16.93it/s]\n"
     ]
    },
    {
     "name": "stdout",
     "output_type": "stream",
     "text": [
      "brother mccartel brother kiof\n",
      "pred_csyl:  8\n",
      "pred sp_rate:  2.503912363067293\n",
      "audio path:  /home/dianasimonyan/Desktop/Thesis/SpeakingRateEstimation/data/LibriSpeech/test-clean-labeled/1089/134686/6_47.wav\n",
      "csyl:  47\n",
      "sp_rate:  4.452865940312648\n"
     ]
    },
    {
     "name": "stderr",
     "output_type": "stream",
     "text": [
      "Transcribing: 100%|███████████████████████████████████████████████████████████████████████████████████████████████| 1/1 [00:00<00:00,  6.56it/s]\n"
     ]
    },
    {
     "name": "stdout",
     "output_type": "stream",
     "text": [
      "the dull light fell more faintly upon the page whereon another equation began to unfold itself slowly and to spread abroad its widening tail\n",
      "pred_csyl:  47\n",
      "pred sp_rate:  4.452865940312648\n",
      "audio path:  /home/dianasimonyan/Desktop/Thesis/SpeakingRateEstimation/data/LibriSpeech/test-clean-labeled/1089/134686/30_10.wav\n",
      "csyl:  10\n",
      "sp_rate:  3.683241252302026\n"
     ]
    },
    {
     "name": "stderr",
     "output_type": "stream",
     "text": [
      "Transcribing: 100%|███████████████████████████████████████████████████████████████████████████████████████████████| 1/1 [00:00<00:00, 16.32it/s]\n"
     ]
    },
    {
     "name": "stdout",
     "output_type": "stream",
     "text": [
      "beware of making that mistake\n",
      "pred_csyl:  10\n",
      "pred sp_rate:  3.683241252302026\n",
      "audio path:  /home/dianasimonyan/Desktop/Thesis/SpeakingRateEstimation/data/LibriSpeech/test-clean-labeled/1089/134686/24_53.wav\n",
      "csyl:  53\n",
      "sp_rate:  4.547404547404548\n"
     ]
    },
    {
     "name": "stderr",
     "output_type": "stream",
     "text": [
      "Transcribing: 100%|███████████████████████████████████████████████████████████████████████████████████████████████| 1/1 [00:00<00:00,  7.21it/s]\n"
     ]
    },
    {
     "name": "stdout",
     "output_type": "stream",
     "text": [
      "if the wine change into vinegar and the host crumble into corruption after they have been consecrated is jesus christ still present under their species as god and as man\n",
      "pred_csyl:  53\n",
      "pred sp_rate:  4.547404547404548\n",
      "audio path:  /home/dianasimonyan/Desktop/Thesis/SpeakingRateEstimation/data/LibriSpeech/test-clean-labeled/1089/134686/29_22.wav\n",
      "csyl:  22\n",
      "sp_rate:  4.710920770877944\n"
     ]
    },
    {
     "name": "stderr",
     "output_type": "stream",
     "text": [
      "Transcribing: 100%|███████████████████████████████████████████████████████████████████████████████████████████████| 1/1 [00:00<00:00, 15.29it/s]\n"
     ]
    },
    {
     "name": "stdout",
     "output_type": "stream",
     "text": [
      "on friday confession will be heard all the afternoon after beads\n",
      "pred_csyl:  22\n",
      "pred sp_rate:  4.710920770877944\n",
      "audio path:  /home/dianasimonyan/Desktop/Thesis/SpeakingRateEstimation/data/LibriSpeech/test-clean-labeled/1089/134686/28_39.wav\n",
      "csyl:  39\n",
      "sp_rate:  4.980842911877395\n"
     ]
    },
    {
     "name": "stderr",
     "output_type": "stream",
     "text": [
      "Transcribing: 100%|███████████████████████████████████████████████████████████████████████████████████████████████| 1/1 [00:00<00:00,  8.46it/s]\n"
     ]
    },
    {
     "name": "stdout",
     "output_type": "stream",
     "text": [
      "the retreat will begin on wednesday afternoon in honor of saint francis xavier whose feast day is saturday\n",
      "pred_csyl:  38\n",
      "pred sp_rate:  4.853128991060026\n",
      "audio path:  /home/dianasimonyan/Desktop/Thesis/SpeakingRateEstimation/data/LibriSpeech/test-clean-labeled/1089/134686/27_11.wav\n",
      "csyl:  11\n",
      "sp_rate:  4.059040590405904\n"
     ]
    },
    {
     "name": "stderr",
     "output_type": "stream",
     "text": [
      "Transcribing: 100%|███████████████████████████████████████████████████████████████████████████████████████████████| 1/1 [00:00<00:00, 17.15it/s]\n"
     ]
    },
    {
     "name": "stdout",
     "output_type": "stream",
     "text": [
      "he clasped his hands on the desk and said\n",
      "pred_csyl:  11\n",
      "pred sp_rate:  4.059040590405904\n",
      "audio path:  /home/dianasimonyan/Desktop/Thesis/SpeakingRateEstimation/data/LibriSpeech/test-clean-labeled/1089/134686/10_21.wav\n",
      "csyl:  21\n",
      "sp_rate:  4.767309875141884\n"
     ]
    },
    {
     "name": "stderr",
     "output_type": "stream",
     "text": [
      "Transcribing: 100%|███████████████████████████████████████████████████████████████████████████████████████████████| 1/1 [00:00<00:00, 13.75it/s]\n"
     ]
    },
    {
     "name": "stdout",
     "output_type": "stream",
     "text": [
      "well now ennis i declare you have a head and so has my stick\n",
      "pred_csyl:  21\n",
      "pred sp_rate:  4.767309875141884\n",
      "audio path:  /home/dianasimonyan/Desktop/Thesis/SpeakingRateEstimation/data/LibriSpeech/test-clean-labeled/1089/134686/21_29.wav\n",
      "csyl:  29\n",
      "sp_rate:  4.427480916030534\n"
     ]
    },
    {
     "name": "stderr",
     "output_type": "stream",
     "text": [
      "Transcribing: 100%|███████████████████████████████████████████████████████████████████████████████████████████████| 1/1 [00:00<00:00, 10.28it/s]\n"
     ]
    },
    {
     "name": "stdout",
     "output_type": "stream",
     "text": [
      "if a layman in giving baptism pour the water before saying the words is the child baptized\n",
      "pred_csyl:  29\n",
      "pred sp_rate:  4.427480916030534\n",
      "audio path:  /home/dianasimonyan/Desktop/Thesis/SpeakingRateEstimation/data/LibriSpeech/test-clean-labeled/1089/134686/37_20.wav\n",
      "csyl:  20\n",
      "sp_rate:  3.838771593090211\n"
     ]
    },
    {
     "name": "stderr",
     "output_type": "stream",
     "text": [
      "Transcribing: 100%|███████████████████████████████████████████████████████████████████████████████████████████████| 1/1 [00:00<00:00,  8.89it/s]\n"
     ]
    },
    {
     "name": "stdout",
     "output_type": "stream",
     "text": [
      "in the silence their dark fire kindled the dusk into a tawny glow\n",
      "pred_csyl:  20\n",
      "pred sp_rate:  3.838771593090211\n",
      "audio path:  /home/dianasimonyan/Desktop/Thesis/SpeakingRateEstimation/data/LibriSpeech/test-clean-labeled/1089/134686/23_63.wav\n",
      "csyl:  63\n",
      "sp_rate:  4.745762711864407\n"
     ]
    },
    {
     "name": "stderr",
     "output_type": "stream",
     "text": [
      "Transcribing: 100%|███████████████████████████████████████████████████████████████████████████████████████████████| 1/1 [00:00<00:00,  5.91it/s]\n"
     ]
    },
    {
     "name": "stdout",
     "output_type": "stream",
     "text": [
      "why was the sacrament of the eucharist instituted under the two species of bread and wine if jesus christ be present body and blood soul and divinity in the bread alone and in the wine alone\n",
      "pred_csyl:  63\n",
      "pred sp_rate:  4.745762711864407\n",
      "audio path:  /home/dianasimonyan/Desktop/Thesis/SpeakingRateEstimation/data/LibriSpeech/test-clean-labeled/1089/134686/32_18.wav\n",
      "csyl:  18\n",
      "sp_rate:  4.400977995110025\n"
     ]
    },
    {
     "name": "stderr",
     "output_type": "stream",
     "text": [
      "Transcribing: 100%|███████████████████████████████████████████████████████████████████████████████████████████████| 1/1 [00:00<00:00, 14.21it/s]\n"
     ]
    },
    {
     "name": "stdout",
     "output_type": "stream",
     "text": [
      "he has called as you know the apostle of the indies\n",
      "pred_csyl:  18\n",
      "pred sp_rate:  4.400977995110025\n",
      "audio path:  /home/dianasimonyan/Desktop/Thesis/SpeakingRateEstimation/data/LibriSpeech/test-clean-labeled/1089/134686/34_20.wav\n",
      "csyl:  20\n",
      "sp_rate:  3.442340791738382\n"
     ]
    },
    {
     "name": "stderr",
     "output_type": "stream",
     "text": [
      "Transcribing: 100%|███████████████████████████████████████████████████████████████████████████████████████████████| 1/1 [00:00<00:00, 12.71it/s]\n"
     ]
    },
    {
     "name": "stdout",
     "output_type": "stream",
     "text": [
      "the rector paused and then shaking his clasped hands before him went on\n",
      "pred_csyl:  20\n",
      "pred sp_rate:  3.442340791738382\n",
      "audio path:  /home/dianasimonyan/Desktop/Thesis/SpeakingRateEstimation/data/LibriSpeech/test-clean-labeled/1089/134686/33_12.wav\n",
      "csyl:  12\n",
      "sp_rate:  3.6036036036036037\n"
     ]
    },
    {
     "name": "stderr",
     "output_type": "stream",
     "text": [
      "Transcribing: 100%|███████████████████████████████████████████████████████████████████████████████████████████████| 1/1 [00:00<00:00, 15.21it/s]\n"
     ]
    },
    {
     "name": "stdout",
     "output_type": "stream",
     "text": [
      "a great saint saint francis xavier\n",
      "pred_csyl:  12\n",
      "pred sp_rate:  3.6036036036036037\n",
      "audio path:  /home/dianasimonyan/Desktop/Thesis/SpeakingRateEstimation/data/LibriSpeech/test-clean-labeled/1089/134686/11_63.wav\n",
      "csyl:  63\n",
      "sp_rate:  5.062274005624749\n"
     ]
    },
    {
     "name": "stderr",
     "output_type": "stream",
     "text": [
      "Transcribing: 100%|███████████████████████████████████████████████████████████████████████████████████████████████| 1/1 [00:00<00:00,  6.25it/s]\n"
     ]
    },
    {
     "name": "stdout",
     "output_type": "stream",
     "text": [
      "on saturday mornings when the sodality met in the chapel to recite the little office his place was a cushioned kneeling desk at the right of the altar from which he led his wing of boys through the responses\n",
      "pred_csyl:  63\n",
      "pred sp_rate:  5.062274005624749\n",
      "audio path:  /home/dianasimonyan/Desktop/Thesis/SpeakingRateEstimation/data/LibriSpeech/test-clean-labeled/1089/134686/5_43.wav\n",
      "csyl:  43\n",
      "sp_rate:  4.462895692786716\n"
     ]
    },
    {
     "name": "stderr",
     "output_type": "stream",
     "text": [
      "Transcribing: 100%|███████████████████████████████████████████████████████████████████████████████████████████████| 1/1 [00:00<00:00,  8.13it/s]\n"
     ]
    },
    {
     "name": "stdout",
     "output_type": "stream",
     "text": [
      "the music came nearer and he recalled the words the words of shelley's fragment upon the moon wandering companionless pale for weariness\n",
      "pred_csyl:  43\n",
      "pred sp_rate:  4.462895692786716\n",
      "audio path:  /home/dianasimonyan/Desktop/Thesis/SpeakingRateEstimation/data/LibriSpeech/test-clean-labeled/1089/134686/22_56.wav\n",
      "csyl:  56\n",
      "sp_rate:  5.011185682326621\n"
     ]
    },
    {
     "name": "stderr",
     "output_type": "stream",
     "text": [
      "Transcribing: 100%|███████████████████████████████████████████████████████████████████████████████████████████████| 1/1 [00:00<00:00,  6.96it/s]\n"
     ]
    },
    {
     "name": "stdout",
     "output_type": "stream",
     "text": [
      "how comes it that while the first beatitude promises the kingdom of heaven to the poor of heart the second beatitude promises also to the meek that they shall possess the land\n",
      "pred_csyl:  56\n",
      "pred sp_rate:  5.011185682326621\n",
      "audio path:  /home/dianasimonyan/Desktop/Thesis/SpeakingRateEstimation/data/LibriSpeech/test-clean-labeled/1089/134686/15_24.wav\n",
      "csyl:  24\n",
      "sp_rate:  4.12725709372313\n"
     ]
    },
    {
     "name": "stderr",
     "output_type": "stream",
     "text": [
      "Transcribing: 100%|███████████████████████████████████████████████████████████████████████████████████████████████| 1/1 [00:00<00:00, 12.35it/s]\n"
     ]
    },
    {
     "name": "stdout",
     "output_type": "stream",
     "text": [
      "but the dusk deepening in the school room covered over his thoughts the bell rang\n",
      "pred_csyl:  24\n",
      "pred sp_rate:  4.12725709372313\n",
      "audio path:  /home/dianasimonyan/Desktop/Thesis/SpeakingRateEstimation/data/LibriSpeech/test-clean-labeled/1089/134686/4_19.wav\n",
      "csyl:  19\n",
      "sp_rate:  3.643292865617622\n"
     ]
    },
    {
     "name": "stderr",
     "output_type": "stream",
     "text": [
      "Transcribing: 100%|███████████████████████████████████████████████████████████████████████████████████████████████| 1/1 [00:00<00:00, 13.92it/s]\n"
     ]
    },
    {
     "name": "stdout",
     "output_type": "stream",
     "text": [
      "number ten fresh nellie is waiting on you good night husband\n",
      "pred_csyl:  20\n",
      "pred sp_rate:  3.83504512170276\n",
      "audio path:  /home/dianasimonyan/Desktop/Thesis/SpeakingRateEstimation/data/LibriSpeech/test-clean-labeled/1089/134686/19_63.wav\n",
      "csyl:  63\n",
      "sp_rate:  4.534005037783375\n"
     ]
    },
    {
     "name": "stderr",
     "output_type": "stream",
     "text": [
      "Transcribing: 100%|███████████████████████████████████████████████████████████████████████████████████████████████| 1/1 [00:00<00:00,  5.97it/s]\n"
     ]
    },
    {
     "name": "stdout",
     "output_type": "stream",
     "text": [
      "the sentence of saint james which says that he who offends against one commandment becomes guilty of all had seemed to him first a swollen phrase until he had begun to grope in the darkness of his own state\n",
      "pred_csyl:  63\n",
      "pred sp_rate:  4.534005037783375\n",
      "audio path:  /home/dianasimonyan/Desktop/Thesis/SpeakingRateEstimation/data/LibriSpeech/test-clean-labeled/1089/134686/13_32.wav\n",
      "csyl:  32\n",
      "sp_rate:  4.042956411876184\n"
     ]
    },
    {
     "name": "stderr",
     "output_type": "stream",
     "text": [
      "Transcribing: 100%|███████████████████████████████████████████████████████████████████████████████████████████████| 1/1 [00:00<00:00,  7.49it/s]\n"
     ]
    },
    {
     "name": "stdout",
     "output_type": "stream",
     "text": [
      "if ever he was impelled to cast sin from him and to repent the impulse that moved him was the wish to be her knight\n",
      "pred_csyl:  32\n",
      "pred sp_rate:  4.042956411876184\n",
      "audio path:  /home/dianasimonyan/Desktop/Thesis/SpeakingRateEstimation/data/LibriSpeech/test-clean-labeled/1089/134686/7_16.wav\n",
      "csyl:  16\n",
      "sp_rate:  3.742690058479532\n"
     ]
    },
    {
     "name": "stderr",
     "output_type": "stream",
     "text": [
      "Transcribing: 100%|███████████████████████████████████████████████████████████████████████████████████████████████| 1/1 [00:00<00:00, 14.52it/s]\n"
     ]
    },
    {
     "name": "stdout",
     "output_type": "stream",
     "text": [
      "a cold lucid indifference reigned in his soul\n",
      "pred_csyl:  16\n",
      "pred sp_rate:  3.742690058479532\n",
      "audio path:  /home/dianasimonyan/Desktop/Thesis/SpeakingRateEstimation/data/LibriSpeech/test-clean-labeled/1089/134686/20_79.wav\n",
      "csyl:  79\n",
      "sp_rate:  4.705181655747469\n"
     ]
    },
    {
     "name": "stderr",
     "output_type": "stream",
     "text": [
      "Transcribing: 100%|███████████████████████████████████████████████████████████████████████████████████████████████| 1/1 [00:00<00:00,  5.39it/s]\n"
     ]
    },
    {
     "name": "stdout",
     "output_type": "stream",
     "text": [
      "if a man had stolen a pound in his youth and had used that pound to amass a huge fortune how much was he obliged to give back the pound he had stolen only or the pound together with the compound interest accruing upon it or all his huge fortune\n",
      "pred_csyl:  79\n",
      "pred sp_rate:  4.705181655747469\n",
      "audio path:  /home/dianasimonyan/Desktop/Thesis/SpeakingRateEstimation/data/LibriSpeech/test-clean-labeled/1089/134686/3_14.wav\n",
      "csyl:  14\n",
      "sp_rate:  5.223880597014925\n"
     ]
    },
    {
     "name": "stderr",
     "output_type": "stream",
     "text": [
      "Transcribing: 100%|███████████████████████████████████████████████████████████████████████████████████████████████| 1/1 [00:00<00:00, 17.97it/s]\n"
     ]
    },
    {
     "name": "stdout",
     "output_type": "stream",
     "text": [
      "hello bertie any good in your mind\n",
      "pred_csyl:  14\n",
      "pred sp_rate:  5.223880597014925\n",
      "audio path:  /home/dianasimonyan/Desktop/Thesis/SpeakingRateEstimation/data/LibriSpeech/test-clean-labeled/1089/134686/12_50.wav\n",
      "csyl:  50\n",
      "sp_rate:  4.29553264604811\n"
     ]
    },
    {
     "name": "stderr",
     "output_type": "stream",
     "text": [
      "Transcribing: 100%|███████████████████████████████████████████████████████████████████████████████████████████████| 1/1 [00:00<00:00,  6.54it/s]\n"
     ]
    },
    {
     "name": "stdout",
     "output_type": "stream",
     "text": [
      "her eyes seemed to regard him with mild pity her holiness a strange light glowing faintly upon her frail flesh did not humiliate the sinner who approached her\n",
      "pred_csyl:  50\n",
      "pred sp_rate:  4.29553264604811\n",
      "audio path:  /home/dianasimonyan/Desktop/Thesis/SpeakingRateEstimation/data/LibriSpeech/test-clean-labeled/1089/134686/35_14.wav\n",
      "csyl:  14\n",
      "sp_rate:  4.063860667634253\n"
     ]
    },
    {
     "name": "stderr",
     "output_type": "stream",
     "text": [
      "Transcribing: 100%|███████████████████████████████████████████████████████████████████████████████████████████████| 1/1 [00:00<00:00, 11.20it/s]\n"
     ]
    },
    {
     "name": "stdout",
     "output_type": "stream",
     "text": [
      "he had the faith in him that moves mountains\n",
      "pred_csyl:  14\n",
      "pred sp_rate:  4.063860667634253\n",
      "audio path:  /home/dianasimonyan/Desktop/Thesis/SpeakingRateEstimation/data/LibriSpeech/test-clean-labeled/1089/134686/16_19.wav\n",
      "csyl:  19\n",
      "sp_rate:  5.367231638418079\n"
     ]
    },
    {
     "name": "stderr",
     "output_type": "stream",
     "text": [
      "Transcribing: 100%|███████████████████████████████████████████████████████████████████████████████████████████████| 1/1 [00:00<00:00, 14.41it/s]\n"
     ]
    },
    {
     "name": "stdout",
     "output_type": "stream",
     "text": [
      "then you can ask him questions on the catechism dedalus\n",
      "pred_csyl:  19\n",
      "pred sp_rate:  5.367231638418079\n",
      "audio path:  /home/dianasimonyan/Desktop/Thesis/SpeakingRateEstimation/data/LibriSpeech/test-clean-labeled/1089/134686/2_32.wav\n",
      "csyl:  32\n",
      "sp_rate:  4.830188679245283\n"
     ]
    },
    {
     "name": "stderr",
     "output_type": "stream",
     "text": [
      "Transcribing: 100%|███████████████████████████████████████████████████████████████████████████████████████████████| 1/1 [00:00<00:00, 10.23it/s]\n"
     ]
    },
    {
     "name": "stdout",
     "output_type": "stream",
     "text": [
      "after early nightfall the yellow lamps would light up here and there the squalid quarter of the brothels\n",
      "pred_csyl:  32\n",
      "pred sp_rate:  4.830188679245283\n",
      "audio path:  /home/dianasimonyan/Desktop/Thesis/SpeakingRateEstimation/data/LibriSpeech/test-clean-labeled/1089/134686/1_15.wav\n",
      "csyl:  15\n",
      "sp_rate:  4.580152671755726\n"
     ]
    },
    {
     "name": "stderr",
     "output_type": "stream",
     "text": [
      "Transcribing: 100%|███████████████████████████████████████████████████████████████████████████████████████████████| 1/1 [00:00<00:00, 15.18it/s]\n"
     ]
    },
    {
     "name": "stdout",
     "output_type": "stream",
     "text": [
      "stuff it into you his belly counseled him\n",
      "pred_csyl:  15\n",
      "pred sp_rate:  4.580152671755726\n",
      "audio path:  /home/dianasimonyan/Desktop/Thesis/SpeakingRateEstimation/data/LibriSpeech/test-clean-labeled/1089/134686/17_40.wav\n",
      "csyl:  40\n",
      "sp_rate:  4.509582863585119\n"
     ]
    },
    {
     "name": "stderr",
     "output_type": "stream",
     "text": [
      "Transcribing: 100%|███████████████████████████████████████████████████████████████████████████████████████████████| 1/1 [00:00<00:00,  9.48it/s]\n"
     ]
    },
    {
     "name": "stdout",
     "output_type": "stream",
     "text": [
      "stephen leaning back and drawing idly on his scribbler listened to the talk about him which heron checked from time to time by saying\n",
      "pred_csyl:  40\n",
      "pred sp_rate:  4.509582863585119\n",
      "audio path:  /home/dianasimonyan/Desktop/Thesis/SpeakingRateEstimation/data/LibriSpeech/test-clean-labeled/1089/134686/18_72.wav\n",
      "csyl:  72\n",
      "sp_rate:  4.580152671755725\n"
     ]
    },
    {
     "name": "stderr",
     "output_type": "stream",
     "text": [
      "Transcribing: 100%|███████████████████████████████████████████████████████████████████████████████████████████████| 1/1 [00:00<00:00,  6.15it/s]\n"
     ]
    },
    {
     "name": "stdout",
     "output_type": "stream",
     "text": [
      "it was strange too that he found an arid pleasure in following up to the end the rigid lines of the doctrines of the church and penetrating into obscure silences only to hear and feel the more deeply his own condemnation\n",
      "pred_csyl:  72\n",
      "pred sp_rate:  4.580152671755725\n",
      "audio path:  /home/dianasimonyan/Desktop/Thesis/SpeakingRateEstimation/data/LibriSpeech/test-clean-labeled/1089/134686/25_28.wav\n",
      "csyl:  28\n",
      "sp_rate:  4.236006051437216\n"
     ]
    },
    {
     "name": "stderr",
     "output_type": "stream",
     "text": [
      "Transcribing: 100%|███████████████████████████████████████████████████████████████████████████████████████████████| 1/1 [00:00<00:00,  9.83it/s]\n"
     ]
    },
    {
     "name": "stdout",
     "output_type": "stream",
     "text": [
      "a gentle kick from the tall boy in the bench behind urged stephen to ask a difficult question\n",
      "pred_csyl:  28\n",
      "pred sp_rate:  4.236006051437216\n",
      "audio path:  /home/dianasimonyan/Desktop/Thesis/SpeakingRateEstimation/data/LibriSpeech/test-clean-labeled/1089/134686/14_10.wav\n",
      "csyl:  10\n",
      "sp_rate:  4.4943820224719095\n"
     ]
    },
    {
     "name": "stderr",
     "output_type": "stream",
     "text": [
      "Transcribing: 100%|███████████████████████████████████████████████████████████████████████████████████████████████| 1/1 [00:00<00:00, 21.44it/s]\n"
     ]
    },
    {
     "name": "stdout",
     "output_type": "stream",
     "text": [
      "he tried to think how it could be\n",
      "pred_csyl:  10\n",
      "pred sp_rate:  4.4943820224719095\n",
      "audio path:  /home/dianasimonyan/Desktop/Thesis/SpeakingRateEstimation/data/LibriSpeech/test-clean-labeled/1089/134686/0_51.wav\n",
      "csyl:  51\n",
      "sp_rate:  4.8873981792046\n"
     ]
    },
    {
     "name": "stderr",
     "output_type": "stream",
     "text": [
      "Transcribing: 100%|███████████████████████████████████████████████████████████████████████████████████████████████| 1/1 [00:00<00:00,  6.45it/s]\n"
     ]
    },
    {
     "name": "stdout",
     "output_type": "stream",
     "text": [
      "he hoped there would be stew for dinner turnips and carrots and bruised potatoes and fat mutton pieces to be ladled out in thick peppered flour fattened sauce\n",
      "pred_csyl:  51\n",
      "pred sp_rate:  4.8873981792046\n",
      "audio path:  /home/dianasimonyan/Desktop/Thesis/SpeakingRateEstimation/data/LibriSpeech/test-clean-labeled/1089/134686/36_12.wav\n",
      "csyl:  12\n",
      "sp_rate:  3.6923076923076925\n"
     ]
    },
    {
     "name": "stderr",
     "output_type": "stream",
     "text": [
      "Transcribing: 100%|███████████████████████████████████████████████████████████████████████████████████████████████| 1/1 [00:00<00:00, 11.56it/s]\n"
     ]
    },
    {
     "name": "stdout",
     "output_type": "stream",
     "text": [
      "a great saint saint francis xavier\n",
      "pred_csyl:  12\n",
      "pred sp_rate:  3.6923076923076925\n",
      "audio path:  /home/dianasimonyan/Desktop/Thesis/SpeakingRateEstimation/data/LibriSpeech/test-clean-labeled/1089/134686/8_29.wav\n",
      "csyl:  29\n",
      "sp_rate:  4.3090638930163445\n"
     ]
    },
    {
     "name": "stderr",
     "output_type": "stream",
     "text": [
      "Transcribing: 100%|███████████████████████████████████████████████████████████████████████████████████████████████| 1/1 [00:00<00:00,  9.03it/s]\n"
     ]
    },
    {
     "name": "stdout",
     "output_type": "stream",
     "text": [
      "the chaos in which his ardour extinguished itself was a cold indifferent knowledge of himself\n",
      "pred_csyl:  29\n",
      "pred sp_rate:  4.3090638930163445\n",
      "audio path:  /home/dianasimonyan/Desktop/Thesis/SpeakingRateEstimation/data/LibriSpeech/test-clean-labeled/1089/134686/9_43.wav\n",
      "csyl:  43\n",
      "sp_rate:  4.0661938534278965\n"
     ]
    },
    {
     "name": "stderr",
     "output_type": "stream",
     "text": [
      "Transcribing: 100%|███████████████████████████████████████████████████████████████████████████████████████████████| 1/1 [00:00<00:00,  8.47it/s]\n"
     ]
    },
    {
     "name": "stdout",
     "output_type": "stream",
     "text": [
      "at most by an alms given to a beggar whose blessing he fled from he might hope wearily to win for himself some measure of actual grace\n",
      "pred_csyl:  43\n",
      "pred sp_rate:  4.0661938534278965\n",
      "audio path:  /home/dianasimonyan/Desktop/Thesis/SpeakingRateEstimation/data/LibriSpeech/test-clean-labeled/1089/134686/31_24.wav\n",
      "csyl:  24\n",
      "sp_rate:  3.6281179138321993\n"
     ]
    },
    {
     "name": "stderr",
     "output_type": "stream",
     "text": [
      "Transcribing: 100%|███████████████████████████████████████████████████████████████████████████████████████████████| 1/1 [00:00<00:00, 12.68it/s]\n"
     ]
    },
    {
     "name": "stdout",
     "output_type": "stream",
     "text": [
      "stephen's heart began slowly to fold and fade with fear like a withering flower\n",
      "pred_csyl:  24\n",
      "pred sp_rate:  3.6281179138321993\n",
      "audio path:  /home/dianasimonyan/Desktop/Thesis/SpeakingRateEstimation/data/LibriSpeech/test-clean-labeled/1089/134686/26_18.wav\n",
      "csyl:  18\n",
      "sp_rate:  4.488778054862843\n"
     ]
    },
    {
     "name": "stderr",
     "output_type": "stream",
     "text": [
      "Transcribing: 100%|███████████████████████████████████████████████████████████████████████████████████████████████| 1/1 [00:00<00:00, 14.10it/s]\n"
     ]
    },
    {
     "name": "stdout",
     "output_type": "stream",
     "text": [
      "the rector did not ask for a catechism to hear the lesson from\n",
      "pred_csyl:  18\n",
      "pred sp_rate:  4.488778054862843\n",
      "audio path:  /home/dianasimonyan/Desktop/Thesis/SpeakingRateEstimation/data/LibriSpeech/test-clean-labeled/7021/79740/1_26.wav\n",
      "csyl:  26\n",
      "sp_rate:  4.336947456213511\n"
     ]
    },
    {
     "name": "stderr",
     "output_type": "stream",
     "text": [
      "Transcribing: 100%|███████████████████████████████████████████████████████████████████████████████████████████████| 1/1 [00:00<00:00,  9.35it/s]"
     ]
    },
    {
     "name": "stdout",
     "output_type": "stream",
     "text": [
      "della had a young sister named maria and a cousin whose name was jane"
     ]
    },
    {
     "name": "stderr",
     "output_type": "stream",
     "text": [
      "\n"
     ]
    },
    {
     "name": "stdout",
     "output_type": "stream",
     "text": [
      "\n",
      "pred_csyl:  26\n",
      "pred sp_rate:  4.336947456213511\n",
      "audio path:  /home/dianasimonyan/Desktop/Thesis/SpeakingRateEstimation/data/LibriSpeech/test-clean-labeled/7021/79740/5_5.wav\n",
      "csyl:  5\n",
      "sp_rate:  2.3696682464454977\n"
     ]
    },
    {
     "name": "stderr",
     "output_type": "stream",
     "text": [
      "Transcribing: 100%|███████████████████████████████████████████████████████████████████████████████████████████████| 1/1 [00:00<00:00, 21.12it/s]\n"
     ]
    },
    {
     "name": "stdout",
     "output_type": "stream",
     "text": [
      "i am very glad\n",
      "pred_csyl:  5\n",
      "pred sp_rate:  2.3696682464454977\n",
      "audio path:  /home/dianasimonyan/Desktop/Thesis/SpeakingRateEstimation/data/LibriSpeech/test-clean-labeled/7021/79740/10_59.wav\n",
      "csyl:  59\n",
      "sp_rate:  4.906444906444906\n"
     ]
    },
    {
     "name": "stderr",
     "output_type": "stream",
     "text": [
      "Transcribing: 100%|███████████████████████████████████████████████████████████████████████████████████████████████| 1/1 [00:00<00:00,  7.96it/s]"
     ]
    },
    {
     "name": "stdout",
     "output_type": "stream",
     "text": [
      "delia came to the parlour and with an air of great mystery beckoned the children aside and said to them in a whisper leave and dela and rosalie here and don't say a word to them\n",
      "pred_csyl:  60\n",
      "pred sp_rate:  4.98960498960499\n",
      "audio path:  /home/dianasimonyan/Desktop/Thesis/SpeakingRateEstimation/data/LibriSpeech/test-clean-labeled/7021/79740/13_39.wav\n",
      "csyl:  39\n"
     ]
    },
    {
     "name": "stderr",
     "output_type": "stream",
     "text": [
      "\n"
     ]
    },
    {
     "name": "stdout",
     "output_type": "stream",
     "text": [
      "sp_rate:  5.295315682281059\n"
     ]
    },
    {
     "name": "stderr",
     "output_type": "stream",
     "text": [
      "Transcribing: 100%|███████████████████████████████████████████████████████████████████████████████████████████████| 1/1 [00:00<00:00,  9.16it/s]\n"
     ]
    },
    {
     "name": "stdout",
     "output_type": "stream",
     "text": [
      "put these playthings all away quick and carefully and we will not let them know anything about your leaving them out\n",
      "pred_csyl:  39\n",
      "pred sp_rate:  5.295315682281059\n",
      "audio path:  /home/dianasimonyan/Desktop/Thesis/SpeakingRateEstimation/data/LibriSpeech/test-clean-labeled/7021/79740/0_55.wav\n",
      "csyl:  55\n",
      "sp_rate:  4.943820224719101\n"
     ]
    },
    {
     "name": "stderr",
     "output_type": "stream",
     "text": [
      "Transcribing: 100%|███████████████████████████████████████████████████████████████████████████████████████████████| 1/1 [00:00<00:00,  7.76it/s]\n"
     ]
    },
    {
     "name": "stdout",
     "output_type": "stream",
     "text": [
      "to such persons these indirect modes of training children in habits of subordination to their will or rather of yielding to their influence are specially useful\n",
      "pred_csyl:  55\n",
      "pred sp_rate:  4.943820224719101\n",
      "audio path:  /home/dianasimonyan/Desktop/Thesis/SpeakingRateEstimation/data/LibriSpeech/test-clean-labeled/7021/79740/2_38.wav\n",
      "csyl:  38\n",
      "sp_rate:  4.119241192411924\n"
     ]
    },
    {
     "name": "stderr",
     "output_type": "stream",
     "text": [
      "Transcribing: 100%|███████████████████████████████████████████████████████████████████████████████████████████████| 1/1 [00:00<00:00,  9.70it/s]\n"
     ]
    },
    {
     "name": "stdout",
     "output_type": "stream",
     "text": [
      "now delia contrived to obtain a great influence and ascendency over the minds of the children by means of these dolls\n",
      "pred_csyl:  38\n",
      "pred sp_rate:  4.119241192411924\n",
      "audio path:  /home/dianasimonyan/Desktop/Thesis/SpeakingRateEstimation/data/LibriSpeech/test-clean-labeled/7021/79740/6_29.wav\n",
      "csyl:  29\n",
      "sp_rate:  4.861693210393965\n"
     ]
    },
    {
     "name": "stderr",
     "output_type": "stream",
     "text": [
      "Transcribing: 100%|███████████████████████████████████████████████████████████████████████████████████████████████| 1/1 [00:00<00:00, 11.78it/s]\n"
     ]
    },
    {
     "name": "stdout",
     "output_type": "stream",
     "text": [
      "i expect you have been a very good girl anella since you were here last\n",
      "pred_csyl:  29\n",
      "pred sp_rate:  4.861693210393965\n",
      "audio path:  /home/dianasimonyan/Desktop/Thesis/SpeakingRateEstimation/data/LibriSpeech/test-clean-labeled/7021/79740/9_16.wav\n",
      "csyl:  16\n",
      "sp_rate:  4.401650618982119\n"
     ]
    },
    {
     "name": "stderr",
     "output_type": "stream",
     "text": [
      "Transcribing: 100%|███████████████████████████████████████████████████████████████████████████████████████████████| 1/1 [00:00<00:00, 16.62it/s]\n"
     ]
    },
    {
     "name": "stdout",
     "output_type": "stream",
     "text": [
      "they were now playing with their dolls in the parlour\n",
      "pred_csyl:  17\n",
      "pred sp_rate:  4.676753782668501\n",
      "audio path:  /home/dianasimonyan/Desktop/Thesis/SpeakingRateEstimation/data/LibriSpeech/test-clean-labeled/7021/79740/3_25.wav\n",
      "csyl:  25\n",
      "sp_rate:  5.015045135406218\n"
     ]
    },
    {
     "name": "stderr",
     "output_type": "stream",
     "text": [
      "Transcribing: 100%|███████████████████████████████████████████████████████████████████████████████████████████████| 1/1 [00:00<00:00, 12.76it/s]\n"
     ]
    },
    {
     "name": "stdout",
     "output_type": "stream",
     "text": [
      "to give an idea of these conversations i will report one of them in full\n",
      "pred_csyl:  25\n",
      "pred sp_rate:  5.015045135406218\n",
      "audio path:  /home/dianasimonyan/Desktop/Thesis/SpeakingRateEstimation/data/LibriSpeech/test-clean-labeled/7021/79740/11_46.wav\n",
      "csyl:  46\n",
      "sp_rate:  4.459524963645177\n"
     ]
    },
    {
     "name": "stderr",
     "output_type": "stream",
     "text": [
      "Transcribing: 100%|███████████████████████████████████████████████████████████████████████████████████████████████| 1/1 [00:00<00:00,  6.95it/s]\n"
     ]
    },
    {
     "name": "stdout",
     "output_type": "stream",
     "text": [
      "so saying she led the way on tiptoe followed by the children out of the room and round by a circuitous root to the piazza there\n",
      "pred_csyl:  45\n",
      "pred sp_rate:  4.362578768783325\n",
      "audio path:  /home/dianasimonyan/Desktop/Thesis/SpeakingRateEstimation/data/LibriSpeech/test-clean-labeled/7021/79740/14_78.wav\n",
      "csyl:  78\n",
      "sp_rate:  5.502645502645502\n"
     ]
    },
    {
     "name": "stderr",
     "output_type": "stream",
     "text": [
      "Transcribing: 100%|███████████████████████████████████████████████████████████████████████████████████████████████| 1/1 [00:00<00:00,  5.94it/s]\n"
     ]
    },
    {
     "name": "stdout",
     "output_type": "stream",
     "text": [
      "and this method of treating the case was much more effectual in making them disposed to avoid committing a similar fault another time than any direct rebukes or expressions of displeasure addressed personally to them would have been\n",
      "pred_csyl:  78\n",
      "pred sp_rate:  5.502645502645502\n",
      "audio path:  /home/dianasimonyan/Desktop/Thesis/SpeakingRateEstimation/data/LibriSpeech/test-clean-labeled/7021/79740/12_13.wav\n",
      "csyl:  13\n",
      "sp_rate:  3.9877300613496933\n"
     ]
    },
    {
     "name": "stderr",
     "output_type": "stream",
     "text": [
      "Transcribing: 100%|███████████████████████████████████████████████████████████████████████████████████████████████| 1/1 [00:00<00:00, 17.72it/s]\n"
     ]
    },
    {
     "name": "stdout",
     "output_type": "stream",
     "text": [
      "said she pointing to the playthings see\n",
      "pred_csyl:  13\n",
      "pred sp_rate:  3.9877300613496933\n",
      "audio path:  /home/dianasimonyan/Desktop/Thesis/SpeakingRateEstimation/data/LibriSpeech/test-clean-labeled/7021/79740/7_29.wav\n",
      "csyl:  29\n",
      "sp_rate:  4.148783977110157\n"
     ]
    },
    {
     "name": "stderr",
     "output_type": "stream",
     "text": [
      "Transcribing: 100%|███████████████████████████████████████████████████████████████████████████████████████████████| 1/1 [00:00<00:00, 12.70it/s]\n"
     ]
    },
    {
     "name": "stdout",
     "output_type": "stream",
     "text": [
      "then turning to jane she asked in a somewhat altered tone has she been a good girl jane\n",
      "pred_csyl:  29\n",
      "pred sp_rate:  4.148783977110157\n",
      "audio path:  /home/dianasimonyan/Desktop/Thesis/SpeakingRateEstimation/data/LibriSpeech/test-clean-labeled/7021/79740/8_84.wav\n",
      "csyl:  84\n",
      "sp_rate:  4.5614987781699705\n"
     ]
    },
    {
     "name": "stderr",
     "output_type": "stream",
     "text": [
      "Transcribing: 100%|███████████████████████████████████████████████████████████████████████████████████████████████| 1/1 [00:00<00:00,  4.87it/s]\n"
     ]
    },
    {
     "name": "stdout",
     "output_type": "stream",
     "text": [
      "for instance one day the children had been playing upon the piazza with blocks and other playthings and finally had gone into the house leaving all the things on the floor of the piazza instead of putting them away in their places as they ought to have done\n",
      "pred_csyl:  84\n",
      "pred sp_rate:  4.5614987781699705\n",
      "audio path:  /home/dianasimonyan/Desktop/Thesis/SpeakingRateEstimation/data/LibriSpeech/test-clean-labeled/7021/79740/4_31.wav\n",
      "csyl:  31\n",
      "sp_rate:  4.795050270688322\n"
     ]
    },
    {
     "name": "stderr",
     "output_type": "stream",
     "text": [
      "Transcribing: 100%|███████████████████████████████████████████████████████████████████████████████████████████████| 1/1 [00:00<00:00, 12.89it/s]\n"
     ]
    },
    {
     "name": "stdout",
     "output_type": "stream",
     "text": [
      "you have come andella andella was the name of jane stal to make rosalie a visit\n",
      "pred_csyl:  31\n",
      "pred sp_rate:  4.795050270688322\n",
      "audio path:  /home/dianasimonyan/Desktop/Thesis/SpeakingRateEstimation/data/LibriSpeech/test-clean-labeled/7021/79730/4_83.wav\n",
      "csyl:  83\n",
      "sp_rate:  4.625243800501532\n"
     ]
    },
    {
     "name": "stderr",
     "output_type": "stream",
     "text": [
      "Transcribing: 100%|███████████████████████████████████████████████████████████████████████████████████████████████| 1/1 [00:00<00:00,  5.75it/s]\n"
     ]
    },
    {
     "name": "stdout",
     "output_type": "stream",
     "text": [
      "the mother as soon as the chase is so far turned that mary can no longer watch the expression of her countenance goes away from the door with a smile of complacency and satisfaction on her face at the ingenuity and success of her little artifice\n",
      "pred_csyl:  81\n",
      "pred sp_rate:  4.513792142658122\n",
      "audio path:  /home/dianasimonyan/Desktop/Thesis/SpeakingRateEstimation/data/LibriSpeech/test-clean-labeled/7021/79730/5_36.wav\n",
      "csyl:  36\n",
      "sp_rate:  4.49438202247191\n"
     ]
    },
    {
     "name": "stderr",
     "output_type": "stream",
     "text": [
      "Transcribing: 100%|███████████████████████████████████████████████████████████████████████████████████████████████| 1/1 [00:00<00:00, 10.16it/s]\n"
     ]
    },
    {
     "name": "stdout",
     "output_type": "stream",
     "text": [
      "so you will be a good girl i know and not make any trouble but we'll stay at home contentedly won't you\n",
      "pred_csyl:  36\n",
      "pred sp_rate:  4.49438202247191\n",
      "audio path:  /home/dianasimonyan/Desktop/Thesis/SpeakingRateEstimation/data/LibriSpeech/test-clean-labeled/7021/79730/7_57.wav\n",
      "csyl:  57\n",
      "sp_rate:  4.576475311120032\n"
     ]
    },
    {
     "name": "stderr",
     "output_type": "stream",
     "text": [
      "Transcribing: 100%|███████████████████████████████████████████████████████████████████████████████████████████████| 1/1 [00:00<00:00,  6.93it/s]\n"
     ]
    },
    {
     "name": "stdout",
     "output_type": "stream",
     "text": [
      "if you should not be a good girl but should show signs of making us any trouble i shall have to send you out somewhere to the back part of the house until we are gone\n",
      "pred_csyl:  57\n",
      "pred sp_rate:  4.576475311120032\n",
      "audio path:  /home/dianasimonyan/Desktop/Thesis/SpeakingRateEstimation/data/LibriSpeech/test-clean-labeled/7021/79730/3_121.wav\n",
      "csyl:  121\n",
      "sp_rate:  3.680048661800486\n"
     ]
    },
    {
     "name": "stderr",
     "output_type": "stream",
     "text": [
      "Transcribing: 100%|███████████████████████████████████████████████████████████████████████████████████████████████| 1/1 [00:00<00:00,  3.20it/s]\n"
     ]
    },
    {
     "name": "stdout",
     "output_type": "stream",
     "text": [
      "as the chase drives away mary stands bewildered and perplexed on the doorstep her mind in a tumult of excitement in which hatred of the doctor distrust and suspicion of her mother disappointment vexation and ill humor surge and swell among those delegate organizations on which the structure and development of the soul so closely depend doing perhaps an irreparable injury\n",
      "pred_csyl:  120\n",
      "pred sp_rate:  3.64963503649635\n",
      "audio path:  /home/dianasimonyan/Desktop/Thesis/SpeakingRateEstimation/data/LibriSpeech/test-clean-labeled/7021/79730/9_55.wav\n",
      "csyl:  55\n",
      "sp_rate:  4.370282081843464\n"
     ]
    },
    {
     "name": "stderr",
     "output_type": "stream",
     "text": [
      "Transcribing: 100%|███████████████████████████████████████████████████████████████████████████████████████████████| 1/1 [00:00<00:00,  6.94it/s]\n"
     ]
    },
    {
     "name": "stdout",
     "output_type": "stream",
     "text": [
      "it is indeed true that the importance of tact and skill in the training of the young and of cultivating their reason and securing their affection cannot be overrated\n",
      "pred_csyl:  55\n",
      "pred sp_rate:  4.370282081843464\n",
      "audio path:  /home/dianasimonyan/Desktop/Thesis/SpeakingRateEstimation/data/LibriSpeech/test-clean-labeled/7021/79730/1_44.wav\n",
      "csyl:  44\n",
      "sp_rate:  3.829416884247171\n"
     ]
    },
    {
     "name": "stderr",
     "output_type": "stream",
     "text": [
      "Transcribing: 100%|███████████████████████████████████████████████████████████████████████████████████████████████| 1/1 [00:00<00:00,  7.01it/s]\n"
     ]
    },
    {
     "name": "stdout",
     "output_type": "stream",
     "text": [
      "to suppose that the object of this work is to aid in effecting such a substitution as that is entirely to mistake its nature and design\n",
      "pred_csyl:  44\n",
      "pred sp_rate:  3.829416884247171\n",
      "audio path:  /home/dianasimonyan/Desktop/Thesis/SpeakingRateEstimation/data/LibriSpeech/test-clean-labeled/7021/79730/2_9.wav\n",
      "csyl:  9\n",
      "sp_rate:  3.345724907063197\n"
     ]
    },
    {
     "name": "stderr",
     "output_type": "stream",
     "text": [
      "Transcribing: 100%|███████████████████████████████████████████████████████████████████████████████████████████████| 1/1 [00:00<00:00, 18.41it/s]\n"
     ]
    },
    {
     "name": "stdout",
     "output_type": "stream",
     "text": [
      "by reason and affection\n",
      "pred_csyl:  9\n",
      "pred sp_rate:  3.345724907063197\n",
      "audio path:  /home/dianasimonyan/Desktop/Thesis/SpeakingRateEstimation/data/LibriSpeech/test-clean-labeled/7021/79730/6_44.wav\n",
      "csyl:  44\n",
      "sp_rate:  3.8800705467372136\n"
     ]
    },
    {
     "name": "stderr",
     "output_type": "stream",
     "text": [
      "Transcribing: 100%|███████████████████████████████████████████████████████████████████████████████████████████████| 1/1 [00:00<00:00,  6.85it/s]\n"
     ]
    },
    {
     "name": "stdout",
     "output_type": "stream",
     "text": [
      "the mother in managing the case in this way relies partly on convincing the reason of the child and partly on an appeal to her affection\n",
      "pred_csyl:  44\n",
      "pred sp_rate:  3.8800705467372136\n",
      "audio path:  /home/dianasimonyan/Desktop/Thesis/SpeakingRateEstimation/data/LibriSpeech/test-clean-labeled/7021/79730/8_49.wav\n",
      "csyl:  49\n",
      "sp_rate:  4.16489587760306\n"
     ]
    },
    {
     "name": "stderr",
     "output_type": "stream",
     "text": [
      "Transcribing: 100%|███████████████████████████████████████████████████████████████████████████████████████████████| 1/1 [00:00<00:00,  6.31it/s]\n"
     ]
    },
    {
     "name": "stdout",
     "output_type": "stream",
     "text": [
      "but this last supposition is almost always unnecessary for if mary has been habitually managed on this principle she will not make any trouble\n",
      "pred_csyl:  49\n",
      "pred sp_rate:  4.16489587760306\n",
      "audio path:  /home/dianasimonyan/Desktop/Thesis/SpeakingRateEstimation/data/LibriSpeech/test-clean-labeled/7021/79730/0_10.wav\n",
      "csyl:  10\n",
      "sp_rate:  4.098360655737705\n"
     ]
    },
    {
     "name": "stderr",
     "output_type": "stream",
     "text": [
      "Transcribing: 100%|███████████████████████████████████████████████████████████████████████████████████████████████| 1/1 [00:00<00:00, 14.52it/s]\n"
     ]
    },
    {
     "name": "stdout",
     "output_type": "stream",
     "text": [
      "the three modes of management\n",
      "pred_csyl:  10\n",
      "pred sp_rate:  4.098360655737705\n",
      "audio path:  /home/dianasimonyan/Desktop/Thesis/SpeakingRateEstimation/data/LibriSpeech/test-clean-labeled/7021/79759/5_54.wav\n",
      "csyl:  54\n",
      "sp_rate:  4.147465437788019\n"
     ]
    },
    {
     "name": "stderr",
     "output_type": "stream",
     "text": [
      "Transcribing: 100%|███████████████████████████████████████████████████████████████████████████████████████████████| 1/1 [00:00<00:00,  7.98it/s]\n"
     ]
    },
    {
     "name": "stdout",
     "output_type": "stream",
     "text": [
      "the pain produced by an act of hasty and angry violence to which a father subjects his son may soon pass away but the memory of it does not pass away with the pain\n",
      "pred_csyl:  54\n",
      "pred sp_rate:  4.147465437788019\n",
      "audio path:  /home/dianasimonyan/Desktop/Thesis/SpeakingRateEstimation/data/LibriSpeech/test-clean-labeled/7021/79759/2_27.wav\n",
      "csyl:  27\n",
      "sp_rate:  5.142857142857143\n"
     ]
    },
    {
     "name": "stderr",
     "output_type": "stream",
     "text": [
      "Transcribing: 100%|███████████████████████████████████████████████████████████████████████████████████████████████| 1/1 [00:00<00:00, 13.44it/s]\n"
     ]
    },
    {
     "name": "stdout",
     "output_type": "stream",
     "text": [
      "they are chiefly formed from combinations of the impressions made in childhood\n",
      "pred_csyl:  27\n",
      "pred sp_rate:  5.142857142857143\n",
      "audio path:  /home/dianasimonyan/Desktop/Thesis/SpeakingRateEstimation/data/LibriSpeech/test-clean-labeled/7021/79759/4_102.wav\n",
      "csyl:  102\n",
      "sp_rate:  4.168369431957499\n"
     ]
    },
    {
     "name": "stderr",
     "output_type": "stream",
     "text": [
      "Transcribing: 100%|███████████████████████████████████████████████████████████████████████████████████████████████| 1/1 [00:00<00:00,  4.51it/s]\n"
     ]
    },
    {
     "name": "stdout",
     "output_type": "stream",
     "text": [
      "without going to any such extreme as this we can easily see on reflection how vast an influence on the ideas and conceptions as well as on the principles of action in mature years must be exerted by the nature and character of the images which the period of infancy and childhood impress upon the mind\n",
      "pred_csyl:  101\n",
      "pred sp_rate:  4.127503064977524\n",
      "audio path:  /home/dianasimonyan/Desktop/Thesis/SpeakingRateEstimation/data/LibriSpeech/test-clean-labeled/7021/79759/3_17.wav\n",
      "csyl:  17\n",
      "sp_rate:  3.6796536796536796\n"
     ]
    },
    {
     "name": "stderr",
     "output_type": "stream",
     "text": [
      "Transcribing: 100%|███████████████████████████████████████████████████████████████████████████████████████████████| 1/1 [00:00<00:00, 14.28it/s]\n"
     ]
    },
    {
     "name": "stdout",
     "output_type": "stream",
     "text": [
      "vast importance and influence of this mental furnishing\n",
      "pred_csyl:  17\n",
      "pred sp_rate:  3.6796536796536796\n",
      "audio path:  /home/dianasimonyan/Desktop/Thesis/SpeakingRateEstimation/data/LibriSpeech/test-clean-labeled/7021/79759/0_18.wav\n",
      "csyl:  18\n",
      "sp_rate:  3.7696335078534027\n"
     ]
    },
    {
     "name": "stderr",
     "output_type": "stream",
     "text": [
      "Transcribing: 100%|███████████████████████████████████████████████████████████████████████████████████████████████| 1/1 [00:00<00:00, 15.24it/s]\n"
     ]
    },
    {
     "name": "stdout",
     "output_type": "stream",
     "text": [
      "nature of the effect produced by early impressions\n",
      "pred_csyl:  18\n",
      "pred sp_rate:  3.7696335078534027\n",
      "audio path:  /home/dianasimonyan/Desktop/Thesis/SpeakingRateEstimation/data/LibriSpeech/test-clean-labeled/7021/79759/1_10.wav\n",
      "csyl:  10\n",
      "sp_rate:  4.032258064516129\n"
     ]
    },
    {
     "name": "stderr",
     "output_type": "stream",
     "text": [
      "Transcribing: 100%|███████████████████████████████████████████████████████████████████████████████████████████████| 1/1 [00:00<00:00, 21.70it/s]\n"
     ]
    },
    {
     "name": "stdout",
     "output_type": "stream",
     "text": [
      "that is comparatively nothing\n",
      "pred_csyl:  10\n",
      "pred sp_rate:  4.032258064516129\n",
      "audio path:  /home/dianasimonyan/Desktop/Thesis/SpeakingRateEstimation/data/LibriSpeech/test-clean-labeled/7021/85628/4_8.wav\n",
      "csyl:  8\n",
      "sp_rate:  2.8520499108734403\n"
     ]
    },
    {
     "name": "stderr",
     "output_type": "stream",
     "text": [
      "Transcribing: 100%|███████████████████████████████████████████████████████████████████████████████████████████████| 1/1 [00:00<00:00, 19.41it/s]\n"
     ]
    },
    {
     "name": "stdout",
     "output_type": "stream",
     "text": [
      "yes why not thought anders\n",
      "pred_csyl:  8\n",
      "pred sp_rate:  2.8520499108734403\n",
      "audio path:  /home/dianasimonyan/Desktop/Thesis/SpeakingRateEstimation/data/LibriSpeech/test-clean-labeled/7021/85628/18_33.wav\n",
      "csyl:  33\n",
      "sp_rate:  4.014598540145985\n"
     ]
    },
    {
     "name": "stderr",
     "output_type": "stream",
     "text": [
      "Transcribing: 100%|███████████████████████████████████████████████████████████████████████████████████████████████| 1/1 [00:00<00:00,  7.19it/s]\n"
     ]
    },
    {
     "name": "stdout",
     "output_type": "stream",
     "text": [
      "and it is made of mother's best yarn and she knitted it herself and everybody wants to get it away from me\n",
      "pred_csyl:  33\n",
      "pred sp_rate:  4.014598540145985\n",
      "audio path:  /home/dianasimonyan/Desktop/Thesis/SpeakingRateEstimation/data/LibriSpeech/test-clean-labeled/7021/85628/2_22.wav\n",
      "csyl:  22\n",
      "sp_rate:  3.408210689388071\n"
     ]
    },
    {
     "name": "stderr",
     "output_type": "stream",
     "text": [
      "Transcribing: 100%|███████████████████████████████████████████████████████████████████████████████████████████████| 1/1 [00:00<00:00, 10.68it/s]\n"
     ]
    },
    {
     "name": "stdout",
     "output_type": "stream",
     "text": [
      "he was such a big boy that he wore high boots and carried a jack knife\n",
      "pred_csyl:  22\n",
      "pred sp_rate:  3.408210689388071\n",
      "audio path:  /home/dianasimonyan/Desktop/Thesis/SpeakingRateEstimation/data/LibriSpeech/test-clean-labeled/7021/85628/5_20.wav\n",
      "csyl:  20\n",
      "sp_rate:  3.988035892323031\n"
     ]
    },
    {
     "name": "stderr",
     "output_type": "stream",
     "text": [
      "Transcribing: 100%|███████████████████████████████████████████████████████████████████████████████████████████████| 1/1 [00:00<00:00, 13.54it/s]\n"
     ]
    },
    {
     "name": "stdout",
     "output_type": "stream",
     "text": [
      "seeing that i am so fine i may as well go and visit the king\n",
      "pred_csyl:  20\n",
      "pred sp_rate:  3.988035892323031\n",
      "audio path:  /home/dianasimonyan/Desktop/Thesis/SpeakingRateEstimation/data/LibriSpeech/test-clean-labeled/7021/85628/11_37.wav\n",
      "csyl:  37\n",
      "sp_rate:  4.1133963312951645\n"
     ]
    },
    {
     "name": "stderr",
     "output_type": "stream",
     "text": [
      "Transcribing: 100%|███████████████████████████████████████████████████████████████████████████████████████████████| 1/1 [00:00<00:00,  6.56it/s]\n"
     ]
    },
    {
     "name": "stdout",
     "output_type": "stream",
     "text": [
      "the princess sat down under a blue canopy with bouquets of roses and she let andre sit in a golden chair by her side\n",
      "pred_csyl:  37\n",
      "pred sp_rate:  4.1133963312951645\n",
      "audio path:  /home/dianasimonyan/Desktop/Thesis/SpeakingRateEstimation/data/LibriSpeech/test-clean-labeled/7021/85628/22_23.wav\n",
      "csyl:  23\n",
      "sp_rate:  4.4703595724003895\n"
     ]
    },
    {
     "name": "stderr",
     "output_type": "stream",
     "text": [
      "Transcribing: 100%|███████████████████████████████████████████████████████████████████████████████████████████████| 1/1 [00:00<00:00, 12.26it/s]\n"
     ]
    },
    {
     "name": "stdout",
     "output_type": "stream",
     "text": [
      "and all his brothers and sisters stood round and listened with their mouths open\n",
      "pred_csyl:  23\n",
      "pred sp_rate:  4.4703595724003895\n",
      "audio path:  /home/dianasimonyan/Desktop/Thesis/SpeakingRateEstimation/data/LibriSpeech/test-clean-labeled/7021/85628/19_13.wav\n",
      "csyl:  13\n",
      "sp_rate:  3.993855606758833\n"
     ]
    },
    {
     "name": "stderr",
     "output_type": "stream",
     "text": [
      "Transcribing: 100%|███████████████████████████████████████████████████████████████████████████████████████████████| 1/1 [00:00<00:00, 16.88it/s]\n"
     ]
    },
    {
     "name": "stdout",
     "output_type": "stream",
     "text": [
      "with one jump anders got out of his chair\n",
      "pred_csyl:  13\n",
      "pred sp_rate:  3.993855606758833\n",
      "audio path:  /home/dianasimonyan/Desktop/Thesis/SpeakingRateEstimation/data/LibriSpeech/test-clean-labeled/7021/85628/12_31.wav\n",
      "csyl:  31\n",
      "sp_rate:  5.816135084427767\n"
     ]
    },
    {
     "name": "stderr",
     "output_type": "stream",
     "text": [
      "Transcribing: 100%|███████████████████████████████████████████████████████████████████████████████████████████████| 1/1 [00:00<00:00, 12.48it/s]\n"
     ]
    },
    {
     "name": "stdout",
     "output_type": "stream",
     "text": [
      "but you must not eat with your cap on your head she said and was going to take it off\n",
      "pred_csyl:  31\n",
      "pred sp_rate:  5.816135084427767\n",
      "audio path:  /home/dianasimonyan/Desktop/Thesis/SpeakingRateEstimation/data/LibriSpeech/test-clean-labeled/7021/85628/1_42.wav\n",
      "csyl:  42\n",
      "sp_rate:  3.706972639011474\n"
     ]
    },
    {
     "name": "stderr",
     "output_type": "stream",
     "text": [
      "Transcribing: 100%|███████████████████████████████████████████████████████████████████████████████████████████████| 1/1 [00:00<00:00,  7.80it/s]\n"
     ]
    },
    {
     "name": "stdout",
     "output_type": "stream",
     "text": [
      "he made a bow so deep that his back came near breaking and he was dumbfounded i can tell you when he saw it was nobody but anders\n",
      "pred_csyl:  42\n",
      "pred sp_rate:  3.706972639011474\n",
      "audio path:  /home/dianasimonyan/Desktop/Thesis/SpeakingRateEstimation/data/LibriSpeech/test-clean-labeled/7021/85628/25_9.wav\n",
      "csyl:  9\n",
      "sp_rate:  3.2432432432432434\n"
     ]
    },
    {
     "name": "stderr",
     "output_type": "stream",
     "text": [
      "Transcribing: 100%|███████████████████████████████████████████████████████████████████████████████████████████████| 1/1 [00:00<00:00, 17.92it/s]\n"
     ]
    },
    {
     "name": "stdout",
     "output_type": "stream",
     "text": [
      "but his mother hugged him close\n",
      "pred_csyl:  9\n",
      "pred sp_rate:  3.2432432432432434\n",
      "audio path:  /home/dianasimonyan/Desktop/Thesis/SpeakingRateEstimation/data/LibriSpeech/test-clean-labeled/7021/85628/9_27.wav\n",
      "csyl:  27\n",
      "sp_rate:  3.1615925058548013\n"
     ]
    },
    {
     "name": "stderr",
     "output_type": "stream",
     "text": [
      "Transcribing: 100%|███████████████████████████████████████████████████████████████████████████████████████████████| 1/1 [00:00<00:00,  8.09it/s]\n"
     ]
    },
    {
     "name": "stdout",
     "output_type": "stream",
     "text": [
      "at the farther end of the largest hall a table was set with golden cups and golden plates in long rows\n",
      "pred_csyl:  27\n",
      "pred sp_rate:  3.1615925058548013\n",
      "audio path:  /home/dianasimonyan/Desktop/Thesis/SpeakingRateEstimation/data/LibriSpeech/test-clean-labeled/7021/85628/26_8.wav\n",
      "csyl:  8\n",
      "sp_rate:  2.9197080291970803\n"
     ]
    },
    {
     "name": "stderr",
     "output_type": "stream",
     "text": [
      "Transcribing: 100%|███████████████████████████████████████████████████████████████████████████████████████████████| 1/1 [00:00<00:00, 15.57it/s]\n"
     ]
    },
    {
     "name": "stdout",
     "output_type": "stream",
     "text": [
      "no my little son she said\n",
      "pred_csyl:  8\n",
      "pred sp_rate:  2.9197080291970803\n",
      "audio path:  /home/dianasimonyan/Desktop/Thesis/SpeakingRateEstimation/data/LibriSpeech/test-clean-labeled/7021/85628/13_54.wav\n",
      "csyl:  54\n",
      "sp_rate:  4.451772464962902\n"
     ]
    },
    {
     "name": "stderr",
     "output_type": "stream",
     "text": [
      "Transcribing: 100%|███████████████████████████████████████████████████████████████████████████████████████████████| 1/1 [00:00<00:00,  6.84it/s]\n"
     ]
    },
    {
     "name": "stdout",
     "output_type": "stream",
     "text": [
      "the princess certainly was beautiful and he would have dearly liked to be kissed by her but the cap which his mother had made he would not give up on any condition\n",
      "pred_csyl:  54\n",
      "pred sp_rate:  4.451772464962902\n",
      "audio path:  /home/dianasimonyan/Desktop/Thesis/SpeakingRateEstimation/data/LibriSpeech/test-clean-labeled/7021/85628/27_36.wav\n",
      "csyl:  36\n",
      "sp_rate:  4.235294117647059\n"
     ]
    },
    {
     "name": "stderr",
     "output_type": "stream",
     "text": [
      "Transcribing: 100%|███████████████████████████████████████████████████████████████████████████████████████████████| 1/1 [00:00<00:00,  8.63it/s]\n"
     ]
    },
    {
     "name": "stdout",
     "output_type": "stream",
     "text": [
      "if you dressed in silk and gold from top to toe you could not look any nicer than in your little red cap\n",
      "pred_csyl:  36\n",
      "pred sp_rate:  4.235294117647059\n",
      "audio path:  /home/dianasimonyan/Desktop/Thesis/SpeakingRateEstimation/data/LibriSpeech/test-clean-labeled/7021/85628/24_6.wav\n",
      "csyl:  6\n",
      "sp_rate:  2.771362586605081\n"
     ]
    },
    {
     "name": "stderr",
     "output_type": "stream",
     "text": [
      "Transcribing: 100%|███████████████████████████████████████████████████████████████████████████████████████████████| 1/1 [00:00<00:00, 18.70it/s]"
     ]
    },
    {
     "name": "stdout",
     "output_type": "stream",
     "text": [
      "ander's face grew red"
     ]
    },
    {
     "name": "stderr",
     "output_type": "stream",
     "text": [
      "\n"
     ]
    },
    {
     "name": "stdout",
     "output_type": "stream",
     "text": [
      "\n",
      "pred_csyl:  6\n",
      "pred sp_rate:  2.771362586605081\n",
      "audio path:  /home/dianasimonyan/Desktop/Thesis/SpeakingRateEstimation/data/LibriSpeech/test-clean-labeled/7021/85628/21_21.wav\n",
      "csyl:  21\n",
      "sp_rate:  3.9142590866728795\n"
     ]
    },
    {
     "name": "stderr",
     "output_type": "stream",
     "text": [
      "Transcribing: 100%|███████████████████████████████████████████████████████████████████████████████████████████████| 1/1 [00:00<00:00, 12.53it/s]\n"
     ]
    },
    {
     "name": "stdout",
     "output_type": "stream",
     "text": [
      "he still held on to it with both hands as he rushed into his mother's cottage\n",
      "pred_csyl:  21\n",
      "pred sp_rate:  3.9142590866728795\n",
      "audio path:  /home/dianasimonyan/Desktop/Thesis/SpeakingRateEstimation/data/LibriSpeech/test-clean-labeled/7021/85628/3_52.wav\n",
      "csyl:  52\n",
      "sp_rate:  3.4009156311314586\n"
     ]
    },
    {
     "name": "stderr",
     "output_type": "stream",
     "text": [
      "Transcribing: 100%|███████████████████████████████████████████████████████████████████████████████████████████████| 1/1 [00:00<00:00,  6.15it/s]\n"
     ]
    },
    {
     "name": "stdout",
     "output_type": "stream",
     "text": [
      "now this knife was a splendid one though half the blade was gone and the handle was a little cracked and anders knew that one is almost a man as soon as one has a jack knife\n",
      "pred_csyl:  52\n",
      "pred sp_rate:  3.4009156311314586\n",
      "audio path:  /home/dianasimonyan/Desktop/Thesis/SpeakingRateEstimation/data/LibriSpeech/test-clean-labeled/7021/85628/10_30.wav\n",
      "csyl:  30\n",
      "sp_rate:  3.742981908920773\n"
     ]
    },
    {
     "name": "stderr",
     "output_type": "stream",
     "text": [
      "Transcribing: 100%|███████████████████████████████████████████████████████████████████████████████████████████████| 1/1 [00:00<00:00,  6.61it/s]\n"
     ]
    },
    {
     "name": "stdout",
     "output_type": "stream",
     "text": [
      "on huge silver platters were pyramids of tarts and cakes and red wine sparkled in glittering decanters\n",
      "pred_csyl:  30\n",
      "pred sp_rate:  3.742981908920773\n",
      "audio path:  /home/dianasimonyan/Desktop/Thesis/SpeakingRateEstimation/data/LibriSpeech/test-clean-labeled/7021/85628/20_24.wav\n",
      "csyl:  24\n",
      "sp_rate:  3.7209302325581395\n"
     ]
    },
    {
     "name": "stderr",
     "output_type": "stream",
     "text": [
      "Transcribing: 100%|███████████████████████████████████████████████████████████████████████████████████████████████| 1/1 [00:00<00:00, 11.66it/s]\n"
     ]
    },
    {
     "name": "stdout",
     "output_type": "stream",
     "text": [
      "he darted like an arrow through all the halls down all the stairs and across the yard\n",
      "pred_csyl:  24\n",
      "pred sp_rate:  3.7209302325581395\n",
      "audio path:  /home/dianasimonyan/Desktop/Thesis/SpeakingRateEstimation/data/LibriSpeech/test-clean-labeled/7021/85628/17_7.wav\n",
      "csyl:  7\n",
      "sp_rate:  3.2482598607888633\n"
     ]
    },
    {
     "name": "stderr",
     "output_type": "stream",
     "text": [
      "Transcribing: 100%|███████████████████████████████████████████████████████████████████████████████████████████████| 1/1 [00:00<00:00, 18.57it/s]\n"
     ]
    },
    {
     "name": "stdout",
     "output_type": "stream",
     "text": [
      "so it is said anders\n",
      "pred_csyl:  7\n",
      "pred sp_rate:  3.2482598607888633\n",
      "audio path:  /home/dianasimonyan/Desktop/Thesis/SpeakingRateEstimation/data/LibriSpeech/test-clean-labeled/7021/85628/23_35.wav\n",
      "csyl:  35\n",
      "sp_rate:  3.8759689922480622\n"
     ]
    },
    {
     "name": "stderr",
     "output_type": "stream",
     "text": [
      "Transcribing: 100%|███████████████████████████████████████████████████████████████████████████████████████████████| 1/1 [00:00<00:00,  6.54it/s]\n"
     ]
    },
    {
     "name": "stdout",
     "output_type": "stream",
     "text": [
      "but when his big brother heard that he had refused to give his cap for a king's golden crown he said that anders was a stupid\n",
      "pred_csyl:  35\n",
      "pred sp_rate:  3.8759689922480622\n",
      "audio path:  /home/dianasimonyan/Desktop/Thesis/SpeakingRateEstimation/data/LibriSpeech/test-clean-labeled/7021/85628/16_16.wav\n",
      "csyl:  16\n",
      "sp_rate:  3.7383177570093458\n"
     ]
    },
    {
     "name": "stderr",
     "output_type": "stream",
     "text": [
      "Transcribing: 100%|███████████████████████████████████████████████████████████████████████████████████████████████| 1/1 [00:00<00:00, 16.26it/s]\n"
     ]
    },
    {
     "name": "stdout",
     "output_type": "stream",
     "text": [
      "that is a very fine cap you have he said\n",
      "pred_csyl:  16\n",
      "pred sp_rate:  3.7383177570093458\n",
      "audio path:  /home/dianasimonyan/Desktop/Thesis/SpeakingRateEstimation/data/LibriSpeech/test-clean-labeled/7021/85628/7_64.wav\n",
      "csyl:  64\n",
      "sp_rate:  3.83808095952024\n"
     ]
    },
    {
     "name": "stderr",
     "output_type": "stream",
     "text": [
      "Transcribing: 100%|███████████████████████████████████████████████████████████████████████████████████████████████| 1/1 [00:00<00:00,  5.69it/s]\n"
     ]
    },
    {
     "name": "stdout",
     "output_type": "stream",
     "text": [
      "and she took ander's hand and walked with him up the broad marble stairs where soldiers were posted at every third step and through the magnificent halls where courtiers in silk and velvet stood bowing wherever he went\n",
      "pred_csyl:  64\n",
      "pred sp_rate:  3.83808095952024\n",
      "audio path:  /home/dianasimonyan/Desktop/Thesis/SpeakingRateEstimation/data/LibriSpeech/test-clean-labeled/7021/85628/8_24.wav\n",
      "csyl:  24\n",
      "sp_rate:  3.3684210526315788\n"
     ]
    },
    {
     "name": "stderr",
     "output_type": "stream",
     "text": [
      "Transcribing: 100%|███████████████████████████████████████████████████████████████████████████████████████████████| 1/1 [00:00<00:00,  9.70it/s]\n"
     ]
    },
    {
     "name": "stdout",
     "output_type": "stream",
     "text": [
      "for like as not they must have thought him a prince when they saw his fine cap\n",
      "pred_csyl:  24\n",
      "pred sp_rate:  3.3684210526315788\n",
      "audio path:  /home/dianasimonyan/Desktop/Thesis/SpeakingRateEstimation/data/LibriSpeech/test-clean-labeled/7021/85628/15_40.wav\n",
      "csyl:  40\n",
      "sp_rate:  3.4647033347769596\n"
     ]
    },
    {
     "name": "stderr",
     "output_type": "stream",
     "text": [
      "Transcribing: 100%|███████████████████████████████████████████████████████████████████████████████████████████████| 1/1 [00:00<00:00,  7.20it/s]\n"
     ]
    },
    {
     "name": "stdout",
     "output_type": "stream",
     "text": [
      "well but now said the princess and she filled his pockets with cakes and put her own heavy gold chain around his neck and bent down and kissed him\n",
      "pred_csyl:  40\n",
      "pred sp_rate:  3.4647033347769596\n",
      "audio path:  /home/dianasimonyan/Desktop/Thesis/SpeakingRateEstimation/data/LibriSpeech/test-clean-labeled/7021/85628/14_8.wav\n",
      "csyl:  8\n",
      "sp_rate:  3.485838779956427\n"
     ]
    },
    {
     "name": "stderr",
     "output_type": "stream",
     "text": [
      "Transcribing: 100%|███████████████████████████████████████████████████████████████████████████████████████████████| 1/1 [00:00<00:00, 10.10it/s]\n"
     ]
    },
    {
     "name": "stdout",
     "output_type": "stream",
     "text": [
      "he only shook his head\n",
      "pred_csyl:  8\n",
      "pred sp_rate:  3.485838779956427\n",
      "audio path:  /home/dianasimonyan/Desktop/Thesis/SpeakingRateEstimation/data/LibriSpeech/test-clean-labeled/7021/85628/0_11.wav\n",
      "csyl:  11\n",
      "sp_rate:  3.642384105960265\n"
     ]
    },
    {
     "name": "stderr",
     "output_type": "stream",
     "text": [
      "Transcribing: 100%|███████████████████████████████████████████████████████████████████████████████████████████████| 1/1 [00:00<00:00, 17.25it/s]\n"
     ]
    },
    {
     "name": "stdout",
     "output_type": "stream",
     "text": [
      "but anders cared nothing about that\n",
      "pred_csyl:  11\n",
      "pred sp_rate:  3.642384105960265\n",
      "audio path:  /home/dianasimonyan/Desktop/Thesis/SpeakingRateEstimation/data/LibriSpeech/test-clean-labeled/7021/85628/6_14.wav\n",
      "csyl:  14\n",
      "sp_rate:  3.910614525139665\n"
     ]
    },
    {
     "name": "stderr",
     "output_type": "stream",
     "text": [
      "Transcribing: 100%|███████████████████████████████████████████████████████████████████████████████████████████████| 1/1 [00:00<00:00, 13.22it/s]\n"
     ]
    },
    {
     "name": "stdout",
     "output_type": "stream",
     "text": [
      "i am going to the court ball answered anders\n",
      "pred_csyl:  14\n",
      "pred sp_rate:  3.910614525139665\n",
      "audio path:  /home/dianasimonyan/Desktop/Thesis/SpeakingRateEstimation/data/LibriSpeech/test-clean-labeled/4507/16021/46_17.wav\n",
      "csyl:  17\n",
      "sp_rate:  3.7037037037037037\n"
     ]
    },
    {
     "name": "stderr",
     "output_type": "stream",
     "text": [
      "Transcribing: 100%|███████████████████████████████████████████████████████████████████████████████████████████████| 1/1 [00:00<00:00, 14.38it/s]\n"
     ]
    },
    {
     "name": "stdout",
     "output_type": "stream",
     "text": [
      "each day has its own great grief for its little care\n",
      "pred_csyl:  17\n",
      "pred sp_rate:  3.7037037037037037\n",
      "audio path:  /home/dianasimonyan/Desktop/Thesis/SpeakingRateEstimation/data/LibriSpeech/test-clean-labeled/4507/16021/56_20.wav\n",
      "csyl:  20\n",
      "sp_rate:  3.1520882584712373\n"
     ]
    },
    {
     "name": "stderr",
     "output_type": "stream",
     "text": [
      "Transcribing: 100%|███████████████████████████████████████████████████████████████████████████████████████████████| 1/1 [00:00<00:00,  8.96it/s]\n"
     ]
    },
    {
     "name": "stdout",
     "output_type": "stream",
     "text": [
      "however he who says light does not necessarily say joy\n",
      "pred_csyl:  20\n",
      "pred sp_rate:  3.1520882584712373\n",
      "audio path:  /home/dianasimonyan/Desktop/Thesis/SpeakingRateEstimation/data/LibriSpeech/test-clean-labeled/4507/16021/39_51.wav\n",
      "csyl:  51\n",
      "sp_rate:  3.307392996108949\n"
     ]
    },
    {
     "name": "stderr",
     "output_type": "stream",
     "text": [
      "Transcribing: 100%|███████████████████████████████████████████████████████████████████████████████████████████████| 1/1 [00:00<00:00,  4.86it/s]\n"
     ]
    },
    {
     "name": "stdout",
     "output_type": "stream",
     "text": [
      "one perceives without understanding it a hideous murmur sounding almost like human accents but more nearly resembling a howl than an articulate word\n",
      "pred_csyl:  51\n",
      "pred sp_rate:  3.307392996108949\n",
      "audio path:  /home/dianasimonyan/Desktop/Thesis/SpeakingRateEstimation/data/LibriSpeech/test-clean-labeled/4507/16021/32_100.wav\n",
      "csyl:  100\n",
      "sp_rate:  3.5599857600569598\n"
     ]
    },
    {
     "name": "stderr",
     "output_type": "stream",
     "text": [
      "Transcribing: 100%|███████████████████████████████████████████████████████████████████████████████████████████████| 1/1 [00:00<00:00,  3.66it/s]\n"
     ]
    },
    {
     "name": "stdout",
     "output_type": "stream",
     "text": [
      "he must descend with his heart full of charity and severity at the same time as a brother and as a judge to those impenetrable casemates where crawl pell mell those who bleed in those who deal the blow those who weep in those who curse those who fast in those who devour those who endure evil and those who inflict it\n",
      "pred_csyl:  100\n",
      "pred sp_rate:  3.5599857600569598\n",
      "audio path:  /home/dianasimonyan/Desktop/Thesis/SpeakingRateEstimation/data/LibriSpeech/test-clean-labeled/4507/16021/35_28.wav\n",
      "csyl:  28\n",
      "sp_rate:  3.7159920371599204\n"
     ]
    },
    {
     "name": "stderr",
     "output_type": "stream",
     "text": [
      "Transcribing: 100%|███████████████████████████████████████████████████████████████████████████████████████████████| 1/1 [00:00<00:00,  8.70it/s]\n"
     ]
    },
    {
     "name": "stdout",
     "output_type": "stream",
     "text": [
      "true history being a mixture of all things the true historian mingles in everything\n",
      "pred_csyl:  28\n",
      "pred sp_rate:  3.7159920371599204\n",
      "audio path:  /home/dianasimonyan/Desktop/Thesis/SpeakingRateEstimation/data/LibriSpeech/test-clean-labeled/4507/16021/2_8.wav\n",
      "csyl:  8\n",
      "sp_rate:  2.511773940345369\n"
     ]
    },
    {
     "name": "stderr",
     "output_type": "stream",
     "text": [
      "Transcribing: 100%|███████████████████████████████████████████████████████████████████████████████████████████████| 1/1 [00:00<00:00, 14.62it/s]\n"
     ]
    },
    {
     "name": "stdout",
     "output_type": "stream",
     "text": [
      "thus idleness is the mother\n",
      "pred_csyl:  8\n",
      "pred sp_rate:  2.511773940345369\n",
      "audio path:  /home/dianasimonyan/Desktop/Thesis/SpeakingRateEstimation/data/LibriSpeech/test-clean-labeled/4507/16021/3_12.wav\n",
      "csyl:  12\n",
      "sp_rate:  2.4514811031664965\n"
     ]
    },
    {
     "name": "stderr",
     "output_type": "stream",
     "text": [
      "Transcribing: 100%|███████████████████████████████████████████████████████████████████████████████████████████████| 1/1 [00:00<00:00, 14.37it/s]\n"
     ]
    },
    {
     "name": "stdout",
     "output_type": "stream",
     "text": [
      "she has a son theft and a daughter hunger\n",
      "pred_csyl:  12\n",
      "pred sp_rate:  2.4514811031664965\n",
      "audio path:  /home/dianasimonyan/Desktop/Thesis/SpeakingRateEstimation/data/LibriSpeech/test-clean-labeled/4507/16021/18_9.wav\n",
      "csyl:  9\n",
      "sp_rate:  2.6666666666666665\n"
     ]
    },
    {
     "name": "stderr",
     "output_type": "stream",
     "text": [
      "Transcribing: 100%|███████████████████████████████████████████████████████████████████████████████████████████████| 1/1 [00:00<00:00, 17.71it/s]\n"
     ]
    },
    {
     "name": "stdout",
     "output_type": "stream",
     "text": [
      "what is slang properly speaking\n",
      "pred_csyl:  9\n",
      "pred sp_rate:  2.6666666666666665\n",
      "audio path:  /home/dianasimonyan/Desktop/Thesis/SpeakingRateEstimation/data/LibriSpeech/test-clean-labeled/4507/16021/6_6.wav\n",
      "csyl:  6\n",
      "sp_rate:  2.843601895734597\n"
     ]
    },
    {
     "name": "stderr",
     "output_type": "stream",
     "text": [
      "Transcribing: 100%|███████████████████████████████████████████████████████████████████████████████████████████████| 1/1 [00:00<00:00, 17.09it/s]\n"
     ]
    },
    {
     "name": "stdout",
     "output_type": "stream",
     "text": [
      "slang is odious\n",
      "pred_csyl:  6\n",
      "pred sp_rate:  2.843601895734597\n",
      "audio path:  /home/dianasimonyan/Desktop/Thesis/SpeakingRateEstimation/data/LibriSpeech/test-clean-labeled/4507/16021/15_14.wav\n",
      "csyl:  14\n",
      "sp_rate:  3.626943005181347\n"
     ]
    },
    {
     "name": "stderr",
     "output_type": "stream",
     "text": [
      "Transcribing: 100%|███████████████████████████████████████████████████████████████████████████████████████████████| 1/1 [00:00<00:00, 14.86it/s]\n"
     ]
    },
    {
     "name": "stdout",
     "output_type": "stream",
     "text": [
      "since when has malady banished medicine\n",
      "pred_csyl:  14\n",
      "pred sp_rate:  3.626943005181347\n",
      "audio path:  /home/dianasimonyan/Desktop/Thesis/SpeakingRateEstimation/data/LibriSpeech/test-clean-labeled/4507/16021/28_8.wav\n",
      "csyl:  8\n",
      "sp_rate:  2.450229709035222\n"
     ]
    },
    {
     "name": "stderr",
     "output_type": "stream",
     "text": [
      "Transcribing: 100%|███████████████████████████████████████████████████████████████████████████████████████████████| 1/1 [00:00<00:00, 14.50it/s]\n"
     ]
    },
    {
     "name": "stdout",
     "output_type": "stream",
     "text": [
      "even dialect let that pass\n",
      "pred_csyl:  8\n",
      "pred sp_rate:  2.450229709035222\n",
      "audio path:  /home/dianasimonyan/Desktop/Thesis/SpeakingRateEstimation/data/LibriSpeech/test-clean-labeled/4507/16021/51_25.wav\n",
      "csyl:  25\n",
      "sp_rate:  4.051863857374392\n"
     ]
    },
    {
     "name": "stderr",
     "output_type": "stream",
     "text": [
      "Transcribing: 100%|███████████████████████████████████████████████████████████████████████████████████████████████| 1/1 [00:00<00:00, 10.98it/s]\n"
     ]
    },
    {
     "name": "stdout",
     "output_type": "stream",
     "text": [
      "in this worlds evidently the vestibule of another there are no fortunate\n",
      "pred_csyl:  25\n",
      "pred sp_rate:  4.051863857374392\n",
      "audio path:  /home/dianasimonyan/Desktop/Thesis/SpeakingRateEstimation/data/LibriSpeech/test-clean-labeled/4507/16021/30_59.wav\n",
      "csyl:  59\n",
      "sp_rate:  3.9891818796484113\n"
     ]
    },
    {
     "name": "stderr",
     "output_type": "stream",
     "text": [
      "Transcribing: 100%|███████████████████████████████████████████████████████████████████████████████████████████████| 1/1 [00:00<00:00,  6.37it/s]\n"
     ]
    },
    {
     "name": "stdout",
     "output_type": "stream",
     "text": [
      "assuredly if the tongue which a nation or a province has spoken is worthy of interest the language which has been spoken by a misery is still more worthy of attention and study\n",
      "pred_csyl:  59\n",
      "pred sp_rate:  3.9891818796484113\n",
      "audio path:  /home/dianasimonyan/Desktop/Thesis/SpeakingRateEstimation/data/LibriSpeech/test-clean-labeled/4507/16021/16_61.wav\n",
      "csyl:  61\n",
      "sp_rate:  3.5331595713871993\n"
     ]
    },
    {
     "name": "stderr",
     "output_type": "stream",
     "text": [
      "Transcribing: 100%|███████████████████████████████████████████████████████████████████████████████████████████████| 1/1 [00:00<00:00,  5.16it/s]\n"
     ]
    },
    {
     "name": "stdout",
     "output_type": "stream",
     "text": [
      "can one imagine a naturalist refusing to study the viper the bat the scorpion the centipede the tarantula and one who would cast them back into their darkness saying oh how ugly that is\n",
      "pred_csyl:  61\n",
      "pred sp_rate:  3.5331595713871993\n",
      "audio path:  /home/dianasimonyan/Desktop/Thesis/SpeakingRateEstimation/data/LibriSpeech/test-clean-labeled/4507/16021/17_47.wav\n",
      "csyl:  47\n",
      "sp_rate:  4.440245630609352\n"
     ]
    },
    {
     "name": "stderr",
     "output_type": "stream",
     "text": [
      "Transcribing: 100%|███████████████████████████████████████████████████████████████████████████████████████████████| 1/1 [00:00<00:00,  7.53it/s]\n"
     ]
    },
    {
     "name": "stdout",
     "output_type": "stream",
     "text": [
      "he would be like a philologist refusing to examine a fact in language a philosopher hesitating to scrutinize a fact in humanity\n",
      "pred_csyl:  47\n",
      "pred sp_rate:  4.440245630609352\n",
      "audio path:  /home/dianasimonyan/Desktop/Thesis/SpeakingRateEstimation/data/LibriSpeech/test-clean-labeled/4507/16021/1_29.wav\n",
      "csyl:  29\n",
      "sp_rate:  2.5618374558303887\n"
     ]
    },
    {
     "name": "stderr",
     "output_type": "stream",
     "text": [
      "Transcribing: 100%|███████████████████████████████████████████████████████████████████████████████████████████████| 1/1 [00:00<00:00,  8.01it/s]\n"
     ]
    },
    {
     "name": "stdout",
     "output_type": "stream",
     "text": [
      "it engenders a whole world la pegre for which red theft and a hell la pegren for which red hunger\n",
      "pred_csyl:  26\n",
      "pred sp_rate:  2.2968197879858656\n",
      "audio path:  /home/dianasimonyan/Desktop/Thesis/SpeakingRateEstimation/data/LibriSpeech/test-clean-labeled/4507/16021/53_29.wav\n",
      "csyl:  29\n",
      "sp_rate:  3.582458307597282\n"
     ]
    },
    {
     "name": "stderr",
     "output_type": "stream",
     "text": [
      "Transcribing: 100%|███████████████████████████████████████████████████████████████████████████████████████████████| 1/1 [00:00<00:00,  7.68it/s]\n"
     ]
    },
    {
     "name": "stdout",
     "output_type": "stream",
     "text": [
      "to diminish the number of the shady to augment the number of the luminous that is the object\n",
      "pred_csyl:  29\n",
      "pred sp_rate:  3.582458307597282\n",
      "audio path:  /home/dianasimonyan/Desktop/Thesis/SpeakingRateEstimation/data/LibriSpeech/test-clean-labeled/4507/16021/26_116.wav\n",
      "csyl:  116\n",
      "sp_rate:  3.669144393484106\n"
     ]
    },
    {
     "name": "stderr",
     "output_type": "stream",
     "text": [
      "Transcribing: 100%|███████████████████████████████████████████████████████████████████████████████████████████████| 1/1 [00:00<00:00,  2.70it/s]\n"
     ]
    },
    {
     "name": "stdout",
     "output_type": "stream",
     "text": [
      "to keep afloat and to rescue from oblivion to hold above the gulf were it but a fragment of some language which man has spoken and which would otherwise be lost that is to say one of the elements good or bad of which civilization is composed or by which it is complicated to extend the records of social observation is to serve civilization itself\n",
      "pred_csyl:  116\n",
      "pred sp_rate:  3.669144393484106\n",
      "audio path:  /home/dianasimonyan/Desktop/Thesis/SpeakingRateEstimation/data/LibriSpeech/test-clean-labeled/4507/16021/22_22.wav\n",
      "csyl:  22\n",
      "sp_rate:  3.5483870967741935\n"
     ]
    },
    {
     "name": "stderr",
     "output_type": "stream",
     "text": [
      "Transcribing: 100%|███████████████████████████████████████████████████████████████████████████████████████████████| 1/1 [00:00<00:00, 13.55it/s]\n"
     ]
    },
    {
     "name": "stdout",
     "output_type": "stream",
     "text": [
      "there is the slang of the affected lady as well as of the press users\n",
      "pred_csyl:  20\n",
      "pred sp_rate:  3.225806451612903\n",
      "audio path:  /home/dianasimonyan/Desktop/Thesis/SpeakingRateEstimation/data/LibriSpeech/test-clean-labeled/4507/16021/21_45.wav\n",
      "csyl:  45\n",
      "sp_rate:  3.1077348066298343\n"
     ]
    },
    {
     "name": "stderr",
     "output_type": "stream",
     "text": [
      "Transcribing: 100%|███████████████████████████████████████████████████████████████████████████████████████████████| 1/1 [00:00<00:00,  6.85it/s]\n"
     ]
    },
    {
     "name": "stdout",
     "output_type": "stream",
     "text": [
      "the painter who says my grinder the notary who says my skip the gutter the hairdresser who says my mealy back the cobbler who says my cub tox slang\n",
      "pred_csyl:  45\n",
      "pred sp_rate:  3.1077348066298343\n",
      "audio path:  /home/dianasimonyan/Desktop/Thesis/SpeakingRateEstimation/data/LibriSpeech/test-clean-labeled/4507/16021/4_3.wav\n",
      "csyl:  3\n",
      "sp_rate:  1.4051522248243562\n"
     ]
    },
    {
     "name": "stderr",
     "output_type": "stream",
     "text": [
      "Transcribing: 100%|███████████████████████████████████████████████████████████████████████████████████████████████| 1/1 [00:00<00:00, 19.87it/s]\n"
     ]
    },
    {
     "name": "stdout",
     "output_type": "stream",
     "text": [
      "what is slang\n",
      "pred_csyl:  3\n",
      "pred sp_rate:  1.4051522248243562\n",
      "audio path:  /home/dianasimonyan/Desktop/Thesis/SpeakingRateEstimation/data/LibriSpeech/test-clean-labeled/4507/16021/48_21.wav\n",
      "csyl:  21\n",
      "sp_rate:  4.026845637583893\n"
     ]
    },
    {
     "name": "stderr",
     "output_type": "stream",
     "text": [
      "Transcribing: 100%|███████████████████████████████████████████████████████████████████████████████████████████████| 1/1 [00:00<00:00, 12.89it/s]\n"
     ]
    },
    {
     "name": "stdout",
     "output_type": "stream",
     "text": [
      "this without reckoning in the pains of the heart and so it goes on\n",
      "pred_csyl:  21\n",
      "pred sp_rate:  4.026845637583893\n",
      "audio path:  /home/dianasimonyan/Desktop/Thesis/SpeakingRateEstimation/data/LibriSpeech/test-clean-labeled/4507/16021/12_10.wav\n",
      "csyl:  10\n",
      "sp_rate:  3.656307129798903\n"
     ]
    },
    {
     "name": "stderr",
     "output_type": "stream",
     "text": [
      "Transcribing: 100%|███████████████████████████████████████████████████████████████████████████████████████████████| 1/1 [00:00<00:00, 15.33it/s]\n"
     ]
    },
    {
     "name": "stdout",
     "output_type": "stream",
     "text": [
      "why should one halt on the way\n",
      "pred_csyl:  10\n",
      "pred sp_rate:  3.656307129798903\n",
      "audio path:  /home/dianasimonyan/Desktop/Thesis/SpeakingRateEstimation/data/LibriSpeech/test-clean-labeled/4507/16021/34_41.wav\n",
      "csyl:  41\n",
      "sp_rate:  3.637976929902396\n"
     ]
    },
    {
     "name": "stderr",
     "output_type": "stream",
     "text": [
      "Transcribing: 100%|███████████████████████████████████████████████████████████████████████████████████████████████| 1/1 [00:00<00:00,  6.66it/s]\n"
     ]
    },
    {
     "name": "stdout",
     "output_type": "stream",
     "text": [
      "they constitute two different orders of facts which correspond to each other which are always interlaced and which often bring forth results\n",
      "pred_csyl:  41\n",
      "pred sp_rate:  3.637976929902396\n",
      "audio path:  /home/dianasimonyan/Desktop/Thesis/SpeakingRateEstimation/data/LibriSpeech/test-clean-labeled/4507/16021/9_44.wav\n",
      "csyl:  44\n",
      "sp_rate:  3.8920831490490935\n"
     ]
    },
    {
     "name": "stderr",
     "output_type": "stream",
     "text": [
      "Transcribing: 100%|███████████████████████████████████████████████████████████████████████████████████████████████| 1/1 [00:00<00:00,  8.89it/s]\n"
     ]
    },
    {
     "name": "stdout",
     "output_type": "stream",
     "text": [
      "when it is a question of probing a wound a gulf a society since when has it been considered wrong to go too far to go to the bottom\n",
      "pred_csyl:  44\n",
      "pred sp_rate:  3.8920831490490935\n",
      "audio path:  /home/dianasimonyan/Desktop/Thesis/SpeakingRateEstimation/data/LibriSpeech/test-clean-labeled/4507/16021/57_11.wav\n",
      "csyl:  11\n",
      "sp_rate:  2.386117136659436\n"
     ]
    },
    {
     "name": "stderr",
     "output_type": "stream",
     "text": [
      "Transcribing: 100%|███████████████████████████████████████████████████████████████████████████████████████████████| 1/1 [00:00<00:00, 12.04it/s]\n"
     ]
    },
    {
     "name": "stdout",
     "output_type": "stream",
     "text": [
      "people suffer in the light excess burns\n",
      "pred_csyl:  11\n",
      "pred sp_rate:  2.386117136659436\n",
      "audio path:  /home/dianasimonyan/Desktop/Thesis/SpeakingRateEstimation/data/LibriSpeech/test-clean-labeled/4507/16021/10_60.wav\n",
      "csyl:  60\n",
      "sp_rate:  3.9564787339268053\n"
     ]
    },
    {
     "name": "stderr",
     "output_type": "stream",
     "text": [
      "Transcribing: 100%|███████████████████████████████████████████████████████████████████████████████████████████████| 1/1 [00:00<00:00,  5.95it/s]\n"
     ]
    },
    {
     "name": "stdout",
     "output_type": "stream",
     "text": [
      "we have always thought that it was sometimes a courageous act and at least a simple and useful deed worthy of the sympathetic attention which duty accepted in fulfilled merits\n",
      "pred_csyl:  60\n",
      "pred sp_rate:  3.9564787339268053\n",
      "audio path:  /home/dianasimonyan/Desktop/Thesis/SpeakingRateEstimation/data/LibriSpeech/test-clean-labeled/4507/16021/11_20.wav\n",
      "csyl:  20\n",
      "sp_rate:  3.561887800534283\n"
     ]
    },
    {
     "name": "stderr",
     "output_type": "stream",
     "text": [
      "Transcribing: 100%|███████████████████████████████████████████████████████████████████████████████████████████████| 1/1 [00:00<00:00,  9.47it/s]\n"
     ]
    },
    {
     "name": "stdout",
     "output_type": "stream",
     "text": [
      "why should one not explore everything and study everything\n",
      "pred_csyl:  20\n",
      "pred sp_rate:  3.561887800534283\n",
      "audio path:  /home/dianasimonyan/Desktop/Thesis/SpeakingRateEstimation/data/LibriSpeech/test-clean-labeled/4507/16021/47_151.wav\n",
      "csyl:  151\n",
      "sp_rate:  4.319839794020885\n"
     ]
    },
    {
     "name": "stderr",
     "output_type": "stream",
     "text": [
      "Transcribing: 100%|███████████████████████████████████████████████████████████████████████████████████████████████| 1/1 [00:00<00:00,  3.05it/s]\n"
     ]
    },
    {
     "name": "stdout",
     "output_type": "stream",
     "text": [
      "yesterday you were trembling for a health that is dear to you to day you fear for your own to morrow it will be anxiety about money the day after to morrow the dia tribe of a slanderer the day after that the misfortune of some friend then the prevailing weather then something that has been broken or lost then a pleasure with which your conscience and your verdable column reproach you again the course of public affairs\n",
      "pred_csyl:  151\n",
      "pred sp_rate:  4.319839794020885\n",
      "audio path:  /home/dianasimonyan/Desktop/Thesis/SpeakingRateEstimation/data/LibriSpeech/test-clean-labeled/4507/16021/44_8.wav\n",
      "csyl:  8\n",
      "sp_rate:  3.6529680365296806\n"
     ]
    },
    {
     "name": "stderr",
     "output_type": "stream",
     "text": [
      "Transcribing: 100%|███████████████████████████████████████████████████████████████████████████████████████████████| 1/1 [00:00<00:00, 22.17it/s]\n"
     ]
    },
    {
     "name": "stdout",
     "output_type": "stream",
     "text": [
      "look closely at life\n",
      "pred_csyl:  8\n",
      "pred sp_rate:  3.6529680365296806\n",
      "audio path:  /home/dianasimonyan/Desktop/Thesis/SpeakingRateEstimation/data/LibriSpeech/test-clean-labeled/4507/16021/45_21.wav\n",
      "csyl:  21\n",
      "sp_rate:  4.294478527607362\n"
     ]
    },
    {
     "name": "stderr",
     "output_type": "stream",
     "text": [
      "Transcribing: 100%|███████████████████████████████████████████████████████████████████████████████████████████████| 1/1 [00:00<00:00, 13.10it/s]\n"
     ]
    },
    {
     "name": "stdout",
     "output_type": "stream",
     "text": [
      "it is so made that everywhere we feel the sense of punishment\n",
      "pred_csyl:  21\n",
      "pred sp_rate:  4.294478527607362\n",
      "audio path:  /home/dianasimonyan/Desktop/Thesis/SpeakingRateEstimation/data/LibriSpeech/test-clean-labeled/4507/16021/43_17.wav\n",
      "csyl:  17\n",
      "sp_rate:  4.260651629072681\n"
     ]
    },
    {
     "name": "stderr",
     "output_type": "stream",
     "text": [
      "Transcribing: 100%|███████████████████████████████████████████████████████████████████████████████████████████████| 1/1 [00:00<00:00, 13.43it/s]\n"
     ]
    },
    {
     "name": "stdout",
     "output_type": "stream",
     "text": [
      "the earth is not devoid of resemblance to a jail\n",
      "pred_csyl:  17\n",
      "pred sp_rate:  4.260651629072681\n",
      "audio path:  /home/dianasimonyan/Desktop/Thesis/SpeakingRateEstimation/data/LibriSpeech/test-clean-labeled/4507/16021/42_31.wav\n",
      "csyl:  31\n",
      "sp_rate:  2.9879518072289155\n"
     ]
    },
    {
     "name": "stderr",
     "output_type": "stream",
     "text": [
      "Transcribing: 100%|███████████████████████████████████████████████████████████████████████████████████████████████| 1/1 [00:00<00:00,  7.86it/s]\n"
     ]
    },
    {
     "name": "stdout",
     "output_type": "stream",
     "text": [
      "it is black in misfortune it is blacker still in crime these two blacknesses amalgamated composed slang\n",
      "pred_csyl:  31\n",
      "pred sp_rate:  2.9879518072289155\n",
      "audio path:  /home/dianasimonyan/Desktop/Thesis/SpeakingRateEstimation/data/LibriSpeech/test-clean-labeled/4507/16021/41_11.wav\n",
      "csyl:  11\n",
      "sp_rate:  3.6974789915966384\n"
     ]
    },
    {
     "name": "stderr",
     "output_type": "stream",
     "text": [
      "Transcribing: 100%|███████████████████████████████████████████████████████████████████████████████████████████████| 1/1 [00:00<00:00, 15.90it/s]\n"
     ]
    },
    {
     "name": "stdout",
     "output_type": "stream",
     "text": [
      "it is unintelligible in the dark\n",
      "pred_csyl:  11\n",
      "pred sp_rate:  3.6974789915966384\n",
      "audio path:  /home/dianasimonyan/Desktop/Thesis/SpeakingRateEstimation/data/LibriSpeech/test-clean-labeled/4507/16021/27_9.wav\n",
      "csyl:  9\n",
      "sp_rate:  4.511278195488722\n"
     ]
    },
    {
     "name": "stderr",
     "output_type": "stream",
     "text": [
      "Transcribing: 100%|███████████████████████████████████████████████████████████████████████████████████████████████| 1/1 [00:00<00:00, 21.03it/s]\n"
     ]
    },
    {
     "name": "stdout",
     "output_type": "stream",
     "text": [
      "phoenician very good\n",
      "pred_csyl:  9\n",
      "pred sp_rate:  4.511278195488722\n",
      "audio path:  /home/dianasimonyan/Desktop/Thesis/SpeakingRateEstimation/data/LibriSpeech/test-clean-labeled/4507/16021/49_26.wav\n",
      "csyl:  26\n",
      "sp_rate:  4.399323181049069\n"
     ]
    },
    {
     "name": "stderr",
     "output_type": "stream",
     "text": [
      "Transcribing: 100%|███████████████████████████████████████████████████████████████████████████████████████████████| 1/1 [00:00<00:00, 12.10it/s]\n"
     ]
    },
    {
     "name": "stdout",
     "output_type": "stream",
     "text": [
      "there is hardly one day out of a hundred which is wholly joyous and sunny\n",
      "pred_csyl:  26\n",
      "pred sp_rate:  4.399323181049069\n",
      "audio path:  /home/dianasimonyan/Desktop/Thesis/SpeakingRateEstimation/data/LibriSpeech/test-clean-labeled/4507/16021/14_12.wav\n",
      "csyl:  12\n",
      "sp_rate:  1.9623875715453802\n"
     ]
    },
    {
     "name": "stderr",
     "output_type": "stream",
     "text": [
      "Transcribing: 100%|███████████████████████████████████████████████████████████████████████████████████████████████| 1/1 [00:00<00:00, 12.72it/s]\n"
     ]
    },
    {
     "name": "stdout",
     "output_type": "stream",
     "text": [
      "now when has horror ever excluded study\n",
      "pred_csyl:  12\n",
      "pred sp_rate:  1.9623875715453802\n",
      "audio path:  /home/dianasimonyan/Desktop/Thesis/SpeakingRateEstimation/data/LibriSpeech/test-clean-labeled/4507/16021/37_15.wav\n",
      "csyl:  15\n",
      "sp_rate:  2.8037383177570097\n"
     ]
    },
    {
     "name": "stderr",
     "output_type": "stream",
     "text": [
      "Transcribing: 100%|███████████████████████████████████████████████████████████████████████████████████████████████| 1/1 [00:00<00:00, 13.14it/s]\n"
     ]
    },
    {
     "name": "stdout",
     "output_type": "stream",
     "text": [
      "there it clothes itself in word masks in megaphorgs\n",
      "pred_csyl:  14\n",
      "pred sp_rate:  2.6168224299065423\n",
      "audio path:  /home/dianasimonyan/Desktop/Thesis/SpeakingRateEstimation/data/LibriSpeech/test-clean-labeled/4507/16021/23_33.wav\n",
      "csyl:  33\n",
      "sp_rate:  2.7340513670256836\n"
     ]
    },
    {
     "name": "stderr",
     "output_type": "stream",
     "text": [
      "Transcribing: 100%|███████████████████████████████████████████████████████████████████████████████████████████████| 1/1 [00:00<00:00,  7.22it/s]\n"
     ]
    },
    {
     "name": "stdout",
     "output_type": "stream",
     "text": [
      "the sugar manufacturer who says loaf clarified lumps bastard common burnt this honest manufacturer talks slang\n",
      "pred_csyl:  33\n",
      "pred sp_rate:  2.7340513670256836\n",
      "audio path:  /home/dianasimonyan/Desktop/Thesis/SpeakingRateEstimation/data/LibriSpeech/test-clean-labeled/4507/16021/33_26.wav\n",
      "csyl:  26\n",
      "sp_rate:  4.6889089269612265\n"
     ]
    },
    {
     "name": "stderr",
     "output_type": "stream",
     "text": [
      "Transcribing: 100%|███████████████████████████████████████████████████████████████████████████████████████████████| 1/1 [00:00<00:00, 10.26it/s]\n"
     ]
    },
    {
     "name": "stdout",
     "output_type": "stream",
     "text": [
      "do we really know the mountain well when we are not acquainted with the cavern\n",
      "pred_csyl:  26\n",
      "pred sp_rate:  4.6889089269612265\n",
      "audio path:  /home/dianasimonyan/Desktop/Thesis/SpeakingRateEstimation/data/LibriSpeech/test-clean-labeled/4507/16021/20_80.wav\n",
      "csyl:  80\n",
      "sp_rate:  3.5555555555555554\n"
     ]
    },
    {
     "name": "stderr",
     "output_type": "stream",
     "text": [
      "Transcribing: 100%|███████████████████████████████████████████████████████████████████████████████████████████████| 1/1 [00:00<00:00,  4.58it/s]\n"
     ]
    },
    {
     "name": "stdout",
     "output_type": "stream",
     "text": [
      "we may be stopped the fact may be put to us in general terms which is one way of attenuating it we may be told that all trades professions it may be added all the accidents of the social hierarchy and all forms of intelligence have their own slang\n",
      "pred_csyl:  80\n",
      "pred sp_rate:  3.5555555555555554\n",
      "audio path:  /home/dianasimonyan/Desktop/Thesis/SpeakingRateEstimation/data/LibriSpeech/test-clean-labeled/4507/16021/19_11.wav\n",
      "csyl:  11\n",
      "sp_rate:  3.7542662116040955\n"
     ]
    },
    {
     "name": "stderr",
     "output_type": "stream",
     "text": [
      "Transcribing: 100%|███████████████████████████████████████████████████████████████████████████████████████████████| 1/1 [00:00<00:00, 11.62it/s]\n"
     ]
    },
    {
     "name": "stdout",
     "output_type": "stream",
     "text": [
      "it is the language of wretchedness\n",
      "pred_csyl:  11\n",
      "pred sp_rate:  3.7542662116040955\n",
      "audio path:  /home/dianasimonyan/Desktop/Thesis/SpeakingRateEstimation/data/LibriSpeech/test-clean-labeled/4507/16021/59_22.wav\n",
      "csyl:  22\n",
      "sp_rate:  3.5455278001611603\n"
     ]
    },
    {
     "name": "stderr",
     "output_type": "stream",
     "text": [
      "Transcribing: 100%|███████████████████████████████████████████████████████████████████████████████████████████████| 1/1 [00:00<00:00, 11.20it/s]\n"
     ]
    },
    {
     "name": "stdout",
     "output_type": "stream",
     "text": [
      "to burn without ceasing to fly therein lies the marvel of genius\n",
      "pred_csyl:  22\n",
      "pred sp_rate:  3.5455278001611603\n",
      "audio path:  /home/dianasimonyan/Desktop/Thesis/SpeakingRateEstimation/data/LibriSpeech/test-clean-labeled/4507/16021/8_12.wav\n",
      "csyl:  12\n",
      "sp_rate:  3.3426183844011144\n"
     ]
    },
    {
     "name": "stderr",
     "output_type": "stream",
     "text": [
      "Transcribing: 100%|███████████████████████████████████████████████████████████████████████████████████████████████| 1/1 [00:00<00:00, 14.47it/s]\n"
     ]
    },
    {
     "name": "stdout",
     "output_type": "stream",
     "text": [
      "who denies that of course it does\n",
      "pred_csyl:  12\n",
      "pred sp_rate:  3.3426183844011144\n",
      "audio path:  /home/dianasimonyan/Desktop/Thesis/SpeakingRateEstimation/data/LibriSpeech/test-clean-labeled/4507/16021/5_16.wav\n",
      "csyl:  16\n",
      "sp_rate:  3.800475059382423\n"
     ]
    },
    {
     "name": "stderr",
     "output_type": "stream",
     "text": [
      "Transcribing: 100%|███████████████████████████████████████████████████████████████████████████████████████████████| 1/1 [00:00<00:00, 10.78it/s]\n"
     ]
    },
    {
     "name": "stdout",
     "output_type": "stream",
     "text": [
      "we have never understood this sort of objections\n",
      "pred_csyl:  16\n",
      "pred sp_rate:  3.800475059382423\n",
      "audio path:  /home/dianasimonyan/Desktop/Thesis/SpeakingRateEstimation/data/LibriSpeech/test-clean-labeled/4507/16021/24_17.wav\n",
      "csyl:  17\n",
      "sp_rate:  3.3073929961089497\n"
     ]
    },
    {
     "name": "stderr",
     "output_type": "stream",
     "text": [
      "Transcribing: 100%|███████████████████████████████████████████████████████████████████████████████████████████████| 1/1 [00:00<00:00, 14.24it/s]\n"
     ]
    },
    {
     "name": "stdout",
     "output_type": "stream",
     "text": [
      "algebra medicine botany have each their slang\n",
      "pred_csyl:  17\n",
      "pred sp_rate:  3.3073929961089497\n",
      "audio path:  /home/dianasimonyan/Desktop/Thesis/SpeakingRateEstimation/data/LibriSpeech/test-clean-labeled/4507/16021/29_11.wav\n",
      "csyl:  11\n",
      "sp_rate:  2.842377260981912\n"
     ]
    },
    {
     "name": "stderr",
     "output_type": "stream",
     "text": [
      "Transcribing: 100%|███████████████████████████████████████████████████████████████████████████████████████████████| 1/1 [00:00<00:00, 17.98it/s]\n"
     ]
    },
    {
     "name": "stdout",
     "output_type": "stream",
     "text": [
      "to this we reply in one word only\n",
      "pred_csyl:  11\n",
      "pred sp_rate:  2.842377260981912\n",
      "audio path:  /home/dianasimonyan/Desktop/Thesis/SpeakingRateEstimation/data/LibriSpeech/test-clean-labeled/4507/16021/13_40.wav\n",
      "csyl:  40\n",
      "sp_rate:  3.831417624521073\n"
     ]
    },
    {
     "name": "stderr",
     "output_type": "stream",
     "text": [
      "Transcribing: 100%|███████████████████████████████████████████████████████████████████████████████████████████████| 1/1 [00:00<00:00,  8.12it/s]"
     ]
    },
    {
     "name": "stdout",
     "output_type": "stream",
     "text": [
      "nothing is more lugubrious than the contemplation thus in its nudity in the broad light of thought of the horrible swarming of slang\n",
      "pred_csyl:  40\n",
      "pred sp_rate:  3.831417624521073\n",
      "audio path:  /home/dianasimonyan/Desktop/Thesis/SpeakingRateEstimation/data/LibriSpeech/test-clean-labeled/4507/16021/25_28.wav\n",
      "csyl:  28\n"
     ]
    },
    {
     "name": "stderr",
     "output_type": "stream",
     "text": [
      "\n"
     ]
    },
    {
     "name": "stdout",
     "output_type": "stream",
     "text": [
      "sp_rate:  3.038524145415084\n"
     ]
    },
    {
     "name": "stderr",
     "output_type": "stream",
     "text": [
      "Transcribing: 100%|███████████████████████████████████████████████████████████████████████████████████████████████| 1/1 [00:00<00:00, 10.05it/s]\n"
     ]
    },
    {
     "name": "stdout",
     "output_type": "stream",
     "text": [
      "to meet the needs of this conflict wretchedness has invented a language of combat which is slang\n",
      "pred_csyl:  28\n",
      "pred sp_rate:  3.038524145415084\n",
      "audio path:  /home/dianasimonyan/Desktop/Thesis/SpeakingRateEstimation/data/LibriSpeech/test-clean-labeled/4507/16021/50_15.wav\n",
      "csyl:  15\n",
      "sp_rate:  3.851091142490372\n"
     ]
    },
    {
     "name": "stderr",
     "output_type": "stream",
     "text": [
      "Transcribing: 100%|███████████████████████████████████████████████████████████████████████████████████████████████| 1/1 [00:00<00:00, 16.81it/s]\n"
     ]
    },
    {
     "name": "stdout",
     "output_type": "stream",
     "text": [
      "and you belong to that small class who are happy\n",
      "pred_csyl:  15\n",
      "pred sp_rate:  3.851091142490372\n",
      "audio path:  /home/dianasimonyan/Desktop/Thesis/SpeakingRateEstimation/data/LibriSpeech/test-clean-labeled/4507/16021/52_20.wav\n",
      "csyl:  20\n",
      "sp_rate:  3.187250996015936\n"
     ]
    },
    {
     "name": "stderr",
     "output_type": "stream",
     "text": [
      "Transcribing: 100%|███████████████████████████████████████████████████████████████████████████████████████████████| 1/1 [00:00<00:00,  9.04it/s]\n"
     ]
    },
    {
     "name": "stdout",
     "output_type": "stream",
     "text": [
      "the real human division is this the luminous and the shady\n",
      "pred_csyl:  20\n",
      "pred sp_rate:  3.187250996015936\n",
      "audio path:  /home/dianasimonyan/Desktop/Thesis/SpeakingRateEstimation/data/LibriSpeech/test-clean-labeled/4507/16021/36_14.wav\n",
      "csyl:  14\n",
      "sp_rate:  2.5758969641214353\n"
     ]
    },
    {
     "name": "stderr",
     "output_type": "stream",
     "text": [
      "Transcribing: 100%|███████████████████████████████████████████████████████████████████████████████████████████████| 1/1 [00:00<00:00, 15.05it/s]"
     ]
    },
    {
     "name": "stdout",
     "output_type": "stream",
     "text": [
      "facts form one of these and ideas the other"
     ]
    },
    {
     "name": "stderr",
     "output_type": "stream",
     "text": [
      "\n"
     ]
    },
    {
     "name": "stdout",
     "output_type": "stream",
     "text": [
      "\n",
      "pred_csyl:  14\n",
      "pred sp_rate:  2.5758969641214353\n",
      "audio path:  /home/dianasimonyan/Desktop/Thesis/SpeakingRateEstimation/data/LibriSpeech/test-clean-labeled/4507/16021/40_11.wav\n",
      "csyl:  11\n",
      "sp_rate:  2.802547770700637\n"
     ]
    },
    {
     "name": "stderr",
     "output_type": "stream",
     "text": [
      "Transcribing: 100%|███████████████████████████████████████████████████████████████████████████████████████████████| 1/1 [00:00<00:00, 12.12it/s]\n"
     ]
    },
    {
     "name": "stdout",
     "output_type": "stream",
     "text": [
      "one thinks one hears hydras talking\n",
      "pred_csyl:  11\n",
      "pred sp_rate:  2.802547770700637\n",
      "audio path:  /home/dianasimonyan/Desktop/Thesis/SpeakingRateEstimation/data/LibriSpeech/test-clean-labeled/4507/16021/31_59.wav\n",
      "csyl:  59\n",
      "sp_rate:  4.122990915443745\n"
     ]
    },
    {
     "name": "stderr",
     "output_type": "stream",
     "text": [
      "Transcribing: 100%|███████████████████████████████████████████████████████████████████████████████████████████████| 1/1 [00:00<00:00,  6.68it/s]\n"
     ]
    },
    {
     "name": "stdout",
     "output_type": "stream",
     "text": [
      "and then we insist upon it the study of social deformities and infirmities and the task of pointing them out with their view to remedy is not a business in which choices permitted\n",
      "pred_csyl:  59\n",
      "pred sp_rate:  4.122990915443745\n",
      "audio path:  /home/dianasimonyan/Desktop/Thesis/SpeakingRateEstimation/data/LibriSpeech/test-clean-labeled/4507/16021/7_7.wav\n",
      "csyl:  7\n",
      "sp_rate:  2.661596958174905\n"
     ]
    },
    {
     "name": "stderr",
     "output_type": "stream",
     "text": [
      "Transcribing: 100%|███████████████████████████████████████████████████████████████████████████████████████████████| 1/1 [00:00<00:00, 19.48it/s]\n"
     ]
    },
    {
     "name": "stdout",
     "output_type": "stream",
     "text": [
      "slang makes one shudder\n",
      "pred_csyl:  7\n",
      "pred sp_rate:  2.661596958174905\n",
      "audio path:  /home/dianasimonyan/Desktop/Thesis/SpeakingRateEstimation/data/LibriSpeech/test-clean-labeled/4507/16021/58_11.wav\n",
      "csyl:  11\n",
      "sp_rate:  3.536977491961415\n"
     ]
    },
    {
     "name": "stderr",
     "output_type": "stream",
     "text": [
      "Transcribing: 100%|███████████████████████████████████████████████████████████████████████████████████████████████| 1/1 [00:00<00:00, 18.88it/s]\n"
     ]
    },
    {
     "name": "stdout",
     "output_type": "stream",
     "text": [
      "the flame is the enemy of the wing\n",
      "pred_csyl:  11\n",
      "pred sp_rate:  3.536977491961415\n",
      "audio path:  /home/dianasimonyan/Desktop/Thesis/SpeakingRateEstimation/data/LibriSpeech/test-clean-labeled/4507/16021/38_12.wav\n",
      "csyl:  12\n",
      "sp_rate:  3.088803088803089\n"
     ]
    },
    {
     "name": "stderr",
     "output_type": "stream",
     "text": [
      "Transcribing: 100%|███████████████████████████████████████████████████████████████████████████████████████████████| 1/1 [00:00<00:00, 16.56it/s]"
     ]
    },
    {
     "name": "stdout",
     "output_type": "stream",
     "text": [
      "in disguise it becomes horrible"
     ]
    },
    {
     "name": "stderr",
     "output_type": "stream",
     "text": [
      "\n"
     ]
    },
    {
     "name": "stdout",
     "output_type": "stream",
     "text": [
      "\n",
      "pred_csyl:  12\n",
      "pred sp_rate:  3.088803088803089\n",
      "audio path:  /home/dianasimonyan/Desktop/Thesis/SpeakingRateEstimation/data/LibriSpeech/test-clean-labeled/4507/16021/55_25.wav\n",
      "csyl:  25\n",
      "sp_rate:  3.4602076124567476\n"
     ]
    },
    {
     "name": "stderr",
     "output_type": "stream",
     "text": [
      "Transcribing: 100%|███████████████████████████████████████████████████████████████████████████████████████████████| 1/1 [00:00<00:00,  9.50it/s]\n"
     ]
    },
    {
     "name": "stdout",
     "output_type": "stream",
     "text": [
      "to teach reading means to light the fire every syllable spelled out sparkles\n",
      "pred_csyl:  25\n",
      "pred sp_rate:  3.4602076124567476\n",
      "audio path:  /home/dianasimonyan/Desktop/Thesis/SpeakingRateEstimation/data/LibriSpeech/test-clean-labeled/4507/16021/54_13.wav\n",
      "csyl:  13\n",
      "sp_rate:  3.0127462340672073\n"
     ]
    },
    {
     "name": "stderr",
     "output_type": "stream",
     "text": [
      "Transcribing: 100%|███████████████████████████████████████████████████████████████████████████████████████████████| 1/1 [00:00<00:00, 14.79it/s]\n"
     ]
    },
    {
     "name": "stdout",
     "output_type": "stream",
     "text": [
      "that is why we cry education science\n",
      "pred_csyl:  13\n",
      "pred sp_rate:  3.0127462340672073\n",
      "audio path:  /home/dianasimonyan/Desktop/Thesis/SpeakingRateEstimation/data/LibriSpeech/test-clean-labeled/4507/16021/0_7.wav\n",
      "csyl:  7\n",
      "sp_rate:  2.7027027027027026\n"
     ]
    },
    {
     "name": "stderr",
     "output_type": "stream",
     "text": [
      "Transcribing: 100%|███████████████████████████████████████████████████████████████████████████████████████████████| 1/1 [00:00<00:00, 18.43it/s]\n"
     ]
    },
    {
     "name": "stdout",
     "output_type": "stream",
     "text": [
      "chapter one origin\n",
      "pred_csyl:  7\n",
      "pred sp_rate:  2.7027027027027026\n",
      "audio path:  /home/dianasimonyan/Desktop/Thesis/SpeakingRateEstimation/data/LibriSpeech/test-clean-labeled/121/123852/3_77.wav\n",
      "csyl:  77\n",
      "sp_rate:  3.2758987449478836\n"
     ]
    },
    {
     "name": "stderr",
     "output_type": "stream",
     "text": [
      "Transcribing: 100%|███████████████████████████████████████████████████████████████████████████████████████████████| 1/1 [00:00<00:00,  4.65it/s]\n"
     ]
    },
    {
     "name": "stdout",
     "output_type": "stream",
     "text": [
      "thought kills me that i am not thought to leap large lengths of miles when thou art gone but that so much of earth and water wrought i must attend time's leisure with my moan receiving not by elements so slow but heavy tears badges of either's woe\n",
      "pred_csyl:  76\n",
      "pred sp_rate:  3.2333546054031057\n",
      "audio path:  /home/dianasimonyan/Desktop/Thesis/SpeakingRateEstimation/data/LibriSpeech/test-clean-labeled/121/123852/4_53.wav\n",
      "csyl:  53\n",
      "sp_rate:  3.2535297728667896\n"
     ]
    },
    {
     "name": "stderr",
     "output_type": "stream",
     "text": [
      "Transcribing: 100%|███████████████████████████████████████████████████████████████████████████████████████████████| 1/1 [00:00<00:00,  5.76it/s]\n"
     ]
    },
    {
     "name": "stdout",
     "output_type": "stream",
     "text": [
      "my heart doth plead that thou in him dost lie a closet never pierc'd with crystal eyes but the defendant doth that plea deny and says in him thy fair appearance lies\n",
      "pred_csyl:  53\n",
      "pred sp_rate:  3.2535297728667896\n",
      "audio path:  /home/dianasimonyan/Desktop/Thesis/SpeakingRateEstimation/data/LibriSpeech/test-clean-labeled/121/123852/2_52.wav\n",
      "csyl:  52\n",
      "sp_rate:  3.008388776395719\n"
     ]
    },
    {
     "name": "stderr",
     "output_type": "stream",
     "text": [
      "Transcribing: 100%|███████████████████████████████████████████████████████████████████████████████████████████████| 1/1 [00:00<00:00,  5.85it/s]\n"
     ]
    },
    {
     "name": "stdout",
     "output_type": "stream",
     "text": [
      "no matter then although my foot did stand upon the farthest earth remov'd from thee for nimble thought can jump both sea and land as soon as think the place where he would be\n",
      "pred_csyl:  50\n",
      "pred sp_rate:  2.8926815157651142\n",
      "audio path:  /home/dianasimonyan/Desktop/Thesis/SpeakingRateEstimation/data/LibriSpeech/test-clean-labeled/121/123852/0_51.wav\n",
      "csyl:  51\n",
      "sp_rate:  2.8821701045493078\n"
     ]
    },
    {
     "name": "stderr",
     "output_type": "stream",
     "text": [
      "Transcribing: 100%|███████████████████████████████████████████████████████████████████████████████████████████████| 1/1 [00:00<00:00,  5.62it/s]\n"
     ]
    },
    {
     "name": "stdout",
     "output_type": "stream",
     "text": [
      "those pretty wrongs that liberty commits when i am some time absent from thy heart thy beauty and thy years full well befits for still temptation follows where thou art\n",
      "pred_csyl:  51\n",
      "pred sp_rate:  2.8821701045493078\n",
      "audio path:  /home/dianasimonyan/Desktop/Thesis/SpeakingRateEstimation/data/LibriSpeech/test-clean-labeled/121/123852/1_3.wav\n",
      "csyl:  3\n",
      "sp_rate:  1.6042780748663101\n"
     ]
    },
    {
     "name": "stderr",
     "output_type": "stream",
     "text": [
      "Transcribing: 100%|███████████████████████████████████████████████████████████████████████████████████████████████| 1/1 [00:00<00:00, 21.41it/s]\n"
     ]
    },
    {
     "name": "stdout",
     "output_type": "stream",
     "text": [
      "ay me\n",
      "pred_csyl:  3\n",
      "pred sp_rate:  1.6042780748663101\n",
      "audio path:  /home/dianasimonyan/Desktop/Thesis/SpeakingRateEstimation/data/LibriSpeech/test-clean-labeled/121/127105/21_8.wav\n",
      "csyl:  8\n",
      "sp_rate:  4.0\n"
     ]
    },
    {
     "name": "stderr",
     "output_type": "stream",
     "text": [
      "Transcribing: 100%|███████████████████████████████████████████████████████████████████████████████████████████████| 1/1 [00:00<00:00, 18.11it/s]\n"
     ]
    },
    {
     "name": "stdout",
     "output_type": "stream",
     "text": [
      "won't you tell douglas\n",
      "pred_csyl:  8\n",
      "pred sp_rate:  4.0\n",
      "audio path:  /home/dianasimonyan/Desktop/Thesis/SpeakingRateEstimation/data/LibriSpeech/test-clean-labeled/121/127105/10_17.wav\n",
      "csyl:  17\n",
      "sp_rate:  5.964912280701754\n"
     ]
    },
    {
     "name": "stderr",
     "output_type": "stream",
     "text": [
      "Transcribing: 100%|███████████████████████████████████████████████████████████████████████████████████████████████| 1/1 [00:00<00:00, 10.18it/s]\n"
     ]
    },
    {
     "name": "stdout",
     "output_type": "stream",
     "text": [
      "she sent me the pages in question before she died\n",
      "pred_csyl:  17\n",
      "pred sp_rate:  5.964912280701754\n",
      "audio path:  /home/dianasimonyan/Desktop/Thesis/SpeakingRateEstimation/data/LibriSpeech/test-clean-labeled/121/127105/22_17.wav\n",
      "csyl:  17\n",
      "sp_rate:  3.3497536945812807\n"
     ]
    },
    {
     "name": "stderr",
     "output_type": "stream",
     "text": [
      "Transcribing: 100%|███████████████████████████████████████████████████████████████████████████████████████████████| 1/1 [00:00<00:00, 12.95it/s]"
     ]
    },
    {
     "name": "stdout",
     "output_type": "stream",
     "text": [
      "well if i don't know who she was in love with i know who he was"
     ]
    },
    {
     "name": "stderr",
     "output_type": "stream",
     "text": [
      "\n"
     ]
    },
    {
     "name": "stdout",
     "output_type": "stream",
     "text": [
      "\n",
      "pred_csyl:  17\n",
      "pred sp_rate:  3.3497536945812807\n",
      "audio path:  /home/dianasimonyan/Desktop/Thesis/SpeakingRateEstimation/data/LibriSpeech/test-clean-labeled/121/127105/31_41.wav\n",
      "csyl:  41\n",
      "sp_rate:  3.8086391082210866\n"
     ]
    },
    {
     "name": "stderr",
     "output_type": "stream",
     "text": [
      "Transcribing: 100%|███████████████████████████████████████████████████████████████████████████████████████████████| 1/1 [00:00<00:00,  8.47it/s]\n"
     ]
    },
    {
     "name": "stdout",
     "output_type": "stream",
     "text": [
      "she was young untried nervous it was a vision of serious duties in little company of really great loneliness\n",
      "pred_csyl:  41\n",
      "pred sp_rate:  3.8086391082210866\n",
      "audio path:  /home/dianasimonyan/Desktop/Thesis/SpeakingRateEstimation/data/LibriSpeech/test-clean-labeled/121/127105/25_82.wav\n",
      "csyl:  82\n",
      "sp_rate:  5.1042639277933395\n"
     ]
    },
    {
     "name": "stderr",
     "output_type": "stream",
     "text": [
      "Transcribing: 100%|███████████████████████████████████████████████████████████████████████████████████████████████| 1/1 [00:00<00:00,  5.32it/s]"
     ]
    },
    {
     "name": "stdout",
     "output_type": "stream",
     "text": [
      "the departing ladies who had said they would stay didn't of course thank heaven stay they departed in consequence of arrangements made in a rage of curiosity as they professed produced by the touches with which he had already worked us up\n",
      "pred_csyl:  82\n",
      "pred sp_rate:  5.1042639277933395\n",
      "audio path:  /home/dianasimonyan/Desktop/Thesis/SpeakingRateEstimation/data/LibriSpeech/test-clean-labeled/121/127105/11_37.wav\n",
      "csyl:  37\n"
     ]
    },
    {
     "name": "stderr",
     "output_type": "stream",
     "text": [
      "\n"
     ]
    },
    {
     "name": "stdout",
     "output_type": "stream",
     "text": [
      "sp_rate:  6.401384083044983\n"
     ]
    },
    {
     "name": "stderr",
     "output_type": "stream",
     "text": [
      "Transcribing: 100%|███████████████████████████████████████████████████████████████████████████████████████████████| 1/1 [00:00<00:00, 11.46it/s]\n"
     ]
    },
    {
     "name": "stdout",
     "output_type": "stream",
     "text": [
      "she was the most agreeable woman i've ever known in her position she would have been worthy of any whatever\n",
      "pred_csyl:  37\n",
      "pred sp_rate:  6.401384083044983\n",
      "audio path:  /home/dianasimonyan/Desktop/Thesis/SpeakingRateEstimation/data/LibriSpeech/test-clean-labeled/121/127105/1_29.wav\n",
      "csyl:  29\n",
      "sp_rate:  5.771144278606965\n"
     ]
    },
    {
     "name": "stderr",
     "output_type": "stream",
     "text": [
      "Transcribing: 100%|███████████████████████████████████████████████████████████████████████████████████████████████| 1/1 [00:00<00:00, 13.43it/s]\n"
     ]
    },
    {
     "name": "stdout",
     "output_type": "stream",
     "text": [
      "some one else told a story not particularly effective which i saw he was not following\n",
      "pred_csyl:  29\n",
      "pred sp_rate:  5.771144278606965\n",
      "audio path:  /home/dianasimonyan/Desktop/Thesis/SpeakingRateEstimation/data/LibriSpeech/test-clean-labeled/121/127105/27_68.wav\n",
      "csyl:  68\n",
      "sp_rate:  4.902667627974045\n"
     ]
    },
    {
     "name": "stderr",
     "output_type": "stream",
     "text": [
      "Transcribing: 100%|███████████████████████████████████████████████████████████████████████████████████████████████| 1/1 [00:00<00:00,  6.87it/s]\n"
     ]
    },
    {
     "name": "stdout",
     "output_type": "stream",
     "text": [
      "he had for his own town residence a big house filled with the spoils of travel and the trophies of the chase but it was to his country home an old family place in essex that he wished her immediately to proceed\n",
      "pred_csyl:  68\n",
      "pred sp_rate:  4.902667627974045\n",
      "audio path:  /home/dianasimonyan/Desktop/Thesis/SpeakingRateEstimation/data/LibriSpeech/test-clean-labeled/121/127105/12_24.wav\n",
      "csyl:  24\n",
      "sp_rate:  4.968944099378882\n"
     ]
    },
    {
     "name": "stderr",
     "output_type": "stream",
     "text": [
      "Transcribing: 100%|███████████████████████████████████████████████████████████████████████████████████████████████| 1/1 [00:00<00:00, 10.90it/s]\n"
     ]
    },
    {
     "name": "stdout",
     "output_type": "stream",
     "text": [
      "twasn't simply that she said so but that i knew she hadn't i was sure i could see\n",
      "pred_csyl:  23\n",
      "pred sp_rate:  4.761904761904762\n",
      "audio path:  /home/dianasimonyan/Desktop/Thesis/SpeakingRateEstimation/data/LibriSpeech/test-clean-labeled/121/127105/0_52.wav\n",
      "csyl:  52\n",
      "sp_rate:  5.265822784810126\n"
     ]
    },
    {
     "name": "stderr",
     "output_type": "stream",
     "text": [
      "Transcribing: 100%|███████████████████████████████████████████████████████████████████████████████████████████████| 1/1 [00:00<00:00,  8.04it/s]\n"
     ]
    },
    {
     "name": "stdout",
     "output_type": "stream",
     "text": [
      "it was this observation that drew from douglas not immediately but later in the evening a reply that had the interesting consequence to which i call attention\n",
      "pred_csyl:  52\n",
      "pred sp_rate:  5.265822784810126\n",
      "audio path:  /home/dianasimonyan/Desktop/Thesis/SpeakingRateEstimation/data/LibriSpeech/test-clean-labeled/121/127105/18_17.wav\n",
      "csyl:  17\n",
      "sp_rate:  6.137184115523466\n"
     ]
    },
    {
     "name": "stderr",
     "output_type": "stream",
     "text": [
      "Transcribing: 100%|███████████████████████████████████████████████████████████████████████████████████████████████| 1/1 [00:00<00:00, 18.09it/s]"
     ]
    },
    {
     "name": "stdout",
     "output_type": "stream",
     "text": [
      "cried the ladies whose departure had been fixed"
     ]
    },
    {
     "name": "stderr",
     "output_type": "stream",
     "text": [
      "\n"
     ]
    },
    {
     "name": "stdout",
     "output_type": "stream",
     "text": [
      "\n",
      "pred_csyl:  17\n",
      "pred sp_rate:  6.137184115523466\n",
      "audio path:  /home/dianasimonyan/Desktop/Thesis/SpeakingRateEstimation/data/LibriSpeech/test-clean-labeled/121/127105/4_5.wav\n",
      "csyl:  5\n",
      "sp_rate:  2.3696682464454977\n"
     ]
    },
    {
     "name": "stderr",
     "output_type": "stream",
     "text": [
      "Transcribing: 100%|███████████████████████████████████████████████████████████████████████████████████████████████| 1/1 [00:00<00:00, 13.95it/s]\n"
     ]
    },
    {
     "name": "stdout",
     "output_type": "stream",
     "text": [
      "the story's written\n",
      "pred_csyl:  5\n",
      "pred sp_rate:  2.3696682464454977\n",
      "audio path:  /home/dianasimonyan/Desktop/Thesis/SpeakingRateEstimation/data/LibriSpeech/test-clean-labeled/121/127105/30_7.wav\n",
      "csyl:  7\n",
      "sp_rate:  3.218390804597701\n"
     ]
    },
    {
     "name": "stderr",
     "output_type": "stream",
     "text": [
      "Transcribing: 100%|███████████████████████████████████████████████████████████████████████████████████████████████| 1/1 [00:00<00:00, 20.61it/s]\n"
     ]
    },
    {
     "name": "stdout",
     "output_type": "stream",
     "text": [
      "i don't anticipate\n",
      "pred_csyl:  7\n",
      "pred sp_rate:  3.218390804597701\n",
      "audio path:  /home/dianasimonyan/Desktop/Thesis/SpeakingRateEstimation/data/LibriSpeech/test-clean-labeled/121/127105/34_31.wav\n",
      "csyl:  31\n",
      "sp_rate:  4.183535762483131\n"
     ]
    },
    {
     "name": "stderr",
     "output_type": "stream",
     "text": [
      "Transcribing: 100%|███████████████████████████████████████████████████████████████████████████████████████████████| 1/1 [00:00<00:00, 11.59it/s]\n"
     ]
    },
    {
     "name": "stdout",
     "output_type": "stream",
     "text": [
      "it sounded dull that sounded strange and all the more so because of his main condition which was\n",
      "pred_csyl:  31\n",
      "pred sp_rate:  4.183535762483131\n",
      "audio path:  /home/dianasimonyan/Desktop/Thesis/SpeakingRateEstimation/data/LibriSpeech/test-clean-labeled/121/127105/17_18.wav\n",
      "csyl:  18\n",
      "sp_rate:  6.679035250463822\n"
     ]
    },
    {
     "name": "stderr",
     "output_type": "stream",
     "text": [
      "Transcribing: 100%|███████████████████████████████████████████████████████████████████████████████████████████████| 1/1 [00:00<00:00, 19.57it/s]\n"
     ]
    },
    {
     "name": "stdout",
     "output_type": "stream",
     "text": [
      "it was almost the tone of hope everybody will stay\n",
      "pred_csyl:  18\n",
      "pred sp_rate:  6.679035250463822\n",
      "audio path:  /home/dianasimonyan/Desktop/Thesis/SpeakingRateEstimation/data/LibriSpeech/test-clean-labeled/121/127105/2_38.wav\n",
      "csyl:  38\n",
      "sp_rate:  5.070046697798532\n"
     ]
    },
    {
     "name": "stderr",
     "output_type": "stream",
     "text": [
      "Transcribing: 100%|███████████████████████████████████████████████████████████████████████████████████████████████| 1/1 [00:00<00:00,  9.18it/s]\n"
     ]
    },
    {
     "name": "stdout",
     "output_type": "stream",
     "text": [
      "cried one of the women he took no notice of her he looked at me but as if instead of me he saw what he spoke of\n",
      "pred_csyl:  38\n",
      "pred sp_rate:  5.070046697798532\n",
      "audio path:  /home/dianasimonyan/Desktop/Thesis/SpeakingRateEstimation/data/LibriSpeech/test-clean-labeled/121/127105/28_34.wav\n",
      "csyl:  34\n",
      "sp_rate:  5.037037037037037\n"
     ]
    },
    {
     "name": "stderr",
     "output_type": "stream",
     "text": [
      "Transcribing: 100%|███████████████████████████████████████████████████████████████████████████████████████████████| 1/1 [00:00<00:00,  9.16it/s]\n"
     ]
    },
    {
     "name": "stdout",
     "output_type": "stream",
     "text": [
      "the awkward thing was that they had practically no other relations and that his own affairs took up all his time\n",
      "pred_csyl:  34\n",
      "pred sp_rate:  5.037037037037037\n",
      "audio path:  /home/dianasimonyan/Desktop/Thesis/SpeakingRateEstimation/data/LibriSpeech/test-clean-labeled/121/127105/8_10.wav\n",
      "csyl:  10\n",
      "sp_rate:  3.6231884057971016\n"
     ]
    },
    {
     "name": "stderr",
     "output_type": "stream",
     "text": [
      "Transcribing: 100%|███████████████████████████████████████████████████████████████████████████████████████████████| 1/1 [00:00<00:00, 17.49it/s]\n"
     ]
    },
    {
     "name": "stdout",
     "output_type": "stream",
     "text": [
      "he hung fire again a woman's\n",
      "pred_csyl:  10\n",
      "pred sp_rate:  3.6231884057971016\n",
      "audio path:  /home/dianasimonyan/Desktop/Thesis/SpeakingRateEstimation/data/LibriSpeech/test-clean-labeled/121/127105/29_44.wav\n",
      "csyl:  44\n",
      "sp_rate:  6.019151846785226\n"
     ]
    },
    {
     "name": "stderr",
     "output_type": "stream",
     "text": [
      "Transcribing: 100%|███████████████████████████████████████████████████████████████████████████████████████████████| 1/1 [00:00<00:00, 10.15it/s]\n"
     ]
    },
    {
     "name": "stdout",
     "output_type": "stream",
     "text": [
      "there were plenty of people to help but of course the young lady who should go down as governess would be in supreme authority\n",
      "pred_csyl:  44\n",
      "pred sp_rate:  6.019151846785226\n",
      "audio path:  /home/dianasimonyan/Desktop/Thesis/SpeakingRateEstimation/data/LibriSpeech/test-clean-labeled/121/127105/24_73.wav\n",
      "csyl:  73\n",
      "sp_rate:  5.051903114186851\n"
     ]
    },
    {
     "name": "stderr",
     "output_type": "stream",
     "text": [
      "Transcribing:   0%|                                                                                                       | 0/1 [00:00<?, ?it/s]"
     ]
    }
   ],
   "source": [
    "labels_csyl = []\n",
    "labels_sp_rate = []\n",
    "preds_csyl = []\n",
    "preds_sp_rate = []\n",
    "\n",
    "for file in tqdm.tqdm(file_pathes):\n",
    "    # print('audio path: ', file)\n",
    "    \n",
    "    csyl = int(file.split(os.sep)[-1].split('.')[0].split('_')[-1])\n",
    "    labels_csyl.append(csyl)\n",
    "    # print('csyl: ', csyl)\n",
    "\n",
    "    audio, sr = sf.read(file, dtype='float32')\n",
    "    # sd.play(audio, sr)\n",
    "    # status = sd.wait()\n",
    "    audio_len = audio.shape[0]/sr\n",
    "    sp_rate = csyl/audio_len\n",
    "    labels_sp_rate.append(sp_rate)\n",
    "    # print('sp_rate: ', sp_rate)\n",
    "    transcript = asr_model.transcribe(file)\n",
    "\n",
    "    print(transcript[0][0])\n",
    "    pred_csyl = speaking_rate(transcript[0][0])\n",
    "    pred_sp_rate = pred_csyl/audio_len\n",
    "    # print('pred_csyl: ', pred_csyl)\n",
    "    # print('pred sp_rate: ', pred_sp_rate)\n",
    "    "
   ]
  },
  {
   "cell_type": "code",
   "execution_count": null,
   "id": "a747f988-1c09-4178-bd9f-a0738d1ed957",
   "metadata": {},
   "outputs": [],
   "source": []
  }
 ],
 "metadata": {
  "kernelspec": {
   "display_name": "Python 3 (ipykernel)",
   "language": "python",
   "name": "python3"
  },
  "language_info": {
   "codemirror_mode": {
    "name": "ipython",
    "version": 3
   },
   "file_extension": ".py",
   "mimetype": "text/x-python",
   "name": "python",
   "nbconvert_exporter": "python",
   "pygments_lexer": "ipython3",
   "version": "3.10.12"
  }
 },
 "nbformat": 4,
 "nbformat_minor": 5
}
