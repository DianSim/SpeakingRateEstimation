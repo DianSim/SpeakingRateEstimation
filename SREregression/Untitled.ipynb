{
 "cells": [
  {
   "cell_type": "code",
   "execution_count": 1,
   "id": "8e2d71e5-728e-4831-8f08-bc790f765dda",
   "metadata": {},
   "outputs": [],
   "source": [
    "from torch import nn\n",
    "import pickle\n",
    "from torchmetrics.regression import PearsonCorrCoef\n",
    "import torch\n",
    "import numpy as np"
   ]
  },
  {
   "cell_type": "code",
   "execution_count": 2,
   "id": "860aac3a-d4d7-4b56-8cb6-db349f194ebe",
   "metadata": {},
   "outputs": [
    {
     "name": "stdout",
     "output_type": "stream",
     "text": [
      "abs_error_histogram_m2sec  LSTM\t\t\t\t     models_4sec\n",
      "abs_error_histogram_m4sec  MatchBoxNet\t\t\t     models_6sec\n",
      "abs_error_histogram_m8sec  model_eval_on_given_dataset.py    models_8sec\n",
      "abs_error_histograms\t   model_eval.py\t\t     __pycache__\n",
      "augmentation.py\t\t   model_eval_res_common_voices.csv  train.py\n",
      "config.py\t\t   model_eval_res.csv\t\t     Untitled.ipynb\n",
      "data_setup.py\t\t   model.py\t\t\t     utils.py\n",
      "inference.py\t\t   models_2sec\n"
     ]
    }
   ],
   "source": [
    "!ls"
   ]
  },
  {
   "cell_type": "code",
   "execution_count": 1,
   "id": "beecc0ab-9dca-46b4-a5ed-b6ea348e8ff7",
   "metadata": {},
   "outputs": [
    {
     "data": {
      "text/html": [
       "<div>\n",
       "<style scoped>\n",
       "    .dataframe tbody tr th:only-of-type {\n",
       "        vertical-align: middle;\n",
       "    }\n",
       "\n",
       "    .dataframe tbody tr th {\n",
       "        vertical-align: top;\n",
       "    }\n",
       "\n",
       "    .dataframe thead th {\n",
       "        text-align: right;\n",
       "    }\n",
       "</style>\n",
       "<table border=\"1\" class=\"dataframe\">\n",
       "  <thead>\n",
       "    <tr style=\"text-align: right;\">\n",
       "      <th></th>\n",
       "      <th>checkp</th>\n",
       "      <th>Corpus</th>\n",
       "      <th>language</th>\n",
       "      <th>#audios</th>\n",
       "      <th>MAE_csyl</th>\n",
       "      <th>MSE_csyl</th>\n",
       "      <th>PCC_csyl</th>\n",
       "      <th>MAE_sp_rate</th>\n",
       "      <th>PCC_sp_rate</th>\n",
       "    </tr>\n",
       "  </thead>\n",
       "  <tbody>\n",
       "    <tr>\n",
       "      <th>0</th>\n",
       "      <td>best-epoch=105-val_loss=2.41-val_pcc=0.89.ckpt</td>\n",
       "      <td>Common Voice</td>\n",
       "      <td>Armenian</td>\n",
       "      <td>14813</td>\n",
       "      <td>3.1390</td>\n",
       "      <td>15.3902</td>\n",
       "      <td>0.9378</td>\n",
       "      <td>0.5800</td>\n",
       "      <td>0.8035</td>\n",
       "    </tr>\n",
       "    <tr>\n",
       "      <th>1</th>\n",
       "      <td>best-epoch=105-val_loss=2.41-val_pcc=0.89.ckpt</td>\n",
       "      <td>Common Voice</td>\n",
       "      <td>Italian</td>\n",
       "      <td>236600</td>\n",
       "      <td>2.7616</td>\n",
       "      <td>106.5528</td>\n",
       "      <td>0.6562</td>\n",
       "      <td>0.5434</td>\n",
       "      <td>0.2743</td>\n",
       "    </tr>\n",
       "    <tr>\n",
       "      <th>2</th>\n",
       "      <td>best-epoch=105-val_loss=2.41-val_pcc=0.89.ckpt</td>\n",
       "      <td>Common Voice</td>\n",
       "      <td>Spanish</td>\n",
       "      <td>293025</td>\n",
       "      <td>2.9430</td>\n",
       "      <td>16.1324</td>\n",
       "      <td>0.9187</td>\n",
       "      <td>0.5970</td>\n",
       "      <td>0.8381</td>\n",
       "    </tr>\n",
       "    <tr>\n",
       "      <th>3</th>\n",
       "      <td>best-epoch=105-val_loss=2.41-val_pcc=0.89.ckpt</td>\n",
       "      <td>Common Voice</td>\n",
       "      <td>Russian</td>\n",
       "      <td>163387</td>\n",
       "      <td>2.4913</td>\n",
       "      <td>11.3538</td>\n",
       "      <td>0.9570</td>\n",
       "      <td>0.4912</td>\n",
       "      <td>0.8654</td>\n",
       "    </tr>\n",
       "    <tr>\n",
       "      <th>4</th>\n",
       "      <td>best-epoch=105-val_loss=2.41-val_pcc=0.89.ckpt</td>\n",
       "      <td>LibriSpeech test-clean</td>\n",
       "      <td>English</td>\n",
       "      <td>2620</td>\n",
       "      <td>3.2663</td>\n",
       "      <td>20.9417</td>\n",
       "      <td>0.9914</td>\n",
       "      <td>0.4798</td>\n",
       "      <td>0.8581</td>\n",
       "    </tr>\n",
       "  </tbody>\n",
       "</table>\n",
       "</div>"
      ],
      "text/plain": [
       "                                           checkp                  Corpus  \\\n",
       "0  best-epoch=105-val_loss=2.41-val_pcc=0.89.ckpt            Common Voice   \n",
       "1  best-epoch=105-val_loss=2.41-val_pcc=0.89.ckpt            Common Voice   \n",
       "2  best-epoch=105-val_loss=2.41-val_pcc=0.89.ckpt            Common Voice   \n",
       "3  best-epoch=105-val_loss=2.41-val_pcc=0.89.ckpt            Common Voice   \n",
       "4  best-epoch=105-val_loss=2.41-val_pcc=0.89.ckpt  LibriSpeech test-clean   \n",
       "\n",
       "   language  #audios  MAE_csyl  MSE_csyl  PCC_csyl  MAE_sp_rate  PCC_sp_rate  \n",
       "0  Armenian    14813    3.1390   15.3902    0.9378       0.5800       0.8035  \n",
       "1   Italian   236600    2.7616  106.5528    0.6562       0.5434       0.2743  \n",
       "2   Spanish   293025    2.9430   16.1324    0.9187       0.5970       0.8381  \n",
       "3   Russian   163387    2.4913   11.3538    0.9570       0.4912       0.8654  \n",
       "4   English     2620    3.2663   20.9417    0.9914       0.4798       0.8581  "
      ]
     },
     "execution_count": 1,
     "metadata": {},
     "output_type": "execute_result"
    }
   ],
   "source": [
    "import pandas as pd\n",
    "\n",
    "file_path = 'evaluation_results/model_2sec_swa_eval_500epochs.csv'\n",
    "\n",
    "df = pd.read_csv(file_path)\n",
    "\n",
    "df\n"
   ]
  },
  {
   "cell_type": "markdown",
   "id": "f3537918-c3e5-47d3-b0d7-2a8e5eccc9ba",
   "metadata": {},
   "source": [
    "How many syllables will the model say incorrect depends on the length of the audios, the distribution of audio lengthes of the corpus"
   ]
  },
  {
   "cell_type": "code",
   "execution_count": null,
   "id": "cf130097-5750-4599-b65f-bc74576b45e2",
   "metadata": {},
   "outputs": [],
   "source": []
  },
  {
   "cell_type": "code",
   "execution_count": null,
   "id": "f04baefc-825b-4265-9b09-bc9491d82612",
   "metadata": {},
   "outputs": [],
   "source": []
  }
 ],
 "metadata": {
  "kernelspec": {
   "display_name": "Python 3 (ipykernel)",
   "language": "python",
   "name": "python3"
  },
  "language_info": {
   "codemirror_mode": {
    "name": "ipython",
    "version": 3
   },
   "file_extension": ".py",
   "mimetype": "text/x-python",
   "name": "python",
   "nbconvert_exporter": "python",
   "pygments_lexer": "ipython3",
   "version": "3.12.3"
  }
 },
 "nbformat": 4,
 "nbformat_minor": 5
}
