{
 "cells": [
  {
   "cell_type": "code",
   "execution_count": 4,
   "id": "beecc0ab-9dca-46b4-a5ed-b6ea348e8ff7",
   "metadata": {},
   "outputs": [
    {
     "data": {
      "text/html": [
       "<div>\n",
       "<style scoped>\n",
       "    .dataframe tbody tr th:only-of-type {\n",
       "        vertical-align: middle;\n",
       "    }\n",
       "\n",
       "    .dataframe tbody tr th {\n",
       "        vertical-align: top;\n",
       "    }\n",
       "\n",
       "    .dataframe thead th {\n",
       "        text-align: right;\n",
       "    }\n",
       "</style>\n",
       "<table border=\"1\" class=\"dataframe\">\n",
       "  <thead>\n",
       "    <tr style=\"text-align: right;\">\n",
       "      <th></th>\n",
       "      <th>Model</th>\n",
       "      <th>Corpus</th>\n",
       "      <th>#audios</th>\n",
       "      <th>Language</th>\n",
       "      <th>MSE_csyl</th>\n",
       "      <th>PCC_csyl</th>\n",
       "      <th>MSE_sp_rate</th>\n",
       "      <th>PCC_sp_rate</th>\n",
       "    </tr>\n",
       "  </thead>\n",
       "  <tbody>\n",
       "    <tr>\n",
       "      <th>0</th>\n",
       "      <td>rMatchBoxNet-3x2x112</td>\n",
       "      <td>LibriSpeech-test-clean</td>\n",
       "      <td>2620</td>\n",
       "      <td>English</td>\n",
       "      <td>16.8507</td>\n",
       "      <td>0.9918</td>\n",
       "      <td>0.3168</td>\n",
       "      <td>0.8632</td>\n",
       "    </tr>\n",
       "    <tr>\n",
       "      <th>1</th>\n",
       "      <td>rMatchBoxNet-3x2x112</td>\n",
       "      <td>Common Voice</td>\n",
       "      <td>14813</td>\n",
       "      <td>Armenian</td>\n",
       "      <td>18.4633</td>\n",
       "      <td>0.9399</td>\n",
       "      <td>0.5852</td>\n",
       "      <td>0.8106</td>\n",
       "    </tr>\n",
       "    <tr>\n",
       "      <th>2</th>\n",
       "      <td>rMatchBoxNet-3x2x112</td>\n",
       "      <td>Common Voice</td>\n",
       "      <td>163387</td>\n",
       "      <td>Russian</td>\n",
       "      <td>10.7650</td>\n",
       "      <td>0.9593</td>\n",
       "      <td>0.4041</td>\n",
       "      <td>0.8721</td>\n",
       "    </tr>\n",
       "    <tr>\n",
       "      <th>3</th>\n",
       "      <td>rMatchBoxNet-3x2x112</td>\n",
       "      <td>Common Voice</td>\n",
       "      <td>6717</td>\n",
       "      <td>English</td>\n",
       "      <td>6.5434</td>\n",
       "      <td>0.9233</td>\n",
       "      <td>0.2339</td>\n",
       "      <td>0.8248</td>\n",
       "    </tr>\n",
       "    <tr>\n",
       "      <th>4</th>\n",
       "      <td>rMatchBoxNet-3x2x112</td>\n",
       "      <td>Common Voice</td>\n",
       "      <td>236600</td>\n",
       "      <td>Italian</td>\n",
       "      <td>104.0783</td>\n",
       "      <td>0.6590</td>\n",
       "      <td>13.2657</td>\n",
       "      <td>0.2781</td>\n",
       "    </tr>\n",
       "  </tbody>\n",
       "</table>\n",
       "</div>"
      ],
      "text/plain": [
       "                  Model                  Corpus  #audios  Language  MSE_csyl  \\\n",
       "0  rMatchBoxNet-3x2x112  LibriSpeech-test-clean     2620   English   16.8507   \n",
       "1  rMatchBoxNet-3x2x112            Common Voice    14813  Armenian   18.4633   \n",
       "2  rMatchBoxNet-3x2x112            Common Voice   163387   Russian   10.7650   \n",
       "3  rMatchBoxNet-3x2x112            Common Voice     6717   English    6.5434   \n",
       "4  rMatchBoxNet-3x2x112            Common Voice   236600   Italian  104.0783   \n",
       "\n",
       "   PCC_csyl  MSE_sp_rate  PCC_sp_rate  \n",
       "0    0.9918       0.3168       0.8632  \n",
       "1    0.9399       0.5852       0.8106  \n",
       "2    0.9593       0.4041       0.8721  \n",
       "3    0.9233       0.2339       0.8248  \n",
       "4    0.6590      13.2657       0.2781  "
      ]
     },
     "execution_count": 4,
     "metadata": {},
     "output_type": "execute_result"
    }
   ],
   "source": [
    "import pandas as pd\n",
    "\n",
    "file_path = 'model_eval_res_common_voices.csv'\n",
    "\n",
    "df = pd.read_csv(file_path)\n",
    "\n",
    "df.head()\n"
   ]
  },
  {
   "cell_type": "markdown",
   "id": "f3537918-c3e5-47d3-b0d7-2a8e5eccc9ba",
   "metadata": {},
   "source": [
    "How many syllables will the model say incorrect depends on the length of the audios, the distribution of audio lengthes of the corpus"
   ]
  },
  {
   "cell_type": "code",
   "execution_count": null,
   "id": "f1157544-66e0-4a13-8813-fc2efd3e2f92",
   "metadata": {},
   "outputs": [],
   "source": []
  }
 ],
 "metadata": {
  "kernelspec": {
   "display_name": "Python 3 (ipykernel)",
   "language": "python",
   "name": "python3"
  },
  "language_info": {
   "codemirror_mode": {
    "name": "ipython",
    "version": 3
   },
   "file_extension": ".py",
   "mimetype": "text/x-python",
   "name": "python",
   "nbconvert_exporter": "python",
   "pygments_lexer": "ipython3",
   "version": "3.10.14"
  }
 },
 "nbformat": 4,
 "nbformat_minor": 5
}
