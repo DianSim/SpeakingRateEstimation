{
 "cells": [
  {
   "cell_type": "code",
   "execution_count": 1,
   "id": "8e2d71e5-728e-4831-8f08-bc790f765dda",
   "metadata": {},
   "outputs": [],
   "source": [
    "from torch import nn\n",
    "import pickle\n",
    "from torchmetrics.regression import PearsonCorrCoef\n",
    "import torch\n",
    "import numpy as np"
   ]
  },
  {
   "cell_type": "code",
   "execution_count": 2,
   "id": "860aac3a-d4d7-4b56-8cb6-db349f194ebe",
   "metadata": {},
   "outputs": [
    {
     "name": "stdout",
     "output_type": "stream",
     "text": [
      "abs_error_histogram_m2sec  inference_time_computation.py   models_6sec\n",
      "abs_error_histogram_m4sec  LSTM\t\t\t\t   models_8sec\n",
      "abs_error_histogram_m8sec  MatchBoxNet\t\t\t   noise_mixing.py\n",
      "abs_error_histograms\t   model_eval_on_given_dataset.py  __pycache__\n",
      "augmentation.py\t\t   model_eval.py\t\t   train.py\n",
      "config.py\t\t   model.py\t\t\t   Untitled.ipynb\n",
      "data_setup.py\t\t   models\t\t\t   utils.py\n",
      "evaluation_results\t   models_2sec\n",
      "inference.py\t\t   models_4sec\n"
     ]
    }
   ],
   "source": [
    "!ls"
   ]
  },
  {
   "cell_type": "code",
   "execution_count": 3,
   "id": "beecc0ab-9dca-46b4-a5ed-b6ea348e8ff7",
   "metadata": {},
   "outputs": [
    {
     "data": {
      "text/html": [
       "<div>\n",
       "<style scoped>\n",
       "    .dataframe tbody tr th:only-of-type {\n",
       "        vertical-align: middle;\n",
       "    }\n",
       "\n",
       "    .dataframe tbody tr th {\n",
       "        vertical-align: top;\n",
       "    }\n",
       "\n",
       "    .dataframe thead th {\n",
       "        text-align: right;\n",
       "    }\n",
       "</style>\n",
       "<table border=\"1\" class=\"dataframe\">\n",
       "  <thead>\n",
       "    <tr style=\"text-align: right;\">\n",
       "      <th></th>\n",
       "      <th>checkp</th>\n",
       "      <th>Corpus</th>\n",
       "      <th>language</th>\n",
       "      <th>#audios</th>\n",
       "      <th>MAE_csyl</th>\n",
       "      <th>MSE_csyl</th>\n",
       "      <th>PCC_csyl</th>\n",
       "      <th>MAE_sp_rate</th>\n",
       "      <th>PCC_sp_rate</th>\n",
       "    </tr>\n",
       "  </thead>\n",
       "  <tbody>\n",
       "    <tr>\n",
       "      <th>0</th>\n",
       "      <td>best-epoch=260-val_loss=2.28-val_pcc=0.89-val_...</td>\n",
       "      <td>LibriSpeech test</td>\n",
       "      <td>English</td>\n",
       "      <td>2620</td>\n",
       "      <td>2.8593</td>\n",
       "      <td>16.5026</td>\n",
       "      <td>0.9918</td>\n",
       "      <td>0.4288</td>\n",
       "      <td>0.8625</td>\n",
       "    </tr>\n",
       "    <tr>\n",
       "      <th>1</th>\n",
       "      <td>best-epoch=260-val_loss=2.28-val_pcc=0.89-val_...</td>\n",
       "      <td>Common Voice</td>\n",
       "      <td>Armenian</td>\n",
       "      <td>14813</td>\n",
       "      <td>3.6193</td>\n",
       "      <td>19.2336</td>\n",
       "      <td>0.9385</td>\n",
       "      <td>0.6689</td>\n",
       "      <td>0.8053</td>\n",
       "    </tr>\n",
       "    <tr>\n",
       "      <th>2</th>\n",
       "      <td>best-epoch=260-val_loss=2.28-val_pcc=0.89-val_...</td>\n",
       "      <td>Common Voice</td>\n",
       "      <td>English</td>\n",
       "      <td>200000</td>\n",
       "      <td>2.0044</td>\n",
       "      <td>7.6240</td>\n",
       "      <td>0.9354</td>\n",
       "      <td>0.3982</td>\n",
       "      <td>0.8696</td>\n",
       "    </tr>\n",
       "    <tr>\n",
       "      <th>3</th>\n",
       "      <td>best-epoch=260-val_loss=2.28-val_pcc=0.89-val_...</td>\n",
       "      <td>Common Voice</td>\n",
       "      <td>Italian</td>\n",
       "      <td>236600</td>\n",
       "      <td>2.5022</td>\n",
       "      <td>104.1053</td>\n",
       "      <td>0.6577</td>\n",
       "      <td>0.4974</td>\n",
       "      <td>0.2767</td>\n",
       "    </tr>\n",
       "    <tr>\n",
       "      <th>4</th>\n",
       "      <td>best-epoch=260-val_loss=2.28-val_pcc=0.89-val_...</td>\n",
       "      <td>Common Voice</td>\n",
       "      <td>Russian</td>\n",
       "      <td>163387</td>\n",
       "      <td>2.5490</td>\n",
       "      <td>11.1737</td>\n",
       "      <td>0.9584</td>\n",
       "      <td>0.5167</td>\n",
       "      <td>0.8665</td>\n",
       "    </tr>\n",
       "    <tr>\n",
       "      <th>5</th>\n",
       "      <td>best-epoch=260-val_loss=2.28-val_pcc=0.89-val_...</td>\n",
       "      <td>Common Voice</td>\n",
       "      <td>Spanish</td>\n",
       "      <td>293025</td>\n",
       "      <td>2.8254</td>\n",
       "      <td>14.4898</td>\n",
       "      <td>0.9168</td>\n",
       "      <td>0.5790</td>\n",
       "      <td>0.8321</td>\n",
       "    </tr>\n",
       "  </tbody>\n",
       "</table>\n",
       "</div>"
      ],
      "text/plain": [
       "                                              checkp            Corpus  \\\n",
       "0  best-epoch=260-val_loss=2.28-val_pcc=0.89-val_...  LibriSpeech test   \n",
       "1  best-epoch=260-val_loss=2.28-val_pcc=0.89-val_...      Common Voice   \n",
       "2  best-epoch=260-val_loss=2.28-val_pcc=0.89-val_...      Common Voice   \n",
       "3  best-epoch=260-val_loss=2.28-val_pcc=0.89-val_...      Common Voice   \n",
       "4  best-epoch=260-val_loss=2.28-val_pcc=0.89-val_...      Common Voice   \n",
       "5  best-epoch=260-val_loss=2.28-val_pcc=0.89-val_...      Common Voice   \n",
       "\n",
       "   language  #audios  MAE_csyl  MSE_csyl  PCC_csyl  MAE_sp_rate  PCC_sp_rate  \n",
       "0   English     2620    2.8593   16.5026    0.9918       0.4288       0.8625  \n",
       "1  Armenian    14813    3.6193   19.2336    0.9385       0.6689       0.8053  \n",
       "2   English   200000    2.0044    7.6240    0.9354       0.3982       0.8696  \n",
       "3   Italian   236600    2.5022  104.1053    0.6577       0.4974       0.2767  \n",
       "4   Russian   163387    2.5490   11.1737    0.9584       0.5167       0.8665  \n",
       "5   Spanish   293025    2.8254   14.4898    0.9168       0.5790       0.8321  "
      ]
     },
     "execution_count": 3,
     "metadata": {},
     "output_type": "execute_result"
    }
   ],
   "source": [
    "import pandas as pd\n",
    "\n",
    "file_path = 'evaluation_results/model_2sec_swa_lin-5e-2_swast150_annepch_5_eval.csv'\n",
    "\n",
    "df = pd.read_csv(file_path)\n",
    "\n",
    "df\n"
   ]
  },
  {
   "cell_type": "markdown",
   "id": "f3537918-c3e5-47d3-b0d7-2a8e5eccc9ba",
   "metadata": {},
   "source": [
    "How many syllables will the model say incorrect depends on the length of the audios, the distribution of audio lengthes of the corpus"
   ]
  },
  {
   "cell_type": "code",
   "execution_count": null,
   "id": "cf130097-5750-4599-b65f-bc74576b45e2",
   "metadata": {},
   "outputs": [],
   "source": []
  },
  {
   "cell_type": "code",
   "execution_count": null,
   "id": "f04baefc-825b-4265-9b09-bc9491d82612",
   "metadata": {},
   "outputs": [],
   "source": []
  }
 ],
 "metadata": {
  "kernelspec": {
   "display_name": "Python 3 (ipykernel)",
   "language": "python",
   "name": "python3"
  },
  "language_info": {
   "codemirror_mode": {
    "name": "ipython",
    "version": 3
   },
   "file_extension": ".py",
   "mimetype": "text/x-python",
   "name": "python",
   "nbconvert_exporter": "python",
   "pygments_lexer": "ipython3",
   "version": "3.12.3"
  }
 },
 "nbformat": 4,
 "nbformat_minor": 5
}
