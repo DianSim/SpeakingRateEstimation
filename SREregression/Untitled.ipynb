{
 "cells": [
  {
   "cell_type": "code",
   "execution_count": 1,
   "id": "8e2d71e5-728e-4831-8f08-bc790f765dda",
   "metadata": {},
   "outputs": [],
   "source": [
    "from torch import nn\n",
    "import pickle\n",
    "from torchmetrics.regression import PearsonCorrCoef\n",
    "import torch\n",
    "import numpy as np"
   ]
  },
  {
   "cell_type": "code",
   "execution_count": 2,
   "id": "860aac3a-d4d7-4b56-8cb6-db349f194ebe",
   "metadata": {},
   "outputs": [
    {
     "name": "stdout",
     "output_type": "stream",
     "text": [
      "abs_error_histogram_m2sec  LSTM\t\t\t\t     models_4sec\n",
      "abs_error_histogram_m4sec  MatchBoxNet\t\t\t     models_6sec\n",
      "abs_error_histogram_m8sec  model_eval_on_given_dataset.py    models_8sec\n",
      "abs_error_histograms\t   model_eval.py\t\t     __pycache__\n",
      "augmentation.py\t\t   model_eval_res_common_voices.csv  train.py\n",
      "config.py\t\t   model_eval_res.csv\t\t     Untitled.ipynb\n",
      "data_setup.py\t\t   model.py\t\t\t     utils.py\n",
      "inference.py\t\t   models_2sec\n"
     ]
    }
   ],
   "source": [
    "!ls"
   ]
  },
  {
   "cell_type": "code",
   "execution_count": 7,
   "id": "beecc0ab-9dca-46b4-a5ed-b6ea348e8ff7",
   "metadata": {},
   "outputs": [
    {
     "data": {
      "text/html": [
       "<div>\n",
       "<style scoped>\n",
       "    .dataframe tbody tr th:only-of-type {\n",
       "        vertical-align: middle;\n",
       "    }\n",
       "\n",
       "    .dataframe tbody tr th {\n",
       "        vertical-align: top;\n",
       "    }\n",
       "\n",
       "    .dataframe thead th {\n",
       "        text-align: right;\n",
       "    }\n",
       "</style>\n",
       "<table border=\"1\" class=\"dataframe\">\n",
       "  <thead>\n",
       "    <tr style=\"text-align: right;\">\n",
       "      <th></th>\n",
       "      <th>Model</th>\n",
       "      <th>Corpus</th>\n",
       "      <th>language</th>\n",
       "      <th>#audios</th>\n",
       "      <th>MAE_csyl</th>\n",
       "      <th>MSE_csyl</th>\n",
       "      <th>PCC_csyl</th>\n",
       "      <th>MAE_sp_rate</th>\n",
       "      <th>PCC_sp_rate</th>\n",
       "    </tr>\n",
       "  </thead>\n",
       "  <tbody>\n",
       "    <tr>\n",
       "      <th>0</th>\n",
       "      <td>rMatchBoxNet-3x2x112</td>\n",
       "      <td>Common Voice</td>\n",
       "      <td>Armenian</td>\n",
       "      <td>14813</td>\n",
       "      <td>5.0302</td>\n",
       "      <td>33.452</td>\n",
       "      <td>0.935</td>\n",
       "      <td>0.9353</td>\n",
       "      <td>0.7916</td>\n",
       "    </tr>\n",
       "  </tbody>\n",
       "</table>\n",
       "</div>"
      ],
      "text/plain": [
       "                  Model        Corpus  language  #audios  MAE_csyl  MSE_csyl  \\\n",
       "0  rMatchBoxNet-3x2x112  Common Voice  Armenian    14813    5.0302    33.452   \n",
       "\n",
       "   PCC_csyl  MAE_sp_rate  PCC_sp_rate  \n",
       "0     0.935       0.9353       0.7916  "
      ]
     },
     "execution_count": 7,
     "metadata": {},
     "output_type": "execute_result"
    }
   ],
   "source": [
    "import pandas as pd\n",
    "\n",
    "file_path = 'model_eval_res_common_voices2.csv'\n",
    "\n",
    "df = pd.read_csv(file_path)\n",
    "\n",
    "df\n"
   ]
  },
  {
   "cell_type": "markdown",
   "id": "f3537918-c3e5-47d3-b0d7-2a8e5eccc9ba",
   "metadata": {},
   "source": [
    "How many syllables will the model say incorrect depends on the length of the audios, the distribution of audio lengthes of the corpus"
   ]
  },
  {
   "cell_type": "code",
   "execution_count": null,
   "id": "cf130097-5750-4599-b65f-bc74576b45e2",
   "metadata": {},
   "outputs": [],
   "source": []
  },
  {
   "cell_type": "code",
   "execution_count": null,
   "id": "f04baefc-825b-4265-9b09-bc9491d82612",
   "metadata": {},
   "outputs": [],
   "source": []
  }
 ],
 "metadata": {
  "kernelspec": {
   "display_name": "Python 3 (ipykernel)",
   "language": "python",
   "name": "python3"
  },
  "language_info": {
   "codemirror_mode": {
    "name": "ipython",
    "version": 3
   },
   "file_extension": ".py",
   "mimetype": "text/x-python",
   "name": "python",
   "nbconvert_exporter": "python",
   "pygments_lexer": "ipython3",
   "version": "3.12.2"
  }
 },
 "nbformat": 4,
 "nbformat_minor": 5
}
